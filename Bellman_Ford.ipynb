{
  "nbformat": 4,
  "nbformat_minor": 0,
  "metadata": {
    "colab": {
      "provenance": [],
      "authorship_tag": "ABX9TyOTGanzWxc2eMdiOf03XSg8",
      "include_colab_link": true
    },
    "kernelspec": {
      "name": "python3",
      "display_name": "Python 3"
    },
    "language_info": {
      "name": "python"
    }
  },
  "cells": [
    {
      "cell_type": "markdown",
      "metadata": {
        "id": "view-in-github",
        "colab_type": "text"
      },
      "source": [
        "<a href=\"https://colab.research.google.com/github/Jmorgado125/ADA-Informes/blob/main/Bellman_Ford.ipynb\" target=\"_parent\"><img src=\"https://colab.research.google.com/assets/colab-badge.svg\" alt=\"Open In Colab\"/></a>"
      ]
    },
    {
      "cell_type": "markdown",
      "source": [
        "# Bellman-Ford "
      ],
      "metadata": {
        "id": "ZP0DSlJmbDVY"
      }
    },
    {
      "cell_type": "markdown",
      "source": [
        "##1. Descripcion del Problema \n",
        "\n"
      ],
      "metadata": {
        "id": "PhKkCm0rbEh4"
      }
    },
    {
      "cell_type": "markdown",
      "source": [
        "---\n",
        "La versión del problema, con una única fuente, tiene como objetivo encontrar la distancia más corta entre un vértice inicial o fuente $s$ y todos los nodos del grafo $G=(V,E)$\n",
        "\n",
        "se define como distancia entre los nodos como la suma de los arcos del camino.\n",
        "\n",
        "![image](https://imgur.com/0Drov9v.png)\n",
        "\n",
        "\n",
        "\n",
        "---\n",
        "**Entrada**: Un grafo dirigido $G=(V,E)$, un vértice inicial $s\\in V$, y un valor real $l_e \\geq 0$ asociado a cada arco $e\\in E$.\n",
        "\n",
        "**Salida**: La distancia más corta $dist(s,v)$ para cada vértice $v\\in V$.\n",
        "\n",
        "---"
      ],
      "metadata": {
        "id": "a2lPLvNcdY6S"
      }
    },
    {
      "cell_type": "markdown",
      "source": [
        "##2. Descripcion Del algoritmo "
      ],
      "metadata": {
        "id": "RmSxu5dQbDdA"
      }
    },
    {
      "cell_type": "markdown",
      "source": [
        "### Algoritmo Bellmon-Ford \n",
        "\n",
        "El algoritmo de Bellman-Ford resuelve el problema del camino más corto de una sola fuente en grafos con longitudes de aristas negativas en el sentido de que o bien calcula las distancias correctas del camino más corto o bien determina correctamente que el grafo de entrada tiene un ciclo negativo.\n",
        "\n",
        "![image](https://imgur.com/2W4bMVn.png)\n",
        "\n",
        "---\n",
        "\n",
        "La programación dinámica se utiliza en el algoritmo de Bellman-Ford. Comienza con un vértice inicial y calcula las distancias entre otros vértices que puede alcanzar una sola arista. A continuación, busca un camino con dos aristas, y así sucesivamente. El algoritmo de Bellman-Ford utiliza el enfoque ascendente.\n",
        "\n",
        "Basado en el \"Principio de Relajación\", los valores más precisos recuperan gradualmente una aproximación a la distancia adecuada hasta alcanzar finalmente la solución óptima.\n",
        "\n",
        "Las aristas de peso negativo pueden generar ciclos de peso negativo, que reducen la distancia total del camino al volver al mismo punto.\n",
        "\n",
        "---\n",
        "\n",
        "Definimos la siguiente Subestructura optima para la aplicacion del algoritmo.\n",
        "\n",
        "### **Subestructura óptima**\n",
        "\n",
        "\n",
        "\n",
        "Supongamos que la cantidad de arcos de la ruta óptima $P$ para ir de $s$ a $v$ es $i$. la ruta más corta $P$ la podríamos obtener calculando las rutas más cortas $P’$  entre $s$ y un nodo intermedio $w$, limitada a $i-1$ arcos. Luego, sumaríamos la distancia entre $w$ y $v$, y nos quedaríamos con la mejor alternativa.\n",
        "\n",
        "![image](https://imgur.com/QQXhJ7Q.png)\n",
        "\n",
        "\n",
        "### Funcionamiento \n",
        "\n",
        "El algoritmo calcula las rutas más cortas de forma ascendente. \n",
        " \n",
        "\n",
        "1.   Primero calcula las distancias más cortas que tienen como máximo un borde en el camino. \n",
        "2.   Luego, calcula los caminos más cortos con 2 aristas como máximo, y así sucesivamente.\n",
        "3. Después de la i-ésima iteración del bucle exterior, se calculan los caminos más cortos con como máximo i aristas.Puede haber un máximo de |V| – 1 aristas en cualquier camino simple, por eso el ciclo externo ejecuta |v| - 1 vez.\n",
        "\n",
        "La idea es, asumiendo que no hay un ciclo de peso negativo si hemos calculado las rutas más cortas con como máximo aristas i, entonces una iteración sobre todas las aristas garantiza dar la ruta más corta con aristas como máximo (i+1)\n",
        "\n"
      ],
      "metadata": {
        "id": "VLREJJmlhjOQ"
      }
    },
    {
      "cell_type": "markdown",
      "source": [
        "*Implementacion Algoritmo*\n",
        "\n",
        "\n"
      ],
      "metadata": {
        "id": "_j5aN801dDlR"
      }
    },
    {
      "cell_type": "code",
      "source": [
        "\n",
        "class Graph:\n",
        "\n",
        "\tdef __init__(self, vertices):\n",
        "\t\tself.V = vertices # No. of vertices\n",
        "\t\tself.graph = []\n",
        "\n",
        "\t# function to add an edge to graph\n",
        "\tdef addEdge(self, u, v, w):\n",
        "\t\tself.graph.append([u, v, w])\n",
        "\n",
        "\t# utility function used to print the solution\n",
        "\tdef printArr(self, dist):\n",
        "\t\tprint(\"Vertex Distance from Source\")\n",
        "\t\tfor i in range(self.V):\n",
        "\t\t\tprint(\"{0}\\t\\t{1}\".format(i, dist[i]))\n",
        "\n",
        "\t# The main function that finds shortest distances from src to\n",
        "\t# all other vertices using Bellman-Ford algorithm. The function\n",
        "\t# also detects negative weight cycle\n",
        "\tdef BellmanFord(self, src):\n",
        "\n",
        "\t\t# Step 1: Initialize distances from src to all other vertices\n",
        "\t\t# as INFINITE\n",
        "\t\tdist = [float(\"Inf\")] * self.V\n",
        "\t\tdist[src] = 0\n",
        "\n",
        "\t\t# Step 2: Relax all edges |V| - 1 times. A simple shortest\n",
        "\t\t# path from src to any other vertex can have at-most |V| - 1\n",
        "\t\t# edges\n",
        "\t\tfor _ in range(self.V - 1):\n",
        "\t\t\t# Update dist value and parent index of the adjacent vertices of\n",
        "\t\t\t# the picked vertex. Consider only those vertices which are still in\n",
        "\t\t\t# queue\n",
        "\t\t\tfor u, v, w in self.graph:\n",
        "\t\t\t\tif dist[u] != float(\"Inf\") and dist[u] + w < dist[v]:\n",
        "\t\t\t\t\tdist[v] = dist[u] + w\n",
        "\n",
        "\t\t# Step 3: check for negative-weight cycles. The above step\n",
        "\t\t# guarantees shortest distances if graph doesn't contain\n",
        "\t\t# negative weight cycle. If we get a shorter path, then there\n",
        "\t\t# is a cycle.\n",
        "\n",
        "\t\tfor u, v, w in self.graph:\n",
        "\t\t\tif dist[u] != float(\"Inf\") and dist[u] + w < dist[v]:\n",
        "\t\t\t\tprint(\"Graph contains negative weight cycle\")\n",
        "\t\t\t\treturn\n",
        "\n",
        "\t\t# print all distance\n",
        "\t\tself.printArr(dist)\n"
      ],
      "metadata": {
        "id": "RdbFIxn3t5Lg"
      },
      "execution_count": null,
      "outputs": []
    },
    {
      "cell_type": "markdown",
      "source": [
        "##3. Complejidad Temporal \n",
        "\n",
        "\n",
        "### Mejor Caso\n",
        "Si la relajación de las aristas se produce de izquierda a derecha en el gráfico anterior, el algoritmo sólo tendría que realizar una iteración de relajación para encontrar el camino más corto, lo que resulta en una complejidad temporal de **O(E)** correspondiente al número de aristas del gráfico.\n",
        "\n",
        "### Caso Promedio\n",
        "\n",
        "Puede reducir el tiempo de ejecución en el peor de los casos deteniendo el algoritmo cuando no se realicen cambios en los valores de la ruta. Como resultado, habrá menos iteraciones.\n",
        "\n",
        "Otra forma de mejorarlo es ignorar cualquier vértice V con un valor de distancia que no haya cambiado desde la última relajación en iteraciones posteriores, reduciendo el número de aristas que necesitan ser relajadas y aumentando el número de aristas con valores correctos después de cada iteración. Hay más información disponible en el enlace que aparece al final de este post.\n",
        "\n",
        "La relajación se produce |V| - 1 vez por cada |E| el número de aristas, por lo que se multiplican los dos y se obtiene la media, que es la complejidad temporal cuadrática de \n",
        "\n",
        "**O(E V)**\n",
        "\n",
        "\n",
        "\n",
        "### Peor Caso\n",
        "\n",
        "Cuando se encuentra un ciclo negativo en el gráfico, se puede tener el peor escenario posible.\n",
        "\n",
        "En un grafo completo con aristas entre cada par de vértices, y suponiendo que se ha encontrado el camino más corto en las primeras iteraciones o repeticiones pero que se sigue con la relajación de aristas, se tendría que relajar |E| * (|E| - 1) / 2 aristas, (|V| - 1) número de veces.\n",
        "\n",
        "En el peor de los casos, en el caso de un grafo completo, la complejidad temporal es la siguiente\n",
        "\n",
        "**O(|V|2) = O(E V) * O(|V|) = O (V3)**"
      ],
      "metadata": {
        "id": "esj-e1PrbDj4"
      }
    },
    {
      "cell_type": "markdown",
      "source": [
        "##4. Correctitud"
      ],
      "metadata": {
        "id": "qFIOqLDBbDrQ"
      }
    },
    {
      "cell_type": "markdown",
      "source": [
        "##5. Experimentacion "
      ],
      "metadata": {
        "id": "JiQeEMGubD1X"
      }
    },
    {
      "cell_type": "code",
      "source": [
        "#GENERADOR DE INSTANCIAS\n",
        "\n",
        "import random\n",
        "\n",
        "def is_valid_edge(generated_edges: dict, i: int, j: int):\n",
        "    return i != j and not generated_edges.get((i, j), None) and not generated_edges.get((j, i), None)\n",
        "\n",
        "def instance_generator(n: int):\n",
        "    \"\"\"\n",
        "        Input: cantidad de vértices\n",
        "        Output: una lista que contiene todos los arcos y el número del vértice fuente (la función retorna dos variables).\n",
        "        Los arcos vienen en la forma (i, j, weight), donde i es el vértice origen del arco y j el vértice al que apunta el arco, mientras que weight es su peso.\n",
        "    \"\"\"\n",
        "    graph = []\n",
        "    nodes = random.sample(range(0, n), n)\n",
        "    unvisited_nodes = random.sample(range(0, n), n)\n",
        "    \n",
        "    generated_edges = {}\n",
        "    for i in nodes:\n",
        "        rand = random.sample(nodes, random.randint(1, 3))\n",
        "\n",
        "        for j in rand:\n",
        "            edge = (i, j)\n",
        "            edge_with_weight = (i, j, random.randint(1, 100))\n",
        "            \n",
        "            if generated_edges.get((edge[1], edge[0]), None):\n",
        "                continue\n",
        "            \n",
        "            if i == j:\n",
        "                new_vertice = None\n",
        "                iterations = 0\n",
        "                while new_vertice is None and iterations < 250:\n",
        "                    iterations += 1\n",
        "                    number = random.randint(0, n - 1)\n",
        "                    if is_valid_edge(generated_edges, i, number):\n",
        "                        new_vertice = number\n",
        "\n",
        "                if iterations >= 250:\n",
        "                    return instance_generator(n)\n",
        "                \n",
        "                edge = (i, new_vertice)\n",
        "                edge_with_weight = (i, new_vertice, random.randint(-25, 100)) # -25 y 100 corresponde a los límites de los pesos, puede cambiarlos.\n",
        "            \n",
        "            graph.append(edge_with_weight)\n",
        "            generated_edges[edge] = edge\n",
        "\n",
        "            if edge_with_weight[1] in unvisited_nodes:\n",
        "                unvisited_nodes.remove(edge_with_weight[1])\n",
        "\n",
        "    for i in unvisited_nodes:\n",
        "        valid_edge = False\n",
        "        iterations = 0\n",
        "        while not valid_edge and iterations < 250:\n",
        "            iterations += 1\n",
        "            m = random.randint(0, n - 1)\n",
        "            if is_valid_edge(generated_edges, m, i):\n",
        "                valid_edge = True\n",
        "                edge = (m, i)\n",
        "                edge_with_weight = (m, i, random.randint(-25, 100)) # -25 y 100 corresponde a los límites de los pesos, puede cambiarlos.\n",
        "                graph.append(edge_with_weight)\n",
        "                generated_edges[edge] = edge\n",
        "\n",
        "        if iterations >= 250:\n",
        "            return instance_generator(n)\n",
        "\n",
        "    return graph, graph[0][0]"
      ],
      "metadata": {
        "id": "c7tWEQ4gdG_5"
      },
      "execution_count": null,
      "outputs": []
    },
    {
      "cell_type": "markdown",
      "source": [
        "Algoritmo Dijkstra"
      ],
      "metadata": {
        "id": "cS1eLaD2s5s3"
      }
    },
    {
      "cell_type": "code",
      "source": [
        "import sys\n",
        "\n",
        "\n",
        "class Graph():\n",
        "\n",
        "\tdef __init__(self, vertices):\n",
        "\t\tself.V = vertices\n",
        "\t\tself.graph = [[0 for column in range(vertices)]\n",
        "\t\t\t\t\tfor row in range(vertices)]\n",
        "\n",
        "\tdef printSolution(self, dist):\n",
        "\t\tprint(\"Vertex \\tDistance from Source\")\n",
        "\t\tfor node in range(self.V):\n",
        "\t\t\tprint(node, \"\\t\", dist[node])\n",
        "\n",
        "\tdef minDistance(self, dist, sptSet):\n",
        "\n",
        "\t\tmin = sys.maxsize\n",
        "\n",
        "\t\tfor u in range(self.V):\n",
        "\t\t\tif dist[u] < min and sptSet[u] == False:\n",
        "\t\t\t\tmin = dist[u]\n",
        "\t\t\t\tmin_index = u\n",
        "\n",
        "\t\treturn min_index\n",
        "\tdef dijkstra(self, src):\n",
        "\n",
        "\t\tdist = [sys.maxsize] * self.V\n",
        "\t\tdist[src] = 0\n",
        "\t\tsptSet = [False] * self.V\n",
        "\n",
        "\t\tfor cout in range(self.V):\n",
        "\t\t\tx = self.minDistance(dist, sptSet)\n",
        "\n",
        "\t\t\tsptSet[x] = True\n",
        "\n",
        "\t\t\tfor y in range(self.V):\n",
        "\t\t\t\tif self.graph[x][y] > 0 and sptSet[y] == False and \\\n",
        "\t\t\t\t\t\tdist[y] > dist[x] + self.graph[x][y]:\n",
        "\t\t\t\t\tdist[y] = dist[x] + self.graph[x][y]\n",
        "\n",
        "\t\tself.printSolution(dist)\n",
        "\n",
        "\n",
        "# Driver's code\n",
        "if __name__ == \"__main__\":\n",
        "\tg = Graph(9)\n",
        "\tg.graph = [[0, 4, 0, 0, 0, 0, 0, 8, 0],\n",
        "\t\t\t[4, 0, 8, 0, 0, 0, 0, 11, 0],\n",
        "\t\t\t[0, 8, 0, 7, 0, 4, 0, 0, 2],\n",
        "\t\t\t[0, 0, 7, 0, 9, 14, 0, 0, 0],\n",
        "\t\t\t[0, 0, 0, 9, 0, 10, 0, 0, 0],\n",
        "\t\t\t[0, 0, 4, 14, 10, 0, 2, 0, 0],\n",
        "\t\t\t[0, 0, 0, 0, 0, 2, 0, 1, 6],\n",
        "\t\t\t[8, 11, 0, 0, 0, 0, 1, 0, 7],\n",
        "\t\t\t[0, 0, 2, 0, 0, 0, 6, 7, 0]\n",
        "\t\t\t]\n",
        "\n",
        "\tg.dijkstra(0)\n",
        "\n"
      ],
      "metadata": {
        "colab": {
          "base_uri": "https://localhost:8080/"
        },
        "id": "0p4Mf-lps9ho",
        "outputId": "05c0e94e-d7a0-4d69-cf33-ccfaee97612e"
      },
      "execution_count": null,
      "outputs": [
        {
          "output_type": "stream",
          "name": "stdout",
          "text": [
            "Vertex \tDistance from Source\n",
            "0 \t 0\n",
            "1 \t 4\n",
            "2 \t 12\n",
            "3 \t 19\n",
            "4 \t 21\n",
            "5 \t 11\n",
            "6 \t 9\n",
            "7 \t 8\n",
            "8 \t 14\n"
          ]
        }
      ]
    }
  ]
}