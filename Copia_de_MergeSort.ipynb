{
  "nbformat": 4,
  "nbformat_minor": 0,
  "metadata": {
    "colab": {
      "name": "Copia de MergeSort.ipynb",
      "provenance": [],
      "include_colab_link": true
    },
    "kernelspec": {
      "name": "python3",
      "display_name": "Python 3"
    },
    "language_info": {
      "name": "python"
    }
  },
  "cells": [
    {
      "cell_type": "markdown",
      "metadata": {
        "id": "view-in-github",
        "colab_type": "text"
      },
      "source": [
        "<a href=\"https://colab.research.google.com/github/Jmorgado125/ADA-Informes/blob/main/Copia_de_MergeSort.ipynb\" target=\"_parent\"><img src=\"https://colab.research.google.com/assets/colab-badge.svg\" alt=\"Open In Colab\"/></a>"
      ]
    },
    {
      "cell_type": "markdown",
      "source": [
        "#**MergeSort**\n",
        "![image](https://imgur.com/9SjgGWx.png)\n",
        "\n",
        "---\n",
        "##**1.Descripcion del Problema**\n",
        "---\n",
        "###1.1. Problema de ordenamiento de valores en una secuencia $A_n$ sin un orden definido , problema con resolucion en tiempo polinomial con algoritmos como el **MergeSort** que se guia por la filosofia de *Divide y venceras*.\n",
        ">El paradigma **divide y vencerás** consiste en:\n",
        ">\n",
        ">1. **Dividir** el problema en varios subproblemas similares al problema original pero más pequeños.\n",
        ">2. **Resolver** los subproblemas de manera **recursiva**, es decir, aplicando el mismo algoritmo a cada uno de ellos.\n",
        ">3. **Combinar** las soluciones de todos los subproblemas y así obtener la solución del problema orignal.\n",
        "\n",
        "Entrada:Valores de una secuencia de numeros no ordenados en arreglo.\n",
        "\n",
        "Salida:Un arreglo con la secuencia de valores ordenados $[a_1< a_2 < a_3 ...a_n]$.\n",
        "\n",
        "\n"
      ],
      "metadata": {
        "id": "474Xnjs5YFd2"
      }
    },
    {
      "cell_type": "markdown",
      "source": [
        "---\n",
        "##**2. Descripcion del Algoritmo**\n",
        "---\n",
        "###Implementacion del **Merge Sort.**"
      ],
      "metadata": {
        "id": "UIVZMvaIcMp4"
      }
    },
    {
      "cell_type": "markdown",
      "source": [
        "Su funcionamineto en pseudocódigo es el siguiente:\n",
        "\n",
        "    MergeSort(A,p,r):\n",
        "        q = int(p+r/2)\n",
        "        Si p == r : return       \n",
        "        MergeSort(A,p,q)         # Llamada recursiva para sub-arreglo izquierdo\n",
        "        MergeSort(A,q+1,r)       # LLamada recursiva para sub-arrgelo derecho\n",
        "        Merge(A,p,q,r)"
      ],
      "metadata": {
        "id": "6VFjxDgJNrEO"
      }
    },
    {
      "cell_type": "markdown",
      "source": [
        "###2.1 Implementacion funcion Merge.\n",
        "\n",
        "Cada algoritmo recursivo depende de un caso base y de la capacidad de combinar los resultados de los casos base. La ordenación por MergeSort no es diferente. La parte más importante del algoritmo la cumple la funsion Merge encargada de fusionar los subarreglos.\n",
        "\n",
        "**Implementacion funcion Merge**"
      ],
      "metadata": {
        "id": "JVdMCd-BpLE2"
      }
    },
    {
      "cell_type": "code",
      "source": [
        "def Merge(A,p,q,r):\n",
        "  arr_B = []\n",
        "  c = 0                # Número de comparaciones\n",
        "  cpy_q = q            # Almacenar valor inicial de \n",
        "  cpy_p = p            # q y p para futuras operaciones\n",
        "  q+= 1                \n",
        "  while p != cpy_q+1 and q != r+1:\n",
        "    c += 1\n",
        "    if A[p] <= A[q] : arr_B.append(A[p]) ; p+= 1   # Caso en el cual valor derecho es menor (o igual)\n",
        "    elif A[q] < A[p] : arr_B.append(A[q]) ; q+= 1  # Caso izquierdo\n",
        "\n",
        "  if p == cpy_q+1:                                 # Agregar elementos sobrantes\n",
        "    arr_B += A[q:r+1]\n",
        "  elif  q == r+1:\n",
        "    arr_B += A[p:cpy_q+1]\n",
        "\n",
        "  A[cpy_p:r+1] = arr_B                             # Copiar contenidos en dentro de rango\n",
        "  \n",
        "  return arr_B , c"
      ],
      "metadata": {
        "id": "0cBmoEC_Fl4J"
      },
      "execution_count": 2,
      "outputs": []
    },
    {
      "cell_type": "markdown",
      "source": [
        "*Accion de la funcion Merge*\n",
        "\n",
        "![image](https://imgur.com/vXc0F3d.png)"
      ],
      "metadata": {
        "id": "a4Py00SMqoK4"
      }
    },
    {
      "cell_type": "markdown",
      "source": [
        "## **Implementacion algoritmo Merge Sort**"
      ],
      "metadata": {
        "id": "vLAJlne4rALU"
      }
    },
    {
      "cell_type": "markdown",
      "source": [
        "**Merge Sort** en un algoritmo de ordenamiento se rije por la filosofia de *Divide y Venceras*, en el cual resuelve un arreglo de entrada sin un orden predeteminado, el arreglo (o lista) se divide inicialmente en dos mitades iguales y luego se combinan generando un nuevo arreglo ordenado secuencialmente $[a_1<,a_2<...a_n]$, este proceso se produce de manera recursiva segun el tamaño del arreglo y deternerse hasta que el arreglo sea indivisible $[a_n]$, es decir, cuando este vacio o existe solo un elemento.\n",
        "\n",
        "Finalmente cuando esten todos los subarreglos indivisibles se aplica la funcion Merge encargada de fusionar y ordenar los subarreglos.\n",
        "\n"
      ],
      "metadata": {
        "id": "8pCcymQNeDqD"
      }
    },
    {
      "cell_type": "code",
      "source": [
        "def MergeSort(A, p, r, c = 0, i = 1, steps = 0, verbose = False):\n",
        "   queue = []                    # Lista guarda información por iteración\n",
        "   queue.append((A[p:r+1], i, steps)) \n",
        "   \n",
        "   if p==r: return c, queue      # Verifica que el arreglo tenga un solo elemento \n",
        " \n",
        "   q = int((p+r)/2)              # La mitad del arreglo\n",
        "   c_izq, q_izq = MergeSort(A,p,q,i=i+1, steps = queue[-1][2]+1 ,verbose = verbose)   # Ordenamiento de rama izquierda\n",
        "   \n",
        "   if verbose == True:\n",
        "     for j in q_izq:\n",
        "      queue.append(j)          \n",
        "\n",
        "   c_der, q_der = MergeSort(A,q+1,r,i=i+1,steps = queue[-1][2]+1 ,verbose = verbose)   # Ordenamiento rama derecha\n",
        "   if verbose == True:\n",
        "     for j in q_der:\n",
        "        queue.append(j)\n",
        "\n",
        "   b,c = Merge(A,p,q,r)             # Ordenamiento de ambas ramas\n",
        "   if verbose == True:\n",
        "     queue.append((b,f\"merge\",queue[-1][2]+1))\n",
        "   \n",
        "   c += c_izq+c_der\n",
        "\n",
        "   if i == 1 and verbose == True:\n",
        "     mrgs = 1\n",
        "     prev = -1\n",
        "     for i in queue:\n",
        "       if i[2] == 0 : \n",
        "         print(f\"Arreglo inicial: {i[0]}\\n\") \n",
        "         prev = i[1]\n",
        "         continue\n",
        "\n",
        "       print(f\"Paso {i[2]}\")\n",
        "       if i[1] == \"merge\": \n",
        "         print(f\"Se ha realizado el Merge nº{mrgs}!\")\n",
        "         print(f\"Arreglos ordenados y unidos:\")\n",
        "         \n",
        "         mrgs+=1\n",
        "       else:\n",
        "         print(\"Se ha dividido el arreglo!\")\n",
        "       print(i[0], \"\\n\")\n",
        "       \n",
        "       print(\"-------------------------------------\")\n",
        "\n",
        "     print()\n",
        "     print(f\"Total comparaciones: {c}\")\n",
        "     print(\"Arreglo ordenado!\")\n",
        "   \n",
        "   return c, queue\n"
      ],
      "metadata": {
        "id": "PXGJq8p7chWl"
      },
      "execution_count": 3,
      "outputs": []
    },
    {
      "cell_type": "code",
      "source": [
        "# Ejemplo\n",
        "from numpy.random import seed\n",
        "from numpy.random import randint\n",
        "\n",
        "seed(99)\n",
        "\n",
        "a = randint(2, 50, 10)\n",
        "a = a.tolist()\n",
        "\n",
        "print('imput', a)\n",
        "print(\"Total comparaciones :\",MergeSort(a ,0,len(a)-1)[0])\n",
        "print('output', a)"
      ],
      "metadata": {
        "id": "kiuvgs-cGOuq",
        "outputId": "4aa63539-35eb-419c-de8e-36508bf1da73",
        "colab": {
          "base_uri": "https://localhost:8080/"
        }
      },
      "execution_count": 10,
      "outputs": [
        {
          "output_type": "stream",
          "name": "stdout",
          "text": [
            "imput [3, 37, 42, 11, 42, 20, 6, 7, 3, 25]\n",
            "Total comparaciones : 23\n",
            "output [3, 3, 6, 7, 11, 20, 25, 37, 42, 42]\n"
          ]
        }
      ]
    },
    {
      "cell_type": "markdown",
      "source": [
        "##**2.2 Ejemplificacion Paso a paso**\n",
        "\n",
        "##![image](https://imgur.com/J4oIjy0.png)\n",
        "\n",
        "##Explicacion del ejemplo de lo que seucede paso a paso.\n",
        "\n",
        "\n",
        "\n",
        "> 1. Primeramente el algoritmo recibe un arreglo de un tamaño de 3, el cual inicialmente lo  divide en 2 mitades, resultando dos subarreglos (con un tamaño menor a 3). \n",
        ">\n",
        ">2. En la segunda secuencia observamos que hay un arrelgo que sigue siendo divisible ,por lo que el algoritmo recursivamente lo vuelve a dividir en subarreglos.\n",
        ">\n",
        ">3. En el tercer paso vemos que el resultado de todas las divisiones dejo a 3 arreglos indivisibles e independientes por lo que se da inicio a la utilizacion de la funcion **Merge** encargada de fusionar en orden los subarreglos en un arreglo.\n",
        ">\n",
        ">4. El el cuarto paso del ejemplo observamos que ocurre la primera fusion de arreglo que se encuentra ordenado $[8,20]$ y este se mezclara en orden con el otro arreglo.\n",
        ">\n",
        ">5. Finalmente observamos que el arreglo final esta completamente ordenado con los mismo elementos de entrada\n",
        "\n"
      ],
      "metadata": {
        "id": "v0YfLDLjgT3W"
      }
    },
    {
      "cell_type": "markdown",
      "source": [
        "*Verobose*"
      ],
      "metadata": {
        "id": "zF9B5UJ7IM4K"
      }
    },
    {
      "cell_type": "code",
      "source": [
        "a = [20,8,15]\n",
        "c, qu = MergeSort(a ,0,len(a)-1, verbose=True)"
      ],
      "metadata": {
        "id": "35KKKtOLIfys",
        "outputId": "ed449743-a23e-4bbb-c22f-403ed369405e",
        "colab": {
          "base_uri": "https://localhost:8080/"
        }
      },
      "execution_count": 15,
      "outputs": [
        {
          "output_type": "stream",
          "name": "stdout",
          "text": [
            "Arreglo inicial: [20, 8, 15]\n",
            "\n",
            "Paso 1\n",
            "Se ha dividido el arreglo!\n",
            "[20, 8] \n",
            "\n",
            "-------------------------------------\n",
            "Paso 2\n",
            "Se ha dividido el arreglo!\n",
            "[20] \n",
            "\n",
            "-------------------------------------\n",
            "Paso 3\n",
            "Se ha dividido el arreglo!\n",
            "[8] \n",
            "\n",
            "-------------------------------------\n",
            "Paso 4\n",
            "Se ha realizado el Merge nº1!\n",
            "Arreglos ordenados y unidos:\n",
            "[8, 20] \n",
            "\n",
            "-------------------------------------\n",
            "Paso 5\n",
            "Se ha dividido el arreglo!\n",
            "[15] \n",
            "\n",
            "-------------------------------------\n",
            "Paso 6\n",
            "Se ha realizado el Merge nº2!\n",
            "Arreglos ordenados y unidos:\n",
            "[8, 15, 20] \n",
            "\n",
            "-------------------------------------\n",
            "\n",
            "Total comparaciones: 3\n",
            "Arreglo ordenado!\n"
          ]
        }
      ]
    },
    {
      "cell_type": "markdown",
      "source": [
        "---\n",
        "##**3. Tiempo de ejecucion**\n",
        "---\n",
        "\n",
        "#### **Teorema (Tiempo de ejecución)**.\n",
        "\n",
        "\n",
        "![image](https://imgur.com/znzAdJz.png)\n",
        "\n",
        "La complejidad temporal de **Merge Sort** es θ(nLogn) en los 3 casos *(peor, promedio y mejor)* ya que merge sort siempre divide la entrada en dos mitades y toma un tiempo lineal para fusionar dos mitades.\n",
        "\n",
        "Merge Sort es un algoritmo recursivo y la complejidad del tiempo se puede expresar como la siguiente relación de recurrencia.\n",
        "\n",
        "\n",
        "\n",
        ">\n",
        ">\n",
        ">$T(n) =\\begin{cases}\n",
        "  O(1)  & n = 1 \\\\\n",
        "  2 T(n/2) + O(n) + O(1) & \\text{ otherwise}\n",
        "\\end{cases}$\n",
        ">\n",
        ">la cual se puede simplificar a\n",
        ">\n",
        ">$T(n) = \\begin{cases}\n",
        "  O(1)  & n = 1 \\\\\n",
        "  2 T(n/2) + O(n) & \\text{ otherwise}\n",
        "\\end{cases}$\n",
        ">\n",
        ">*La recurrencia anterior se puede resolver utilizando el método del árbol de recurrencia o el método maestro.*\n",
        "\n",
        "\n",
        "\n"
      ],
      "metadata": {
        "id": "awj_VoR3indN"
      }
    },
    {
      "cell_type": "markdown",
      "source": [
        "---\n",
        "##**4.Correctitud** \n",
        "---\n",
        "### **Correctitud Funcion Merge**\n",
        "\n",
        "Merge recibe dos subarreglos ordenados $[A_1]$ y $[A_2]$, retornando al finalizar un arreglo $B$ que contiene todos los elementos de $A_1 \\cup A_2$ de forma ordenada.\n",
        "\n",
        "***Propiedad invariable de bucle para Merge:***\n",
        "Para cada iteración dentro de la función *Merge*, los arreglos $B$, $A_1$, y $A_2$ se encuentran siempre ordenados, siendo los valores en $A_1$ y $A_2$ menores a los que se encuentran en $B$.\n",
        "\n",
        "![image](https://imgur.com/zbygFic.png)\n",
        "\n",
        "### **Inicialización:**\n",
        "Antes de iniciar la primera iteración, se cumple con ambas condiciones\n",
        "\n",
        "1. Al estar $B$ vacío y asumiendo que $A_1$ y $A_2$ se encuentran ordenados al entrar a la función, se concluye que los tres arreglos se encuentran ordenados al inicio del bucle.\n",
        "\n",
        "2. Nuevamente, al encontrarse $B$ vacío todos los valores de $A_1 \\cup A_2$ son trivialmente mayores.\n",
        "\n",
        "### **Mantención:**\n",
        "Para cualquier iteración $i$ del bucle, se comparará y se eliminará el elemento más pequeño de $A_1 \\cup A_2$, insertándose en $B$. Esto mantiene la idea de que $B$ siempre contendrá elementos menores a aquellos en  $A_1 \\cup A_2$. \n",
        "\n",
        "Además, al realizarse las comparaciones en arreglos ordenados, se verifica que el elemento $B[i+1]$ va a ser mayor que $B[i]$, pues será el $i+1$-ésimo más pequeño del conjunto $A_1 \\cup A_2$, manteniendo el orden propuesto.\n",
        "\n",
        "\n",
        "\n",
        "### **Correctitud**\n",
        "Como la propiedad se mantiene al inicio y final de la  i-ésima iteración, se puede concluir que cuando se termine de realizar la última iteración del bloque el arreglo $B$ contendrá la totalidad de sus valores ordenados del conjunto $A_1 \\cup A_2$. \n",
        "\n",
        "\n",
        "\n",
        "\n",
        "\n",
        "\n",
        "\n",
        "\n",
        "\n",
        "\n",
        "\n",
        "### **Correctitud para MergeSort**\n",
        "####  *(Lema) *MergeSort* recibe un arreglo $A$ de $n$ elementos, retornando el arreglo ordenado de forma que $a_1 ≤ a_2 ≤... a_n$*\n",
        "\n",
        "#### ***Caso base***\n",
        "Para el caso base $n=1$, se cumple la declaración pues al ser un elemento único se encuentra trivialmente ordenado.\n",
        "\n",
        "#### ***Caso General***\n",
        "Para un arreglo de $n$ elementos, al realizar la llamada de MergeSort y dividir el problema  de forma recursiva, se llegará a sub-arreglos de $A$ idivisibles *($len=1$)*. \n",
        "\n",
        "Según el Teorema anterior, *Merge* siempre retornará arreglos ordenados a partir de los sub-arreglos entregados como parámetros, por lo que se puede concluir que al finalizar cualquier llamada de MergeSort, para un $m < n$ , tendremos un arreglo ordenado. \n",
        "\n",
        "Por lo tanto *MergeSort* es correcto\n",
        "\n",
        "\n",
        "\n",
        "\n",
        "\n",
        " \n",
        "\n",
        "--------------------------------------------------------------------------------"
      ],
      "metadata": {
        "id": "LQe8WPVlPwTw"
      }
    },
    {
      "cell_type": "markdown",
      "source": [
        "##**5.Experimentacion**\n",
        "\n",
        "\n",
        "\n",
        "--------------------------------------------------------------------------------"
      ],
      "metadata": {
        "id": "yS4ROKIYPwgb"
      }
    },
    {
      "cell_type": "markdown",
      "source": [
        "1. A continuación se muestra gráficamente la complejidad temporal que sucede en la implementacion del algoritmo."
      ],
      "metadata": {
        "id": "KqRp2cq1q3yE"
      }
    },
    {
      "cell_type": "code",
      "source": [
        "#comparar el número de comparaciones realizadas experimentalmente con el mejor y peor caso teóricos.\n",
        "import matplotlib.pyplot as plt\n",
        "import seaborn as sns\n",
        "from math import log2\n",
        "import random\n",
        "\n",
        "%matplotlib inline\n",
        "\n",
        "sns.set(context='notebook', style='dark', palette='dark')\n",
        "\n",
        "x=[n for n in range(5,400)] \n",
        "y1=[n*log2(n) for n in range(5,400)] # worst case\n",
        "y2=[n*log2(n) for n in range(5,400)] # best case\n",
        "y=[]; \n",
        "\n",
        "for n in range(5,400):\n",
        "  a = random.sample(range(1, 400), n)\n",
        "  counter, qu = MergeSort(a,0,len(a)-1)\n",
        "  y.append(counter)\n",
        "\n",
        "plt.plot(x,y)\n",
        "plt.plot(x,y1)\n",
        "plt.plot(x,y2)\n",
        "plt.legend([\"MergeSort\", \"theoretical worst case\", \"theoretical best case\"])\n",
        "\n",
        "plt.xlabel('n')\n",
        "plt.ylabel('number of comparisons')\n",
        "plt.show()"
      ],
      "metadata": {
        "colab": {
          "base_uri": "https://localhost:8080/",
          "height": 285
        },
        "id": "nEWslRIhgQoW",
        "outputId": "65a56ae2-1fa4-4ecf-d0e0-ce54525998f3"
      },
      "execution_count": 11,
      "outputs": [
        {
          "output_type": "display_data",
          "data": {
            "text/plain": [
              "<Figure size 432x288 with 1 Axes>"
            ],
            "image/png": "[encoded data removed]"
          },
          "metadata": {}
        }
      ]
    },
    {
      "cell_type": "markdown",
      "source": [
        "*Conclusion:* Observamos que temporalmente el algoritmo no varia segun su orden de entrada por lo que tecnicamente no existe un caso peor o mejor, debido a su manera de operar."
      ],
      "metadata": {
        "id": "tRh5M3fmgRDd"
      }
    },
    {
      "cell_type": "markdown",
      "source": [
        "#2. Insertion Sort vs Merge Sort "
      ],
      "metadata": {
        "id": "f1c7u6w1G0p4"
      }
    },
    {
      "cell_type": "markdown",
      "source": [
        "*implementacion insertion sort para la comparacion de ambos*"
      ],
      "metadata": {
        "id": "UAwJeX6LG_hJ"
      }
    },
    {
      "cell_type": "code",
      "source": [
        "import numpy as np\n",
        "from termcolor import colored\n",
        "\n",
        "def insertion_sort(a, verbose = False):\n",
        "  n = len(a)        # Tamaño del arreglo a ordenar\n",
        "  c = 0             # Número de comparaciones\n",
        "\n",
        "  if verbose == True:\n",
        "    print(\"imput array :\", a, \"\\n\")\n",
        "\n",
        "  for i in range(1, n):\n",
        "    key = a[i]\n",
        "    is_zero = False # Auxiliar para la empresión en caso de que verbose = True\n",
        "\n",
        "    if verbose == True: \n",
        "      print(\"Pasada \", i, \", \",colored(f\"key : {key}\", \"red\", attrs=[\"bold\"]) )\n",
        "    \n",
        "    for k in range(i-1, -1, -1):\n",
        "      c+= 1\n",
        "\n",
        "      if verbose == True: \n",
        "        # Destacar valor con el que se comparara key\n",
        "        if k > 0: print(\" \",end = \"\")\n",
        "        if k == i-1:\n",
        "          print(\"  \", str(a[:k])[1:-1], colored(f\"{str(a[k:k+1])[1:-1]}\", \"blue\", attrs=['bold']),\n",
        "                colored(f\"{str(a[k+1:k+2])[1:-1]}\", \"red\", attrs=['bold']), str(a[k+2:])[1:-1])\n",
        "        else:\n",
        "          print(\"  \", str(a[:k])[1:-1], colored(f\"{str(a[k:k+1])[1:-1]}\",  \"blue\", attrs=['bold']), str(a[k+1:])[1:-1])\n",
        "\n",
        "      # Inserción de clave en la posición correspondiente \n",
        "      if a[k] < key:\n",
        "        a[k+1] = key\n",
        "        break\n",
        "\n",
        "      # Movimiento de elemento k una posición a la izquierda\n",
        "      a[k+1] = a[k]\n",
        "\n",
        "      if verbose == True:\n",
        "        if k > 0: print(\" \",end = \"\")\n",
        "        print(\"  \", str(a[:k])[1:-1], colored(f\"{str(a[k:k+2])[1:-1]}\", \"green\", attrs=['bold']), str(a[k+2:])[1:-1])\n",
        "    \n",
        "    # Insercion de clave en caso especial\n",
        "    if key < a[0]: \n",
        "      a[0] = key\n",
        "      is_zero = True\n",
        "\n",
        "    if verbose == True:\n",
        "\n",
        "      if is_zero:\n",
        "        print(colored(f\"\\n{str(a[0])[1:-1]}\", \"red\", attrs=['bold']), str(a[1:])[1:-1])\n",
        "        print(f\"{key} ha finalizado en la posición {0}\\n\")\n",
        "      else:\n",
        "        print(\"\\n\", str(a[:k+1])[1:-1], colored(f\"{str(a[k+1:k+2])[1:-1]}\",\"red\", attrs=['bold']), str(a[k+2:])[1:-1])\n",
        "        print(f\" {key} ha finalizado en la posición {k+1}\\n\")\n",
        "\n",
        "  \n",
        "  if verbose == True:\n",
        "    print(\"Arreglo ordenado !\")\n",
        "    print(f\"output array:: {a}\")\n",
        "  \n",
        "  return a, c"
      ],
      "metadata": {
        "id": "xkm2QmT5HGkx"
      },
      "execution_count": 12,
      "outputs": []
    },
    {
      "cell_type": "code",
      "source": [
        "import matplotlib.pyplot as plt\n",
        "import seaborn as sns\n",
        "import datetime\n",
        "from timeit import repeat\n",
        "\n",
        "%matplotlib inline\n",
        "\n",
        "sns.set(context='notebook', style='darkgrid', palette='dark')\n",
        "\n",
        "x=[]; x2 =[]\n",
        "y=[]; y2=[]\n",
        "\n",
        "for n in range(5,400):\n",
        "\n",
        "  a = random.sample(range(1, 1000), n)\n",
        "  t = repeat(setup=\"from __main__ import MergeSort\", stmt=f\"MergeSort({a},{0},{len(a)-1})\", repeat=1, number=10)\n",
        "\n",
        "  x.append(n)\n",
        "  y.append(t)\n",
        "\n",
        "for n in range(5,400):\n",
        "\n",
        "  a = random.sample(range(1, 1000), n)\n",
        "  t = repeat(setup=\"from __main__ import insertion_sort\", stmt=f\"insertion_sort({a})\", repeat=1, number=10)\n",
        "\n",
        "  x2.append(n)\n",
        "  y2.append(t)\n",
        "\n",
        "plt.plot(x,y)\n",
        "plt.plot(x2,y2)\n",
        "plt.legend([\"MergeSort\", \"InsertionSort\"])\n",
        "\n",
        "plt.xlabel('n')\n",
        "plt.ylabel('time in ms')\n",
        "plt.show()"
      ],
      "metadata": {
        "id": "gn0Gpk0jHKmC",
        "outputId": "4f307c19-4619-4430-eeb3-a00c5831cfe3",
        "colab": {
          "base_uri": "https://localhost:8080/",
          "height": 285
        }
      },
      "execution_count": 14,
      "outputs": [
        {
          "output_type": "display_data",
          "data": {
            "text/plain": [
              "<Figure size 432x288 with 1 Axes>"
            ],
            "image/png": "[encoded data removed]"
          },
          "metadata": {}
        }
      ]
    },
    {
      "cell_type": "markdown",
      "source": [
        "*Conclusion:* Concluimos con la experimentacion, la superioridad del mergesort en el ordenamiento de valores, este actua mas rapido que el insertion sort, podemos ver que la utilizacion del insertion sort con mas de 100 elementos no es eficiente como lo es el MergeSort."
      ],
      "metadata": {
        "id": "BCPXqN1uHM4t"
      }
    }
  ]
}