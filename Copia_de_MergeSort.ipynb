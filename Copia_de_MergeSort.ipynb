{
  "nbformat": 4,
  "nbformat_minor": 0,
  "metadata": {
    "colab": {
      "name": "Copia de MergeSort.ipynb",
      "provenance": [],
      "include_colab_link": true
    },
    "kernelspec": {
      "name": "python3",
      "display_name": "Python 3"
    },
    "language_info": {
      "name": "python"
    }
  },
  "cells": [
    {
      "cell_type": "markdown",
      "metadata": {
        "id": "view-in-github",
        "colab_type": "text"
      },
      "source": [
        "<a href=\"https://colab.research.google.com/github/Jmorgado125/ADA-Informes/blob/main/Copia_de_MergeSort.ipynb\" target=\"_parent\"><img src=\"https://colab.research.google.com/assets/colab-badge.svg\" alt=\"Open In Colab\"/></a>"
      ]
    },
    {
      "cell_type": "markdown",
      "source": [
        "#**MergeSort**\n",
        "![image](https://imgur.com/9SjgGWx.png)\n",
        "\n",
        "##**1.Descripcion del Problema**\n",
        "\n",
        "###1.1. Problema de ordenamiento de valores en una secuencia $A_n$ sin un orden definido , problema con resolucion en tiempo polinomial con algoritmos como el **MergeSort** que se guia por la filosofia de *Divide y venceras*.\n",
        ">El paradigma **divide y vencerás** consiste en:\n",
        ">\n",
        ">1. **Dividir** el problema en varios subproblemas similares al problema original pero más pequeños.\n",
        ">2. **Resolver** los subproblemas de manera **recursiva**, es decir, aplicando el mismo algoritmo a cada uno de ellos.\n",
        ">3. **Combinar** las soluciones de todos los subproblemas y así obtener la solución del problema orignal.\n",
        "\n",
        "Entrada:Valores de una secuencia de numeros no ordenados en arreglo.\n",
        "\n",
        "Salida:Un arreglo con la secuencia de valores ordenados $[a_1< a_2 < a_3 ...a_n]$.\n",
        "\n",
        "--------------------------------------------------------------------------------\n",
        "\n"
      ],
      "metadata": {
        "id": "474Xnjs5YFd2"
      }
    },
    {
      "cell_type": "markdown",
      "source": [
        "##**2. Descripcion del Algoritmo**\n",
        "\n",
        "###Implementacion del **Merge Sort.**"
      ],
      "metadata": {
        "id": "UIVZMvaIcMp4"
      }
    },
    {
      "cell_type": "markdown",
      "source": [
        "Su funcionamineto en pseudocódigo es el siguiente:\n",
        "\n",
        "    MergeSort(A,p,r):\n",
        "        q = int(p+r/2)\n",
        "        Si p == r : return       \n",
        "        MergeSort(A,p,q)         # Llamada recursiva para sub-arreglo izquierdo\n",
        "        MergeSort(A,q+1,r)       # LLamada recursiva para sub-arrgelo derecho\n",
        "        Merge(A,p,q,r)"
      ],
      "metadata": {
        "id": "6VFjxDgJNrEO"
      }
    },
    {
      "cell_type": "markdown",
      "source": [
        "###2.1 Implementacion funcion Merge.\n",
        "\n",
        "Cada algoritmo recursivo depende de un caso base y de la capacidad de combinar los resultados de los casos base. La ordenación por MergeSort no es diferente. La parte más importante del algoritmo la cumple la funsion Merge encargada de fusionar los subarreglos.\n",
        "\n",
        "**Implementacion funcion Merge**"
      ],
      "metadata": {
        "id": "JVdMCd-BpLE2"
      }
    },
    {
      "cell_type": "code",
      "source": [
        "def Merge(arr,L,R):\n",
        "        i = j = k = 0 #Se definen variables para la fusion de los subarreglos (funcion Merge o de Mezcla)\n",
        "        cont = 0\n",
        "\n",
        "        while i < len(L) and j < len(R):\n",
        "            if L[i] < R[j]:\n",
        "                arr[k] = L[i]\n",
        "                i += 1\n",
        "            else:\n",
        "                arr[k] = R[j]\n",
        "                j += 1\n",
        "            k += 1\n",
        "            cont +=1\n",
        " \n",
        "        while i < len(L):\n",
        "            arr[k] = L[i]\n",
        "            i += 1\n",
        "            k += 1\n",
        " \n",
        "        while j < len(R):\n",
        "            arr[k] = R[j]\n",
        "            j += 1\n",
        "            k += 1\n",
        "            \n",
        "        return arr,cont"
      ],
      "metadata": {
        "id": "HA3ebQ9npwcG"
      },
      "execution_count": 31,
      "outputs": []
    },
    {
      "cell_type": "markdown",
      "source": [
        "*Accion de la funcion Merge*\n",
        "\n",
        "![image](https://imgur.com/vXc0F3d.png)"
      ],
      "metadata": {
        "id": "a4Py00SMqoK4"
      }
    },
    {
      "cell_type": "markdown",
      "source": [
        "**Implementacion algoritmo Merge Sort**"
      ],
      "metadata": {
        "id": "vLAJlne4rALU"
      }
    },
    {
      "cell_type": "markdown",
      "source": [
        "###**Merge Sort** en un algoritmo de ordenamiento se rije por la filosofia de *Divide y Venceras*, en el cual resuelve un arreglo de entrada sin un orden predeteminado, el arreglo (o lista) se divide inicialmente en dos mitades iguales y luego se combinan generando un nuevo arreglo ordenado secuencialmente $[a_1<,a_2<...a_n]$, este proceso se produce de manera recursiva segun el tamaño del arreglo y deternerse hasta que el arreglo sea indivisible $[a_n]$, es decir, cuando este vacio o existe solo un elemento.\n",
        "###Finalmente cuando esten todos los subarreglos indivisibles se aplica la funcion Merge encargada de fusionar y ordenar los subarreglos.\n",
        "\n",
        "--------------------------------------------------------------------------------"
      ],
      "metadata": {
        "id": "8pCcymQNeDqD"
      }
    },
    {
      "cell_type": "code",
      "source": [
        "def Merge_Sort(arr):\n",
        "    if len(arr) > 1:\n",
        "        mid = len(arr)//2\n",
        "        #Inicialmente se definen las dos primeras mitades del arreglo \n",
        "        L = arr[:mid]\n",
        "        R = arr[mid:]\n",
        "        #Observamos que el algoritmo se llama recursivamente dos veces. Esto implica que la ejecución puede graficarse como un árbol binario.\n",
        "        Merge_Sort(L)\n",
        "        Merge_Sort(R)\n",
        "        #La función Merge básicamente se encarga de generar un arreglo ordenado a partir de dos sub-arreglos ordenados\n",
        "        arr,cont=Merge(arr,L,R)\n",
        "        return arr,cont\n",
        "\n",
        "\n",
        "\n",
        "\n",
        "\n",
        "\n",
        "if __name__ == '__main__':\n",
        "    print(\"FUNCION MERGE SORT\")\n",
        "    print(\"\")\n",
        "    print(\"--------------------------------------------\")\n",
        "    arr = [1,4,6,2,3,44,34,23,45,78,54,33]\n",
        "    print(\"Entrada:\",arr)\n",
        "    A,cont=Merge_Sort(arr)\n",
        "    print(\"Salida:\",arr)\n",
        "    print(\"Numero de Comparaciones =\",cont)\n",
        "    print(\"--------------------------------------------\")\n",
        "    arr2 = [1,2,3,4,5,6,7,8,3,12, 11, 13, 5, 6, 7]\n",
        "    print(\"Entrada:\",arr2)\n",
        "    A,cont=Merge_Sort(arr2)\n",
        "    print(\"Salida:\",A)\n",
        "    print(\"Numero de Comparaciones =\",cont)\n",
        "    print(\"--------------------------------------------\")\n",
        "\n"
      ],
      "metadata": {
        "colab": {
          "base_uri": "https://localhost:8080/"
        },
        "id": "PXGJq8p7chWl",
        "outputId": "f2b0c1ca-79ad-429e-ca74-d95d8eabdff1"
      },
      "execution_count": 32,
      "outputs": [
        {
          "output_type": "stream",
          "name": "stdout",
          "text": [
            "FUNCION MERGE SORT\n",
            "\n",
            "--------------------------------------------\n",
            "Entrada: [1, 4, 6, 2, 3, 44, 34, 23, 45, 78, 54, 33]\n",
            "Salida: [1, 2, 3, 4, 6, 23, 33, 34, 44, 45, 54, 78]\n",
            "Numero de Comparaciones = 9\n",
            "--------------------------------------------\n",
            "Entrada: [1, 2, 3, 4, 5, 6, 7, 8, 3, 12, 11, 13, 5, 6, 7]\n",
            "Salida: [1, 2, 3, 3, 4, 5, 5, 6, 6, 7, 7, 8, 11, 12, 13]\n",
            "Numero de Comparaciones = 11\n",
            "--------------------------------------------\n"
          ]
        }
      ]
    },
    {
      "cell_type": "markdown",
      "source": [
        "##**2.2 Ejemplificacion Paso a paso**\n",
        "\n",
        "##![image](https://imgur.com/J4oIjy0.png)\n",
        "\n",
        "##Explicacion del ejemplo de lo que seucede paso a paso.\n",
        "\n",
        "\n",
        "\n",
        "> 1. Primeramente el algoritmo recibe un arreglo de un tamaño de 3, el cual inicialmente lo  divide en 2 mitades, resultando dos subarreglos (con un tamaño menor a 3). \n",
        ">\n",
        ">2. En la segunda secuencia observamos que hay un arrelgo que sigue siendo divisible ,por lo que el algoritmo recursivamente lo vuelve a dividir en subarreglos.\n",
        ">\n",
        ">3. En el tercer paso vemos que el resultado de todas las divisiones dejo a 3 arreglos indivisibles e independientes por lo que se da inicio a la utilizacion de la funcion **Merge** encargada de fusionar en orden los subarreglos en un arreglo.\n",
        ">\n",
        ">4. El el cuarto paso del ejemplo observamos que ocurre la primera fusion de arreglo que se encuentra ordenado $[8,20]$ y este se mezclara en orden con el otro arreglo.\n",
        ">\n",
        ">5. Finalmente observamos que el arreglo final esta completamente ordenado con los mismo elementos de entrada\n",
        "\n",
        "--------------------------------------------------------------------------------\n"
      ],
      "metadata": {
        "id": "v0YfLDLjgT3W"
      }
    },
    {
      "cell_type": "markdown",
      "source": [
        "##**3. Tiempo de ejecucion**\n",
        "\n",
        "\n",
        "#### **Teorema (Tiempo de ejecución)**.\n",
        "\n",
        "\n",
        "![image](https://imgur.com/znzAdJz.png)\n",
        "\n",
        "La complejidad temporal de **Merge Sort** es θ(nLogn) en los 3 casos *(peor, promedio y mejor)* ya que merge sort siempre divide la entrada en dos mitades y toma un tiempo lineal para fusionar dos mitades.\n",
        "\n",
        "Merge Sort es un algoritmo recursivo y la complejidad del tiempo se puede expresar como la siguiente relación de recurrencia.\n",
        "\n",
        "\n",
        "\n",
        ">\n",
        ">\n",
        ">$T(n) =\\begin{cases}\n",
        "  O(1)  & n = 1 \\\\\n",
        "  2 T(n/2) + O(n) + O(1) & \\text{ otherwise}\n",
        "\\end{cases}$\n",
        ">\n",
        ">la cual se puede simplificar a\n",
        ">\n",
        ">$T(n) = \\begin{cases}\n",
        "  O(1)  & n = 1 \\\\\n",
        "  2 T(n/2) + O(n) & \\text{ otherwise}\n",
        "\\end{cases}$\n",
        ">\n",
        ">*La recurrencia anterior se puede resolver utilizando el método del árbol de recurrencia o el método maestro.*\n",
        "\n",
        "\n",
        "\n",
        "--------------------------------------------------------------------------------"
      ],
      "metadata": {
        "id": "awj_VoR3indN"
      }
    },
    {
      "cell_type": "markdown",
      "source": [
        "##**4.Correctitud** \n",
        "\n",
        "### **Correctitud Funcion Merge**\n",
        "\n",
        "Merge recibe dos subarreglos ordenados $[A_1]$ y $[A_2]$, retornando al finalizar un arreglo $B$ que contiene todos los elementos de $A_1 \\cup A_2$ de forma ordenada.\n",
        "\n",
        "***Propiedad invariable de bucle para Merge:***\n",
        "Para cada iteración dentro de la función *Merge*, los arreglos $B$, $A_1$, y $A_2$ se encuentran siempre ordenados, siendo los valores en $A_1$ y $A_2$ menores a los que se encuentran en $B$.\n",
        "\n",
        "![image](https://imgur.com/zbygFic.png)\n",
        "\n",
        "### **Inicialización:**\n",
        "Antes de iniciar la primera iteración, se cumple con ambas condiciones\n",
        "\n",
        "1. Al estar $B$ vacío y asumiendo que $A_1$ y $A_2$ se encuentran ordenados al entrar a la función, se concluye que los tres arreglos se encuentran ordenados al inicio del bucle.\n",
        "\n",
        "2. Nuevamente, al encontrarse $B$ vacío todos los valores de $A_1 \\cup A_2$ son trivialmente mayores.\n",
        "\n",
        "### **Mantención:**\n",
        "Para cualquier iteración $i$ del bucle, se comparará y se eliminará el elemento más pequeño de $A_1 \\cup A_2$, insertándose en $B$. Esto mantiene la idea de que $B$ siempre contendrá elementos menores a aquellos en  $A_1 \\cup A_2$. \n",
        "\n",
        "Además, al realizarse las comparaciones en arreglos ordenados, se verifica que el elemento $B[i+1]$ va a ser mayor que $B[i]$, pues será el $i+1$-ésimo más pequeño del conjunto $A_1 \\cup A_2$, manteniendo el orden propuesto.\n",
        "\n",
        "\n",
        "\n",
        "### **Correctitud**\n",
        "Como la propiedad se mantiene al inicio y final de la  i-ésima iteración, se puede concluir que cuando se termine de realizar la última iteración del bloque el arreglo $B$ contendrá la totalidad de sus valores ordenados del conjunto $A_1 \\cup A_2$. \n",
        "\n",
        "\n",
        "\n",
        "\n",
        "\n",
        "\n",
        "\n",
        "\n",
        "\n",
        "\n",
        "\n",
        "### **Correctitud para MergeSort**\n",
        "####  *(Lema) *MergeSort* recibe un arreglo $A$ de $n$ elementos, retornando el arreglo ordenado de forma que $a_1 ≤ a_2 ≤... a_n$*\n",
        "\n",
        "#### ***Caso base***\n",
        "Para el caso base $n=1$, se cumple la declaración pues al ser un elemento único se encuentra trivialmente ordenado.\n",
        "\n",
        "#### ***Caso General***\n",
        "Para un arreglo de $n$ elementos, al realizar la llamada de MergeSort y dividir el problema  de forma recursiva, se llegará a sub-arreglos de $A$ idivisibles *($len=1$)*. \n",
        "\n",
        "Según el Teorema anterior, *Merge* siempre retornará arreglos ordenados a partir de los sub-arreglos entregados como parámetros, por lo que se puede concluir que al finalizar cualquier llamada de MergeSort, para un $m < n$ , tendremos un arreglo ordenado. \n",
        "\n",
        "Por lo tanto *MergeSort* es correcto\n",
        "\n",
        "\n",
        "\n",
        "\n",
        "\n",
        " \n",
        "\n",
        "--------------------------------------------------------------------------------"
      ],
      "metadata": {
        "id": "LQe8WPVlPwTw"
      }
    },
    {
      "cell_type": "markdown",
      "source": [
        "##**5.Experimentacion**\n",
        "\n",
        "\n",
        "\n",
        "--------------------------------------------------------------------------------"
      ],
      "metadata": {
        "id": "yS4ROKIYPwgb"
      }
    },
    {
      "cell_type": "markdown",
      "source": [
        "A continuación se muestra gráficamente la complejidad temporal que sucede en la implementacion del algoritmo."
      ],
      "metadata": {
        "id": "KqRp2cq1q3yE"
      }
    },
    {
      "cell_type": "code",
      "source": [
        "import random\n",
        "import matplotlib.pyplot as plt\n",
        "\n",
        "x=[n for n in range(5,20)] \n",
        "y2=[n-1 for n in range(5,20)] # Caso general\n",
        "y=[]; \n",
        "\n",
        "for n in range(5,20):\n",
        "  a = random.sample(range(1, 1000), n)\n",
        "  a,counter = Merge_Sort(a)\n",
        "  y.append(counter)\n",
        "\n",
        "plt.plot(x,y)\n",
        "plt.plot(x,y2)\n",
        "plt.legend([\"Merge Sort\", \"theoretical worst case\", \"theoretical best case\"])\n",
        "\n",
        "plt.xlabel('n')\n",
        "plt.ylabel('number of operations')\n",
        "plt.show()"
      ],
      "metadata": {
        "colab": {
          "base_uri": "https://localhost:8080/",
          "height": 285
        },
        "id": "nEWslRIhgQoW",
        "outputId": "605ef74a-00df-4e11-bfda-81db9681ca5b"
      },
      "execution_count": 54,
      "outputs": [
        {
          "output_type": "display_data",
          "data": {
            "text/plain": [
              "<Figure size 432x288 with 1 Axes>"
            ],
            "image/png": "[encoded data removed]"
          },
          "metadata": {}
        }
      ]
    },
    {
      "cell_type": "markdown",
      "source": [
        "observamos que temporalmente el algoritmo no varia segun su orden de entrada por lo que tecnicamente no existe un caso peor o mejor, debido a su manera de operar."
      ],
      "metadata": {
        "id": "tRh5M3fmgRDd"
      }
    }
  ]
}