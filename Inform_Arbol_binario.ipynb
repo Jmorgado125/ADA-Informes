{
  "nbformat": 4,
  "nbformat_minor": 0,
  "metadata": {
    "colab": {
      "provenance": [],
      "collapsed_sections": [],
      "authorship_tag": "ABX9TyPdCgrgXPqwKzvdkOgdBDh7",
      "include_colab_link": true
    },
    "kernelspec": {
      "name": "python3",
      "display_name": "Python 3"
    },
    "language_info": {
      "name": "python"
    }
  },
  "cells": [
    {
      "cell_type": "markdown",
      "metadata": {
        "id": "view-in-github",
        "colab_type": "text"
      },
      "source": [
        "<a href=\"https://colab.research.google.com/github/Jmorgado125/ADA-Informes/blob/main/Inform_Arbol_binario.ipynb\" target=\"_parent\"><img src=\"https://colab.research.google.com/assets/colab-badge.svg\" alt=\"Open In Colab\"/></a>"
      ]
    },
    {
      "cell_type": "markdown",
      "source": [
        "# Arbol binario de busqueda optimo (BST)"
      ],
      "metadata": {
        "id": "zJkOSNGwc0gJ"
      }
    },
    {
      "cell_type": "markdown",
      "source": [
        "#1- Descripción del problema"
      ],
      "metadata": {
        "id": "ySgvni5Wb2dl"
      }
    },
    {
      "cell_type": "markdown",
      "source": [
        "Problema de busqueda, donde queremos obtener el tiempo mas optimo en la busqueda para una secuencia dada de accesos con la utilizacion de un **Arbol binario de busqueda**.\n",
        "\n",
        "\n",
        "![image](https://imgur.com/nx1o1jQ.png)\n",
        "\n",
        "---\n",
        "\n",
        "**Entrada**: \n",
        "\n",
        "**Salida**:  \n",
        "\n",
        "---\n",
        "\n"
      ],
      "metadata": {
        "id": "pAgom4IBipnN"
      }
    },
    {
      "cell_type": "markdown",
      "source": [
        "#2- Descripción del algoritmo"
      ],
      "metadata": {
        "id": "4qjUht2icQYP"
      }
    },
    {
      "cell_type": "markdown",
      "source": [],
      "metadata": {
        "id": "1ZQtezoLwNWn"
      }
    },
    {
      "cell_type": "code",
      "source": [
        "def optCost(freq, p, q):\n",
        "     \n",
        "    # Base cases\n",
        "    if q < p:     # no elements in this subarray\n",
        "        return 0\n",
        "    if q == p:     # one element in this subarray\n",
        "        return freq[p]\n",
        "     \n",
        "    # Get sum of freq[i], freq[i+1], ... freq[j]\n",
        "    fsum = Sum(freq, p, q)\n",
        "     \n",
        "    # Initialize minimum value\n",
        "    Min = 999999999999\n",
        "     \n",
        "    # One by one consider all elements as\n",
        "    # root and recursively find cost of\n",
        "    # the BST, compare the cost with min\n",
        "    # and update min if needed\n",
        "    for r in range(p, q + 1):\n",
        "        cost = (optCost(freq, p, r - 1) +\n",
        "                optCost(freq, r + 1, q))\n",
        "        if cost < Min:\n",
        "            Min = cost\n",
        "     \n",
        "    # Return minimum value\n",
        "    return Min + fsum\n",
        " \n",
        "# The main function that calculates minimum\n",
        "# cost of a Binary Search Tree. It mainly\n",
        "# uses optCost() to find the optimal cost.\n",
        "def optimalSearchTree(keys, freq, n):\n",
        "     \n",
        "    # Here array keys[] is assumed to be\n",
        "    # sorted in increasing order. If keys[]\n",
        "    # is not sorted, then add code to sort \n",
        "    # keys, and rearrange freq[] accordingly.\n",
        "    return optCost(freq, 0, n - 1)\n",
        " \n",
        "# A utility function to get sum of\n",
        "# array elements freq[i] to freq[j]\n",
        "def Sum(freq, i, j):\n",
        "    s = 0\n",
        "    for k in range(i, j + 1):\n",
        "        s += freq[k]\n",
        "    return s"
      ],
      "metadata": {
        "id": "eX5hf-I9vUwm"
      },
      "execution_count": 11,
      "outputs": []
    },
    {
      "cell_type": "markdown",
      "source": [
        "#3- Correctitud "
      ],
      "metadata": {
        "id": "xI2r4i7fcQGh"
      }
    },
    {
      "cell_type": "markdown",
      "source": [],
      "metadata": {
        "id": "tfSnkQprtk03"
      }
    },
    {
      "cell_type": "markdown",
      "source": [
        "#4- Tiempo de ejecucion"
      ],
      "metadata": {
        "id": "5kcYjkZ9cP5g"
      }
    },
    {
      "cell_type": "markdown",
      "source": [
        "#5- Experimentacion"
      ],
      "metadata": {
        "id": "xV2UUDPYb2xh"
      }
    },
    {
      "cell_type": "markdown",
      "source": [
        "###Generador de instancias"
      ],
      "metadata": {
        "id": "QKQl-M2cckxA"
      }
    },
    {
      "cell_type": "code",
      "execution_count": 10,
      "metadata": {
        "id": "Xi5aQ-SXZft3"
      },
      "outputs": [],
      "source": [
        "import random\n",
        "import numpy as np\n",
        "\n",
        "def optimal_bst_instance_generator(n):\n",
        "    keys = sorted(random.sample(range(1, 100), n))\n",
        "    arr = np.random.random(n*2+1)\n",
        "    arr /= arr.sum()\n",
        "    \n",
        "    p = list(arr[:n]) # Probabilidad de las claves\n",
        "    q = arr[n:] # Probabilidad de las claves ficticias\n",
        "    return keys, p, q\n",
        "    \n",
        "keys, p, q = optimal_bst_instance_generator(10)"
      ]
    },
    {
      "cell_type": "markdown",
      "source": [
        "###Experimento 1"
      ],
      "metadata": {
        "id": "2j8QEOajcshC"
      }
    },
    {
      "cell_type": "markdown",
      "source": [
        "###Experimento 2"
      ],
      "metadata": {
        "id": "6WN7-e8Fcwaw"
      }
    },
    {
      "cell_type": "markdown",
      "source": [
        "###Experimento 3"
      ],
      "metadata": {
        "id": "GLr2l0AhcwuA"
      }
    }
  ]
}