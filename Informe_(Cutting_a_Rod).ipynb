{
  "nbformat": 4,
  "nbformat_minor": 0,
  "metadata": {
    "colab": {
      "provenance": [],
      "include_colab_link": true
    },
    "kernelspec": {
      "name": "python3",
      "display_name": "Python 3"
    },
    "language_info": {
      "name": "python"
    }
  },
  "cells": [
    {
      "cell_type": "markdown",
      "metadata": {
        "id": "view-in-github",
        "colab_type": "text"
      },
      "source": [
        "<a href=\"https://colab.research.google.com/github/Jmorgado125/ADA-Informes/blob/main/Informe_(Cutting_a_Rod).ipynb\" target=\"_parent\"><img src=\"https://colab.research.google.com/assets/colab-badge.svg\" alt=\"Open In Colab\"/></a>"
      ]
    },
    {
      "cell_type": "markdown",
      "source": [
        "Cutting a Rod"
      ],
      "metadata": {
        "id": "x5gFkxonbkwc"
      }
    },
    {
      "cell_type": "markdown",
      "source": [
        "#1. Descripcion del Problema"
      ],
      "metadata": {
        "id": "wOvrGb3SakHk"
      }
    },
    {
      "cell_type": "markdown",
      "source": [
        "![image](https://imgur.com/8R1wQZd.png)"
      ],
      "metadata": {
        "id": "Ly-r9mXueIVE"
      }
    },
    {
      "cell_type": "markdown",
      "source": [
        "### Problema de omptimizacion de ventas : **Corte de varillas**\n",
        "\n",
        "---\n",
        "\n",
        "**Entrada**: Largo de varilla $n$, vector de precios por cada medida $i=1..n$\n",
        "\n",
        "**Salida**:  Retorno máximo $r_n$ que se puede obtener cortando la varilla y vendiendo las partes.\n",
        "\n",
        "---\n",
        "\n",
        "Una empresa que vende varillas de metal, busca sacar el maximo beneficio en la venta de sus varillas, cortando la varilla en partes que maximicen las ganancias. "
      ],
      "metadata": {
        "id": "4GnSwuF5cYyj"
      }
    },
    {
      "cell_type": "markdown",
      "source": [
        "#2. Implementacion Algoritmo de programacion dinamica"
      ],
      "metadata": {
        "id": "3QtagrgYalF8"
      }
    },
    {
      "cell_type": "markdown",
      "source": [
        "Una solución ingenua a este problema es solucionarlo a fuerza bruta y generar todas las configuraciones de diferentes piezas y encontrar la configuración de mayor precio. Esta solución es exponencial en términos de complejidad temporal.\n",
        "\n",
        " Este problema posee las dos propiedades importantes y es posible resolverse de manera eficiente utilizando la programación dinámica.\n",
        "\n",
        "\n",
        "**1) Subestructura óptima:**\n",
        "\n",
        "La solución óptima se construye de soluciones óptimas de subproblemas.\n",
        "Podemos obtener el mejor precio haciendo un corte en diferentes posiciones generando subproblemas y comparando los valores obtenidos de la solucion de estos después de un corte.\n",
        "De manera recursiva llamamos una funcion $Cortar(n)$ ,el valor obtenido sera el mejor valor posible para una barra de longitud n. Cortar(n) se puede escribir de la siguiente manera.\n",
        "$Cortar(n) = max(price[i] + Cortar(n-i-1))$ para todo i en ${0, 1 .. n-1}$"
      ],
      "metadata": {
        "id": "oOB9iOY-eeDU"
      }
    },
    {
      "cell_type": "markdown",
      "source": [
        "**2)Subproblema sobrelapados**\n",
        "\n",
        "Un segundo ingrediente que deberíamos tener en cuenta para aplicar programación dinámica, es que el **espacio de subproblemas sea pequeño**. \n",
        "En otras palabras, que la cantidad total de problemas distintos que tengamos que resolver no sea muy alta.\n",
        "Cuando un algoritmo recursivo revisita el mismo subproblema varias veces, se dice que el problema tiene **subproblemas sobrelapados**, la **Programación dinámica toma ventaja de los subproblemas sobrelapados ya que los resuelve sólo una vez** y cada vez que se encuentra nuevamente con ellos este accede al resultado anteriormente obtenido."
      ],
      "metadata": {
        "id": "XTxT1vlWfVzM"
      }
    },
    {
      "cell_type": "markdown",
      "source": [
        "![image](https://imgur.com/wQH9i3R.png)"
      ],
      "metadata": {
        "id": "KXEnmI57gG_I"
      }
    },
    {
      "cell_type": "markdown",
      "source": [
        "Habiendo observado que para resolver un problema debemos antes resolver los problemas más pequeños, un acercamiento **bottom-up** es ideal para encontrar una solucion.\n",
        "\n",
        "Como opera el bottom-up:\n",
        "\n",
        "\n",
        "- Ordenamos los subproblemas por tamaño de menor a mayor.\n",
        "- Guardamos los resultados asociados a cada subproblema.\n",
        "- Cuando resolvemos un subproblema, basta con **utilizar los resultados** de los problemas más pequeños que ya fueron resueltos con anterioridad. **sin la necesidad de volver a resolverlos**\n",
        "\n",
        "![image](https://imgur.com/u6bRjh1.png)\n",
        "\n",
        "*(Figura muestra la relacion existente entre los subproblemas con un n=4)*\n"
      ],
      "metadata": {
        "id": "GvCtXKT-JQRA"
      }
    },
    {
      "cell_type": "markdown",
      "source": [
        "### Solucion con programacion dinamica"
      ],
      "metadata": {
        "id": "7UZI6YHZhwcw"
      }
    },
    {
      "cell_type": "markdown",
      "source": [
        "*Pseudocodigo Button-up*\n",
        "\n",
        "![image](https://imgur.com/uMD2gWd.png)"
      ],
      "metadata": {
        "id": "mYTodLsYSsDD"
      }
    },
    {
      "cell_type": "code",
      "source": [
        "# Solucion con programacion dinamica\n",
        "INT_MIN = -32767\n",
        " \n",
        "# Devuelve el mejor precio obtenible por una barra de longitud n \n",
        "# valor[] precios de diferentes piezas\n",
        "def Cortar(valor, n):\n",
        "    val = [0 for x in range(n+1)]\n",
        "    val[0] = 0\n",
        " \n",
        "    #Se crea tabla de resultado de valores obtenidos\n",
        "    for i in range(1, n+1):\n",
        "        max_val = INT_MIN\n",
        "        for j in range(i):\n",
        "             max_val = max(max_val, valor[j] + val[i-j-1])\n",
        "        val[i] = max_val\n",
        " \n",
        "    return val[n]\n",
        " \n",
        "\n",
        "arr = [1, 3, 4, 5, 8, 10, 14, 18,22,44]\n",
        "print(\"Maximo valor obtendio con el corte de varillas \" + str(Cortar(arr, len(arr))))\n",
        " "
      ],
      "metadata": {
        "colab": {
          "base_uri": "https://localhost:8080/"
        },
        "id": "W9QpDQF-dIDM",
        "outputId": "1b51731c-a8ad-46a5-ac34-aa777138e65b"
      },
      "execution_count": null,
      "outputs": [
        {
          "output_type": "stream",
          "name": "stdout",
          "text": [
            "Maximo valor obtendio con el corte de varillas 44\n"
          ]
        }
      ]
    },
    {
      "cell_type": "markdown",
      "source": [
        "#3. Correctitud"
      ],
      "metadata": {
        "id": "XakWpaDZalUz"
      }
    },
    {
      "cell_type": "markdown",
      "source": [
        "Para determinar la correctitud del **bottom-up** es a traves de induccion.\n",
        "\n",
        "![image](https://imgur.com/ggvpiQY.png)\n",
        "\n",
        "**Hipotesis**: Para resolver la $N-esima$ solucion es necesario acceder al resultado de la anterior solucion $N-1$ ya resuelto en $R[N-1]$ , es decir que para obtener correctamente $R[N]$ se asume que el resultado $R[N-1]$ es correcto.\n",
        "\n",
        "**Caso Base:** Para un caso baso en el R[1] el resultado almacenado es trivialmente de valor 1, el valor de la varilla sin cortes.\n",
        "\n",
        "**Mantencion:** La mantencion de la hipotesis de manera inductiva, para un sub-problema $N$ en $1\\le N < n$ se asume que los subproblemas menores que $N$ fueron resueltos de forma correcta. Por lo tanto, el arreglo $R$ contiene los retorna los maximos desde el indice $N-1 hacia atras$.\n",
        "\n",
        "Para el subproblema $N$ se recorre desde $i=1$ a $N$, buscando el retorno máximo a través de comparaciones de valores.\n",
        "\n",
        "Por cada iteración $i$ se actualizará el máximo local $q$, pudiendo tomar dos valores:\n",
        "\n",
        "* $q=q$ si $q>p[i]+r[N-i]$ \n",
        "* $q=p[i]+r[N-i]$ en caso contrario\n",
        "\n",
        "\n",
        "Al finalizar la iteración, se tendrá habrá calculado el retorno máximo para $r[N]$ de forma correcta.\n",
        "\n",
        "Cuando $N=n$, se habrá calculado el retorno máximo del tamaño solicitado, por lo que el algoritmo es ***correcto***."
      ],
      "metadata": {
        "id": "AZlX6T_jgGB0"
      }
    },
    {
      "cell_type": "markdown",
      "source": [
        "#4. Tiempo de ejecucion "
      ],
      "metadata": {
        "id": "xHfIVeJ_al07"
      }
    },
    {
      "cell_type": "markdown",
      "source": [
        "El tiempo de ejecución depende del número de subproblemas que debemos resolver \n",
        "\n",
        "Para un problema de tamaño $n$\n",
        "\n",
        "* Resolucion recursiva: Este algoritmo recursivo resuelve $2^{n}$ sub-problemas.\n",
        "\n",
        "* Resolucion con algoritmo bottom-up: El algoritmo bottom-up resolverá $n-1$ sub problemas, sin contar aquel en el cual $j=n$ como uno de ellos.\n",
        "\n",
        "**Analisis del tiempo por sub-problema:**\n",
        "\n",
        "> Algoritmo bottom-up: Por cada sub-problema de tamaño $C$, el tiempo de ejecución será $O(C)$ pues solo itera $C$ veces.  \n",
        "\n",
        "\n",
        "**Tiempo de ejecución del algortimo:**\n",
        "* Metodo recursivo: Sea $T(n)$ el número de llamadas realizadas a RecursiveCut el tiempo de ejecución estará denotado por:\n",
        "  $T(n) =1+\\sum_{j=0}^{n-1}T(j)=2^n$\n",
        "    \n",
        "  Siendo 1 la primera llamada y la sumatoria todas las llamadas realizadas a la función.\n",
        "\n",
        "  Por inducción..\n",
        "   >$T(n) = 1 + \\sum_{j=0}^{n-1}T(j)$\n",
        "   >\n",
        "   >$2^n = 1 + \\sum_{j=0}^{n-1}2^j$\n",
        "   >\n",
        "   >$2^n = 1 + \\frac{2^{n+1-1}-1}{2-1}$\n",
        "   >\n",
        "   >$2^n = 2^n$\n",
        "\n",
        "* Algoritmo bottom-up:\n",
        "    1. Declaración de $r$ y asignación de $r[0]$ => $2O(1)$\n",
        "    2. Dentro del loop que calcula los subproblemas se asignan $n$ veces valores para $q$ y $r[j]$ => $2n$\n",
        "    3. Dentro de este mismo loop observamos que por cada valor de $j$ en $1\\le j \\le n$ , se harán $j$ operaciones de costo constante => $\\sum_{j=1}^{n}j = \\frac{n(n+1)}{2}$\n",
        "    \n",
        "    El tiempo de ejecución depende del producto de dos factores: el número de subproblemas que debemos resolver y la cantidad de elecciones de cada subproblema.\n",
        "\n",
        "    Por lo tanto terminamos con un tiempo de ejecución : \n",
        "    \n",
        "    $T(n) = 2O(n) + 2n + \\frac{1}{2}\\cdot (n^2 + n)$\n",
        "    \n",
        "    $T(n) = 20n + 2n + \\frac{n^2}{2}\\ + \\frac{n}{2}\\$\n",
        "    \n",
        "    $=O(n^2)$\n"
      ],
      "metadata": {
        "id": "JGY2JpCQgHST"
      }
    },
    {
      "cell_type": "markdown",
      "source": [
        "#5. Experimentos "
      ],
      "metadata": {
        "id": "G9bsUN9-amTL"
      }
    },
    {
      "cell_type": "markdown",
      "source": [],
      "metadata": {
        "id": "QwH7qQSEgJJk"
      }
    }
  ]
}