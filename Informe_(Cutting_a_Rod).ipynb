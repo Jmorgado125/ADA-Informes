{
  "nbformat": 4,
  "nbformat_minor": 0,
  "metadata": {
    "colab": {
      "provenance": [],
      "include_colab_link": true
    },
    "kernelspec": {
      "name": "python3",
      "display_name": "Python 3"
    },
    "language_info": {
      "name": "python"
    }
  },
  "cells": [
    {
      "cell_type": "markdown",
      "metadata": {
        "id": "view-in-github",
        "colab_type": "text"
      },
      "source": [
        "<a href=\"https://colab.research.google.com/github/Jmorgado125/ADA-Informes/blob/main/Informe_(Cutting_a_Rod).ipynb\" target=\"_parent\"><img src=\"https://colab.research.google.com/assets/colab-badge.svg\" alt=\"Open In Colab\"/></a>"
      ]
    },
    {
      "cell_type": "markdown",
      "source": [
        "Cutting a Rod"
      ],
      "metadata": {
        "id": "x5gFkxonbkwc"
      }
    },
    {
      "cell_type": "markdown",
      "source": [
        "#1. Descripcion del Problema"
      ],
      "metadata": {
        "id": "wOvrGb3SakHk"
      }
    },
    {
      "cell_type": "markdown",
      "source": [
        "![image](https://imgur.com/8R1wQZd.png)"
      ],
      "metadata": {
        "id": "Ly-r9mXueIVE"
      }
    },
    {
      "cell_type": "markdown",
      "source": [
        "### Problema de omptimizacion de ventas : **Corte de varillas**\n",
        "\n",
        "---\n",
        "\n",
        "**Entrada**: Largo de varilla $n$, vector de precios por cada medida $i=1..n$\n",
        "\n",
        "**Salida**:  Retorno máximo $r_n$ que se puede obtener cortando la varilla y vendiendo las partes.\n",
        "\n",
        "---\n",
        "\n",
        "Una empresa que vende varillas de metal, busca sacar el maximo beneficio en la venta de sus varillas, cortando la varilla en partes que maximicen las ganancias. "
      ],
      "metadata": {
        "id": "4GnSwuF5cYyj"
      }
    },
    {
      "cell_type": "markdown",
      "source": [
        "#2. Implementacion Algoritmo de programacion dinamica"
      ],
      "metadata": {
        "id": "3QtagrgYalF8"
      }
    },
    {
      "cell_type": "markdown",
      "source": [
        "Una solución ingenua a este problema es solucionarlo a fuerza bruta y generar todas las configuraciones de diferentes piezas y encontrar la configuración de mayor precio. Esta solución es exponencial en términos de complejidad temporal. Este problema posee las dos propiedades importantes y es posible resolverse de manera eficiente utilizando la programación dinámica.\n",
        "\n",
        "\n",
        "**1) Subestructura óptima:**\n",
        "\n",
        "Podemos obtener el mejor precio haciendo un corte en diferentes posiciones y comparando los valores obtenidos después de un corte. Podemos llamar recursivamente a la misma función para una pieza obtenida después de un corte.\n",
        "Sea Cortar(n) el valor requerido (el mejor precio posible) para una barra de longitud n. Cortar(n) se puede escribir de la siguiente manera.\n",
        "$Cortar(n) = max(price[i] + Cortar(n-i-1))$ para todo i en ${0, 1 .. n-1}$"
      ],
      "metadata": {
        "id": "oOB9iOY-eeDU"
      }
    },
    {
      "cell_type": "markdown",
      "source": [
        "**2)Subproblema sobrelapados**\n",
        "\n",
        "Un segundo ingrediente que deberíamos tener en cuenta para aplicar programación dinámica, es que el **espacio de subproblemas sea pequeño**. \n",
        "En otras palabras, que la cantidad total de problemas distintos que tengamos que resolver no sea muy alta.\n",
        "Cuando un algoritmo recursivo revisita el mismo subproblema varias veces, se dice que el problema tiene **subproblemas sobrelapados**, la **Programación dinámica toma ventaja de los subproblemas sobrelapados ya que los resuelve sólo una vez** y cada vez que se encuentra nuevamente con ellos este accede al resultado anteriormente obtenido."
      ],
      "metadata": {
        "id": "XTxT1vlWfVzM"
      }
    },
    {
      "cell_type": "markdown",
      "source": [
        "![image](https://imgur.com/wQH9i3R.png)"
      ],
      "metadata": {
        "id": "KXEnmI57gG_I"
      }
    },
    {
      "cell_type": "code",
      "source": [
        "# Solucion con programacion dinamica\n",
        "INT_MIN = -32767\n",
        " \n",
        "# Devuelve el mejor precio obtenible por una barra de longitud n \n",
        "# valor[] precios de diferentes piezas\n",
        "def Cortar(valor, n):\n",
        "    val = [0 for x in range(n+1)]\n",
        "    val[0] = 0\n",
        " \n",
        "    #Se crea tabla de resultado de valores obtenidos\n",
        "    for i in range(1, n+1):\n",
        "        max_val = INT_MIN\n",
        "        for j in range(i):\n",
        "             max_val = max(max_val, valor[j] + val[i-j-1])\n",
        "        val[i] = max_val\n",
        " \n",
        "    return val[n]\n",
        " \n",
        "\n",
        "arr = [1, 3, 4, 5, 8, 10, 14, 18,22]\n",
        "size = len(arr)\n",
        "print(\"Maximo valor obtendio con el corte de varillas \" + str(Cortar(arr, size)))\n",
        " "
      ],
      "metadata": {
        "id": "W9QpDQF-dIDM",
        "outputId": "bc4e03f5-d0d8-4ff3-b435-fd45285ab003",
        "colab": {
          "base_uri": "https://localhost:8080/"
        }
      },
      "execution_count": 13,
      "outputs": [
        {
          "output_type": "stream",
          "name": "stdout",
          "text": [
            "Maximo valor obtendio con el corte de varillas 22\n"
          ]
        }
      ]
    },
    {
      "cell_type": "markdown",
      "source": [
        "#3. Correctitud"
      ],
      "metadata": {
        "id": "XakWpaDZalUz"
      }
    },
    {
      "cell_type": "markdown",
      "source": [
        "**Teorema**: Para resolver "
      ],
      "metadata": {
        "id": "AZlX6T_jgGB0"
      }
    },
    {
      "cell_type": "markdown",
      "source": [
        "#4. Tiempo de ejecucion "
      ],
      "metadata": {
        "id": "xHfIVeJ_al07"
      }
    },
    {
      "cell_type": "markdown",
      "source": [
        "El tiempo de ejecución depende del producto de dos factores: el número de subproblemas que debemos resolver y la cantidad de elecciones de cada subproblema.\n",
        "\n",
        "El problema de corte de varillas tenemos $n$ subproblemas y cada uno examina a lo más $n$ posibles cortes, por lo que su tiempo de ejecución es $O(n^2)$."
      ],
      "metadata": {
        "id": "JGY2JpCQgHST"
      }
    },
    {
      "cell_type": "markdown",
      "source": [
        "#5. Experimentos "
      ],
      "metadata": {
        "id": "G9bsUN9-amTL"
      }
    },
    {
      "cell_type": "markdown",
      "source": [],
      "metadata": {
        "id": "QwH7qQSEgJJk"
      }
    }
  ]
}