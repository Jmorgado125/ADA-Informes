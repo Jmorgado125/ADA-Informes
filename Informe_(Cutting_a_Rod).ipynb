{
  "nbformat": 4,
  "nbformat_minor": 0,
  "metadata": {
    "colab": {
      "provenance": [],
      "authorship_tag": "ABX9TyMbJgCTRbH0SCOXQw17lTTC",
      "include_colab_link": true
    },
    "kernelspec": {
      "name": "python3",
      "display_name": "Python 3"
    },
    "language_info": {
      "name": "python"
    }
  },
  "cells": [
    {
      "cell_type": "markdown",
      "metadata": {
        "id": "view-in-github",
        "colab_type": "text"
      },
      "source": [
        "<a href=\"https://colab.research.google.com/github/Jmorgado125/ADA-Informes/blob/main/Informe_(Cutting_a_Rod).ipynb\" target=\"_parent\"><img src=\"https://colab.research.google.com/assets/colab-badge.svg\" alt=\"Open In Colab\"/></a>"
      ]
    },
    {
      "cell_type": "markdown",
      "source": [
        "Cutting a Rod"
      ],
      "metadata": {
        "id": "x5gFkxonbkwc"
      }
    },
    {
      "cell_type": "markdown",
      "source": [
        "#1. Descripcion del Problema"
      ],
      "metadata": {
        "id": "wOvrGb3SakHk"
      }
    },
    {
      "cell_type": "markdown",
      "source": [
        "![image](https://imgur.com/8R1wQZd.png)"
      ],
      "metadata": {
        "id": "Ly-r9mXueIVE"
      }
    },
    {
      "cell_type": "markdown",
      "source": [
        "### Problema de omptimizacion de ventas : **Corte de varillas**\n",
        "\n",
        "---\n",
        "\n",
        "**Entrada**: Largo de varilla $n$, vector de precios por cada medida $i=1..n$\n",
        "\n",
        "**Salida**:  Retorno máximo $r_n$ que se puede obtener cortando la varilla y vendiendo las partes.\n",
        "\n",
        "---\n",
        "\n",
        "Una empresa que vende varillas de metal, busca sacar el maximo beneficio en la venta de sus varillas, cortando la varilla en partes que maximicen las ganancias. "
      ],
      "metadata": {
        "id": "4GnSwuF5cYyj"
      }
    },
    {
      "cell_type": "markdown",
      "source": [
        "#2. Implementacion Algoritmo de programacion dinamica"
      ],
      "metadata": {
        "id": "3QtagrgYalF8"
      }
    },
    {
      "cell_type": "markdown",
      "source": [],
      "metadata": {
        "id": "oOB9iOY-eeDU"
      }
    },
    {
      "cell_type": "markdown",
      "source": [
        "#3. Correctitud"
      ],
      "metadata": {
        "id": "XakWpaDZalUz"
      }
    },
    {
      "cell_type": "markdown",
      "source": [],
      "metadata": {
        "id": "AZlX6T_jgGB0"
      }
    },
    {
      "cell_type": "markdown",
      "source": [
        "#4. Tiempo de ejecucion "
      ],
      "metadata": {
        "id": "xHfIVeJ_al07"
      }
    },
    {
      "cell_type": "markdown",
      "source": [],
      "metadata": {
        "id": "JGY2JpCQgHST"
      }
    },
    {
      "cell_type": "markdown",
      "source": [
        "#5. Experimentos "
      ],
      "metadata": {
        "id": "G9bsUN9-amTL"
      }
    },
    {
      "cell_type": "markdown",
      "source": [],
      "metadata": {
        "id": "QwH7qQSEgJJk"
      }
    }
  ]
}