{
  "nbformat": 4,
  "nbformat_minor": 0,
  "metadata": {
    "colab": {
      "provenance": [],
      "include_colab_link": true
    },
    "kernelspec": {
      "name": "python3",
      "display_name": "Python 3"
    },
    "language_info": {
      "name": "python"
    }
  },
  "cells": [
    {
      "cell_type": "markdown",
      "metadata": {
        "id": "view-in-github",
        "colab_type": "text"
      },
      "source": [
        "<a href=\"https://colab.research.google.com/github/Jmorgado125/ADA-Informes/blob/main/Informe_(Cutting_a_Rod).ipynb\" target=\"_parent\"><img src=\"https://colab.research.google.com/assets/colab-badge.svg\" alt=\"Open In Colab\"/></a>"
      ]
    },
    {
      "cell_type": "markdown",
      "source": [
        "Cutting a Rod"
      ],
      "metadata": {
        "id": "x5gFkxonbkwc"
      }
    },
    {
      "cell_type": "markdown",
      "source": [
        "#1. Descripcion del Problema"
      ],
      "metadata": {
        "id": "wOvrGb3SakHk"
      }
    },
    {
      "cell_type": "markdown",
      "source": [
        "![image](https://imgur.com/8R1wQZd.png)"
      ],
      "metadata": {
        "id": "Ly-r9mXueIVE"
      }
    },
    {
      "cell_type": "markdown",
      "source": [
        "### Problema de omptimizacion de ventas : **Corte de varillas**\n",
        "\n",
        "---\n",
        "\n",
        "**Entrada**: Largo de varilla $n$, vector de precios por cada medida $i=1..n$\n",
        "\n",
        "**Salida**:  Retorno máximo $r_n$ que se puede obtener cortando la varilla y vendiendo las partes.\n",
        "\n",
        "---\n",
        "\n",
        "Una empresa que vende varillas de metal, busca sacar el maximo beneficio en la venta de sus varillas, cortando la varilla en partes que maximicen las ganancias. "
      ],
      "metadata": {
        "id": "4GnSwuF5cYyj"
      }
    },
    {
      "cell_type": "markdown",
      "source": [
        "#2. Implementacion Algoritmo de programacion dinamica"
      ],
      "metadata": {
        "id": "3QtagrgYalF8"
      }
    },
    {
      "cell_type": "markdown",
      "source": [
        "Una solución ingenua a este problema es solucionarlo a fuerza bruta y generar todas las configuraciones de diferentes piezas y encontrar la configuración de mayor precio. Esta solución es exponencial en términos de complejidad temporal.\n",
        "\n",
        " Este problema posee las dos propiedades importantes y es posible resolverse de manera eficiente utilizando la programación dinámica.\n",
        "\n",
        "\n",
        "**1) Subestructura óptima:**\n",
        "\n",
        "La solución óptima se construye de soluciones óptimas de subproblemas.\n",
        "Podemos obtener el mejor precio haciendo un corte en diferentes posiciones generando subproblemas y comparando los valores obtenidos de la solucion de estos después de un corte.\n",
        "De manera recursiva llamamos una funcion $Cortar(n)$ ,el valor obtenido sera el mejor valor posible para una barra de longitud n. Cortar(n) se puede escribir de la siguiente manera.\n",
        "$Cortar(n) = max(price[i] + Cortar(n-i-1))$ para todo i en ${0, 1 .. n-1}$"
      ],
      "metadata": {
        "id": "oOB9iOY-eeDU"
      }
    },
    {
      "cell_type": "markdown",
      "source": [
        "**2)Subproblema sobrelapados**\n",
        "\n",
        "Un segundo ingrediente que deberíamos tener en cuenta para aplicar programación dinámica, es que el **espacio de subproblemas sea pequeño**. \n",
        "En otras palabras, que la cantidad total de problemas distintos que tengamos que resolver no sea muy alta.\n",
        "Cuando un algoritmo recursivo revisita el mismo subproblema varias veces, se dice que el problema tiene **subproblemas sobrelapados**, la **Programación dinámica toma ventaja de los subproblemas sobrelapados ya que los resuelve sólo una vez** y cada vez que se encuentra nuevamente con ellos este accede al resultado anteriormente obtenido."
      ],
      "metadata": {
        "id": "XTxT1vlWfVzM"
      }
    },
    {
      "cell_type": "markdown",
      "source": [
        "![image](https://imgur.com/wQH9i3R.png)"
      ],
      "metadata": {
        "id": "KXEnmI57gG_I"
      }
    },
    {
      "cell_type": "markdown",
      "source": [
        "Habiendo observado que para resolver un problema debemos antes resolver los problemas más pequeños, un acercamiento **bottom-up** es ideal para encontrar una solucion.\n",
        "\n",
        "Como opera el bottom-up:\n",
        "\n",
        "\n",
        "- Ordenamos los subproblemas por tamaño de menor a mayor.\n",
        "- Guardamos los resultados asociados a cada subproblema.\n",
        "- Cuando resolvemos un subproblema, basta con **utilizar los resultados** de los problemas más pequeños que ya fueron resueltos con anterioridad. **sin la necesidad de volver a resolverlos**\n",
        "\n",
        "![image](https://imgur.com/u6bRjh1.png)\n",
        "\n",
        "*(Figura muestra la relacion existente entre los subproblemas con un n=4)*\n"
      ],
      "metadata": {
        "id": "GvCtXKT-JQRA"
      }
    },
    {
      "cell_type": "markdown",
      "source": [
        "**Solucion con programacion dinamica**"
      ],
      "metadata": {
        "id": "7UZI6YHZhwcw"
      }
    },
    {
      "cell_type": "markdown",
      "source": [
        "*Pseudocodigo Button-up*\n",
        "\n",
        "![image](https://imgur.com/uMD2gWd.png)"
      ],
      "metadata": {
        "id": "mYTodLsYSsDD"
      }
    },
    {
      "cell_type": "code",
      "source": [
        "def BottomUpCutRod(p, next):\n",
        "\n",
        "    r = [0] * (n+1)                 # Creacion de arreglo de maximos\n",
        "    s = [[]] * (n+1)                # Creacion arreglo de cortes\n",
        "    neg = sum(p) *-1\n",
        "    sp = 0                          # Contador de sub problemas\n",
        "\n",
        "    for j in range (1,n+1):         # Iteracion para calcular cada maximo r_j\n",
        "        \n",
        "        sp = sp + 1\n",
        "\n",
        "        \n",
        "\n",
        "        q = neg                     # Establecer un valor negativo\n",
        "        c = [n]                     # Establecer el arreglo de cortes base\n",
        "\n",
        "        if j == 1:               \n",
        "            r[1] = p[0]\n",
        "            s[1] = [1]\n",
        "\n",
        "          \n",
        "        \n",
        "        for i in range(1, j+1):     # Loop para encontrar el maximo r- entre las posibilidades\n",
        "            q2 = p[i-1] + r[j-i]\n",
        "            if q > q2 :\n",
        "                q = q\n",
        "                c = c\n",
        "            \n",
        "            else:\n",
        "\n",
        "                q = q2\n",
        "                \n",
        "                if i == 0 :\n",
        "                    c = []\n",
        "                else :\n",
        "                    c = [i]\n",
        "\n",
        "                for x in s[j-i]:\n",
        "                    c.append(x)\n",
        "\n",
        "        r[j] = q\n",
        "        s[j] = c\n",
        "    \n",
        "\n",
        "    return r[n], s[n], sp\n",
        "\n",
        "\n",
        "# Ejemplo\n",
        "\n",
        "p = [1,5,8,9,10,17,17,20]\n",
        "n = 8\n",
        "\n",
        "retorno, cortes , sp = BottomUpCutRod(p,n)\n",
        "\n",
        "print(\"Retorno maximo para \", n, \"elementos : \", retorno)\n",
        "print(\"Largo de los cortes : \", cortes)"
      ],
      "metadata": {
        "colab": {
          "base_uri": "https://localhost:8080/"
        },
        "id": "W9QpDQF-dIDM",
        "outputId": "29dc91d1-943e-44f2-bb87-642ed319fe8e"
      },
      "execution_count": 9,
      "outputs": [
        {
          "output_type": "stream",
          "name": "stdout",
          "text": [
            "Retorno maximo para  8 elementos :  22\n",
            "Largo de los cortes :  [6, 2]\n"
          ]
        }
      ]
    },
    {
      "cell_type": "markdown",
      "source": [
        "**Solucion resuelta de manera recursiva.**"
      ],
      "metadata": {
        "id": "Na_hv_lUyEt3"
      }
    },
    {
      "cell_type": "code",
      "source": [
        "def RecursiveCut(p,n, j = 1):\n",
        "\n",
        "    if n == 0:\n",
        "        return 0, j, []\n",
        "        \n",
        "    q = 0\n",
        "    cf = []  # Arreglo de Cortes \n",
        "    for i in range(1,n+1):\n",
        "\n",
        "        # LLamada recursiva de la funcion\n",
        "        r, j , c= RecursiveCut(p,n-i, j = j+1)\n",
        "\n",
        "        if q > p[i-1] + r:\n",
        "            q = q\n",
        "\n",
        "        else:\n",
        "            q = p[i-1] + r\n",
        "            cf = [i] + c\n",
        "    return q, j, cf\n",
        "\n",
        "p = [1,5,8,9,10,17,17,20,24,30]\n",
        "n = 4\n",
        "\n",
        "mx, ll , ct= RecursiveCut(p,n)\n",
        "print(f\"Se ha calculado el maximo {mx} con {ll} llamadas recursivas\")\n",
        "print(f\"Los cortes son : {ct}\")"
      ],
      "metadata": {
        "id": "vqWGxWxFyE-Q",
        "outputId": "2076c06b-179a-4cd3-a9e6-2486e760aa8f",
        "colab": {
          "base_uri": "https://localhost:8080/"
        }
      },
      "execution_count": 7,
      "outputs": [
        {
          "output_type": "stream",
          "name": "stdout",
          "text": [
            "Se ha calculado el maximo 10 con 16 llamadas recursivas\n",
            "Los cortes son : [2, 2]\n"
          ]
        }
      ]
    },
    {
      "cell_type": "markdown",
      "source": [
        "#3. Correctitud"
      ],
      "metadata": {
        "id": "XakWpaDZalUz"
      }
    },
    {
      "cell_type": "markdown",
      "source": [
        "Para determinar la correctitud del **bottom-up** es a traves de induccion.\n",
        "\n",
        "![image](https://imgur.com/ggvpiQY.png)\n",
        "\n",
        "**Hipotesis**: Para resolver la $N-esima$ solucion es necesario acceder al resultado de la anterior solucion $N-1$ ya resuelto en $R[N-1]$ , es decir que para obtener correctamente $R[N]$ se asume que el resultado $R[N-1]$ es correcto.\n",
        "\n",
        "**Caso Base:** Para un caso baso en el R[1] el resultado almacenado es trivialmente de valor 1, el valor de la varilla sin cortes.\n",
        "\n",
        "**Mantencion:** La mantencion de la hipotesis de manera inductiva, para un sub-problema $N$ en $1\\le N < n$ se asume que los subproblemas menores que $N$ fueron resueltos de forma correcta. Por lo tanto, el arreglo $R$ contiene los retorna los maximos desde el indice $N-1 hacia atras$.\n",
        "\n",
        "Para el subproblema $N$ se recorre desde $i=1$ a $N$, buscando el retorno máximo a través de comparaciones de valores.\n",
        "\n",
        "Por cada iteración $i$ se actualizará el máximo local $q$, pudiendo tomar dos valores:\n",
        "\n",
        "* $q=q$ si $q>p[i]+r[N-i]$ \n",
        "* $q=p[i]+r[N-i]$ en caso contrario\n",
        "\n",
        "\n",
        "Al finalizar la iteración, se tendrá habrá calculado el retorno máximo para $r[N]$ de forma correcta.\n",
        "\n",
        "Cuando $N=n$, se habrá calculado el retorno máximo del tamaño solicitado, por lo que el algoritmo es ***correcto***."
      ],
      "metadata": {
        "id": "AZlX6T_jgGB0"
      }
    },
    {
      "cell_type": "markdown",
      "source": [
        "#4. Tiempo de ejecucion "
      ],
      "metadata": {
        "id": "xHfIVeJ_al07"
      }
    },
    {
      "cell_type": "markdown",
      "source": [
        "El tiempo de ejecución depende del número de subproblemas que debemos resolver \n",
        "\n",
        "Para un problema de tamaño $n$\n",
        "\n",
        "* Resolucion recursiva: Este algoritmo recursivo resuelve $2^{n}$ sub-problemas.\n",
        "\n",
        "* Resolucion con algoritmo bottom-up: El algoritmo bottom-up resolverá $n-1$ sub problemas, sin contar aquel en el cual $j=n$ como uno de ellos.\n",
        "\n",
        "**Analisis del tiempo por sub-problema:**\n",
        "\n",
        "> Algoritmo bottom-up: Por cada sub-problema de tamaño $C$, el tiempo de ejecución será $O(C)$ pues solo itera $C$ veces.  \n",
        "\n",
        "\n",
        "**Tiempo de ejecución del algortimo:**\n",
        "* Metodo recursivo: Sea $T(n)$ el número de llamadas realizadas a RecursiveCut el tiempo de ejecución estará denotado por:\n",
        "  $T(n) =1+\\sum_{j=0}^{n-1}T(j)=2^n$\n",
        "    \n",
        "  Siendo 1 la primera llamada y la sumatoria todas las llamadas realizadas a la función.\n",
        "\n",
        "  Por inducción..\n",
        "   >$T(n) = 1 + \\sum_{j=0}^{n-1}T(j)$\n",
        "   >\n",
        "   >$2^n = 1 + \\sum_{j=0}^{n-1}2^j$\n",
        "   >\n",
        "   >$2^n = 1 + \\frac{2^{n+1-1}-1}{2-1}$\n",
        "   >\n",
        "   >$2^n = 2^n$\n",
        "\n",
        "* Algoritmo bottom-up:\n",
        "    1. Declaración de $r$ y asignación de $r[0]$ => $2O(1)$\n",
        "    2. Dentro del loop que calcula los subproblemas se asignan $n$ veces valores para $q$ y $r[j]$ => $2n$\n",
        "    3. Dentro de este mismo loop observamos que por cada valor de $j$ en $1\\le j \\le n$ , se harán $j$ operaciones de costo constante => $\\sum_{j=1}^{n}j = \\frac{n(n+1)}{2}$\n",
        "    \n",
        "    El tiempo de ejecución depende del producto de dos factores: el número de subproblemas que debemos resolver y la cantidad de elecciones de cada subproblema.\n",
        "\n",
        "    Por lo tanto terminamos con un tiempo de ejecución : \n",
        "    \n",
        "    $T(n) = 2O(n) + 2n + \\frac{1}{2}\\cdot (n^2 + n)$\n",
        "    \n",
        "    $T(n) = 20n + 2n + \\frac{n^2}{2}\\ + \\frac{n}{2}\\$\n",
        "    \n",
        "    $=O(n^2)$\n"
      ],
      "metadata": {
        "id": "JGY2JpCQgHST"
      }
    },
    {
      "cell_type": "markdown",
      "source": [
        "#5. Experimentos "
      ],
      "metadata": {
        "id": "G9bsUN9-amTL"
      }
    },
    {
      "cell_type": "markdown",
      "source": [
        "Experimento 1: tiempo de ejecucion Buttom-Up vs Resolucion recursiva"
      ],
      "metadata": {
        "id": "QwH7qQSEgJJk"
      }
    },
    {
      "cell_type": "code",
      "source": [
        "import random\n",
        "\n",
        "def cutrod_instance_generator(N):\n",
        "  A = []\n",
        "  prev = 0\n",
        "  for i in range(N):\n",
        "    r=random.randint(0,10)\n",
        "    A.append(prev+r)\n",
        "    prev+=r\n",
        "  return A"
      ],
      "metadata": {
        "id": "5fhrXLokyejz"
      },
      "execution_count": 3,
      "outputs": []
    },
    {
      "cell_type": "code",
      "source": [
        "import matplotlib.pyplot as plt\n",
        "import seaborn as sns\n",
        "import datetime\n",
        "from timeit import repeat\n",
        "\n",
        "%matplotlib inline\n",
        "sns.set(context='notebook', style='darkgrid', palette='dark')\n",
        "sns.set(rc={'figure.figsize':(11.7,8.27)})\n",
        "\n",
        "# Tiempo\n",
        "\n",
        "x=[]; x2=[]\n",
        "y=[]; y2=[]\n",
        "\n",
        "for n in range(5,15):\n",
        "\n",
        "  A = cutrod_instance_generator(n)\n",
        "  t = repeat(setup=\"from __main__ import RecursiveCutRod\", stmt=f\"RecursiveCut({A},{n})\", repeat=1, number=10)\n",
        "\n",
        "  x.append(n)\n",
        "  y.append(t)\n",
        "\n",
        "for n in range(5,15):\n",
        "    \n",
        "  A = cutrod_instance_generator(n)\n",
        "  t = repeat(setup=\"from __main__ import BottomUpCutRod\", stmt=f\"BottomUpCutRod({A},{n})\", repeat=1, number=10)\n",
        "\n",
        "  x2.append(n)\n",
        "  y2.append(t)\n",
        "  \n",
        "plt.plot(x,y)\n",
        "plt.plot(x2,y2)\n",
        "plt.legend([\"Recursive cutRod\", \"Bottom Up CutRod\"])\n",
        "plt.title(\"Tiempo de ejecucion\")\n",
        "\n",
        "plt.xlabel('n')\n",
        "plt.ylabel('time in ms')\n",
        "plt.show()"
      ],
      "metadata": {
        "id": "x4Gq0vXCyfch",
        "outputId": "cf288b86-84e9-4ef0-e7ad-0f5abda70d92",
        "colab": {
          "base_uri": "https://localhost:8080/",
          "height": 533
        }
      },
      "execution_count": 4,
      "outputs": [
        {
          "output_type": "display_data",
          "data": {
            "text/plain": [
              "<Figure size 842.4x595.44 with 1 Axes>"
            ],
            "image/png": "[encoded data removed]"
          },
          "metadata": {}
        }
      ]
    },
    {
      "cell_type": "markdown",
      "source": [
        "Observamos en el experimento el comportamiento lineal que tiene la implementacion del buttom-Up , haciendolo un metodo mas eficiente."
      ],
      "metadata": {
        "id": "bTyfdEoh0Ihe"
      }
    },
    {
      "cell_type": "markdown",
      "source": [
        "Experimento 2: Cantidad de sub-problemas en bottom-Up"
      ],
      "metadata": {
        "id": "EGRAwEZBymfw"
      }
    },
    {
      "cell_type": "code",
      "source": [
        "# Cantidad de sub-problemas resueltos\n",
        "\n",
        "x=[]\n",
        "y=[n for n in range(5,200)]\n",
        "\n",
        "for n in range(5,200):\n",
        "\n",
        "  A = cutrod_instance_generator(n)\n",
        "  a, b, c = BottomUpCutRod(A,n)\n",
        "\n",
        "  x.append(c)\n",
        "  \n",
        "plt.plot(x,y)\n",
        "plt.legend([\"Bottom Up CutRod\"])\n",
        "plt.title(\"Subproblemas\")\n",
        "\n",
        "plt.xlabel('n')\n",
        "plt.ylabel('cantidad')\n",
        "plt.show()"
      ],
      "metadata": {
        "id": "pAHJyFi-yxeW",
        "outputId": "7f540f84-ea2d-493d-b273-86b8b87622bc",
        "colab": {
          "base_uri": "https://localhost:8080/",
          "height": 533
        }
      },
      "execution_count": 6,
      "outputs": [
        {
          "output_type": "display_data",
          "data": {
            "text/plain": [
              "<Figure size 842.4x595.44 with 1 Axes>"
            ],
            "image/png": "[encoded data removed]"
          },
          "metadata": {}
        }
      ]
    },
    {
      "cell_type": "markdown",
      "source": [
        "Obsevamos en la grafica que la cantidad de problemas a resolver, nos demuestra la comprejidad del algoritmo como $O(n^2)$"
      ],
      "metadata": {
        "id": "cgiuy8jby47U"
      }
    }
  ]
}