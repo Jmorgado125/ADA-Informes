{
  "nbformat": 4,
  "nbformat_minor": 0,
  "metadata": {
    "colab": {
      "provenance": [],
      "collapsed_sections": [],
      "authorship_tag": "ABX9TyPv+cYr8FBVtcTNUs77s4mR",
      "include_colab_link": true
    },
    "kernelspec": {
      "name": "python3",
      "display_name": "Python 3"
    },
    "language_info": {
      "name": "python"
    }
  },
  "cells": [
    {
      "cell_type": "markdown",
      "metadata": {
        "id": "view-in-github",
        "colab_type": "text"
      },
      "source": [
        "<a href=\"https://colab.research.google.com/github/Jmorgado125/ADA-Informes/blob/main/Informe_Mochila.ipynb\" target=\"_parent\"><img src=\"https://colab.research.google.com/assets/colab-badge.svg\" alt=\"Open In Colab\"/></a>"
      ]
    },
    {
      "cell_type": "markdown",
      "source": [
        "#Problema de la mochila \n",
        "\n",
        "![image](https://imgur.com/0lGbx5R.png)"
      ],
      "metadata": {
        "id": "YncUQCvwJS6r"
      }
    },
    {
      "cell_type": "markdown",
      "source": [
        "#1. Descripcion del Problema \n",
        "\n",
        "Este corresponde a un problema de optimizacion en el que busca almacenar objetos con un cierto valor en una \"mochila\", en el que idealmente se almacenen el mayor valor posible cumpliendo un cierto espacio o peso.\n",
        "\n",
        "\n",
        "---\n",
        "#### ***Entrada***: Un valor $W$ que indica la capacidad maxima, ademas de dos arreglos $v_i$ y $w_i$ que indican el valor y el peso respectivo de los objetos.\n",
        "\n",
        "#### ***Salida***: Un valor $V$ maximo alcanzado por ciertos objetos conciderando $W$.\n",
        "---\n"
      ],
      "metadata": {
        "id": "ns3rTavhQUGn"
      }
    },
    {
      "cell_type": "markdown",
      "source": [
        "#2. Descripcion del Algoritmos\n",
        "\n",
        "Problema solucionable por el metodo Greedy y programacion dinamica.para ambos metodos que se utilizarán a continuación aprovechan de la *subestructura óptima* del problema para resolverlo.\n",
        "\n",
        "**Subestructura Optima**\n",
        "---\n",
        "Sea $M[n,P]$ el problema de la mochila para los primeros $n$ elementos y de una capacidad máxima $P$.\n",
        "\n",
        "Ademas con:\n",
        "\n",
        "\n",
        "*   $i$ clave actual\n",
        "*   $p$ peso actual\n",
        "*   $p[i]$ peso del $i-esimo$\n",
        "*   $v[i]$ valor del $i-esimo$\n",
        "\n",
        "\n",
        "![image](https://imgur.com/KOleDIZ.png)\n",
        "\n",
        "observamos que hay 3 casos:\n",
        " * Donde la clave actual es 0 o la capacidad es 0 la solucion a la subestructura es trivialmente 0.\n",
        " * Donde $p[i]$ del objeto super la capacidad $P$ la solucion corresponde a la subestructura anterior.\n",
        " * Donde $p[i]$ del objeto es menor o igual a la capacidad $P$ se concidera el maximo de la anterior solucion o la anterior mas el valor de la clave actual(restando su peso a $P$).\n",
        "\n",
        "\n",
        "\n",
        "#### **Descripción para estrategia greedy**\n",
        "\n",
        "Para esta estrategia se define una *elección greedy*. La idea es decidir que realizar antes de resolver algún subproblema.\n",
        "\n",
        "***Elección greedy***: Se selecciona aquel elemento con mayor valor por peso con la intención de maximizar la ganancia obtenida.\n",
        "\n",
        "Este algoritmo recibe como entrada el arreglo de precios $p_i$, el arreglo de pesos $w_i$, la capacidad máxima $W$ y el total de claves $n$\n",
        "\n",
        "El procedimiento es el siguiente:<br>\n",
        "1. Se generan dos arreglos, uno conteniendo índices y otro el valor por peso. \n",
        "2. Se ordenan los índices según su valor por peso asociados\n",
        "3. Se declaran dos variables, una para almacenar el valor total y otra para almacenar la capacidad disponible luego de agregar algún elemento.\n",
        "4. Se itera por cada índice del arreglo de indices, agregando el elemento considerado si la capacidad restante lo permite.\n",
        "\n",
        "\n",
        "#### **Descripción para el algoritmo dinámico**\n",
        "\n",
        "El algoritmo dinámico *bottom-up*  consiste en rellenar una matriz con los resultados de subproblemas cuyas dimensiones están delimitadas por los índices de la misma.\n",
        "\n",
        "La matriz se va rellenando considerando uno a uno cada cantidad de claves y cada capacidad máxima posible de manera creciente\n",
        "\n",
        "El procedimiento es el siguiente:\n",
        "> Se declara la matriz para almacenar los subproblemas de dimensiones Values[0.. n, 0.. W]\n",
        ">\n",
        "> Se recorre cada fila de la matriz de forma ascendiente. La primera iteración, cuando $i = 0$, considera $0$ elementos para agregar a la mochila. De forma análoga, cuando $i = 4$ se consideran 4 elementos para agregar a la mochila\n",
        ">\n",
        ">> Para cada iteración de $i$, se itera para cada capacidad $j = 0.. W$ posible.\n",
        ">>> Si $i==0$ o $W==0$, no hay items o espacio para almacenar. El valor máximo en estas ocasiones es $0$.\n",
        ">>>\n",
        ">>> Si el peso de elemento $w_{i-1}$ es mayor al de la capacidad actual considerada, el valor máximo de este caso será aquel de igual capacidad pero sin el elemento considerado *(Uno de los problemas previamente resueltos)*\n",
        ">>>\n",
        ">>> En cualquier otro caso, el valor máximo estará dado por la cantidad mayor de dos opciones:\n",
        ">>> * El valor máximo para el problema de misma capacidad pero sin considerar el $i$-ésimo elemento.\n",
        ">>> * El valor del elemento a considerar más el valor máximo para el problema que no considera el elemento $i$-ésimo y con capacidad $w-w_i$ *(Capacidad restante al agregar el $i$-ésimo)*\n",
        "\n",
        "Al finalizar, el resultado óptimo final será definido por $values[n, W]$, ya que considera todas las claves y la capacidad máxima posible.\n"
      ],
      "metadata": {
        "id": "tbavlFEGQebJ"
      }
    },
    {
      "cell_type": "markdown",
      "source": [
        "**Generador de instancias**"
      ],
      "metadata": {
        "id": "v0vcuYpZUVsU"
      }
    },
    {
      "cell_type": "code",
      "source": [
        "import random\n",
        "\n",
        "def knapsack_instance_generator(N):\n",
        "  val = []\n",
        "  wt = []\n",
        "  prev_v = 0\n",
        "  prev_w = 0\n",
        "  for i in range(N):\n",
        "    v = random.randint(1, 100)\n",
        "    val.append(prev_v + v)\n",
        "    prev_v += v\n",
        "    \n",
        "    w = random.randint(1, 10)\n",
        "    wt.append(prev_w + w)\n",
        "    if (v >= 50):\n",
        "        prev_w += w\n",
        "\n",
        "  W = int(sum(wt) / 2)\n",
        "  return W, val, wt\n",
        "\n",
        "W, val, wt = knapsack_instance_generator(10)\n"
      ],
      "metadata": {
        "id": "6WX9-PanUWEu"
      },
      "execution_count": 33,
      "outputs": []
    },
    {
      "cell_type": "markdown",
      "source": [
        "**Solucion metodo Greedy**"
      ],
      "metadata": {
        "id": "CpJcVP2bUxlt"
      }
    },
    {
      "cell_type": "code",
      "source": [
        "def metodo_greedy(W, val, wt, n, verbose = False):\n",
        "\n",
        "    # Lista de indices\n",
        "    index = list(range(n))\n",
        "\n",
        "    # Calculo de valor por unidad de peso\n",
        "    vp = [value/weight for value, weight in zip(val, wt)]\n",
        "    \n",
        "    # Ordenar indices segun su valor por unidad de peso\n",
        "    index.sort(key=lambda i: vp[i], reverse=True)\n",
        "\n",
        "    max_value = 0\n",
        "    max_weight = W\n",
        "    items = []\n",
        "    iterations = 0\n",
        "\n",
        "    # Agregar items\n",
        "    for i in index:\n",
        "\n",
        "        iterations += 1\n",
        "\n",
        "        if wt[i] <= max_weight:\n",
        "            max_value += val[i]\n",
        "            max_weight -= wt[i]\n",
        "            items.append(i)\n",
        "    \n",
        "            continue\n",
        "    \n",
        "\n",
        "    \n",
        "    return max_value, items, iterations\n",
        "\n",
        "\n",
        "# Ejemplo \n",
        "\n",
        "val = [60, 100, 120]\n",
        "wt = [10, 20, 30]\n",
        "W = 50\n",
        "n = len(val)\n",
        "\n",
        "valor, items, iteraciones = metodo_greedy(W, val, wt, n, verbose = False)\n",
        "\n",
        "print(f\"El supuesto valor maximo es {valor} con {iteraciones} iteraciones\")\n",
        "print(f\"Items : {items}\")"
      ],
      "metadata": {
        "colab": {
          "base_uri": "https://localhost:8080/"
        },
        "id": "erjgsJnHUy48",
        "outputId": "e08f98ff-7ad1-4a5e-c29b-4c74bffd8b3d"
      },
      "execution_count": 34,
      "outputs": [
        {
          "output_type": "stream",
          "name": "stdout",
          "text": [
            "El supuesto valor maximo es 160 con 3 iteraciones\n",
            "Items : [0, 1]\n"
          ]
        }
      ]
    },
    {
      "cell_type": "markdown",
      "source": [
        "**Solucion con programacion Dinamica**"
      ],
      "metadata": {
        "id": "xPyqrZvtUyAU"
      }
    },
    {
      "cell_type": "code",
      "source": [
        "def metodo_dinamico(W, val, wt, n, verbose = False):\n",
        "\n",
        "    # Generar matriz que guarde los resultados optimos a subproblemas\n",
        "    values = [[0 for _ in range( W + 1 )] for _ in range(n + 1)]\n",
        "\n",
        "    # Contador de subproblemas\n",
        "    cont = 0\n",
        "\n",
        "\n",
        "    for i in range (n+1):           # Recorrer para cantidad de items \n",
        "        for j in range (W+1):       # Recorrer para pesos maximos\n",
        "\n",
        "            cont += 1\n",
        "            # Caso base, no claves o capacidad de 0\n",
        "            if i == 0 or W == 0 :\n",
        "                values[i][j] == 0\n",
        "            else:\n",
        "                # Resolucion basada en resultados previos\n",
        "                if wt[i-1] <= j :\n",
        "                    \n",
        "                    a = val[i-1] + values[i-1][j-wt[i-1]]\n",
        "                    b = values[i-1][j]\n",
        "                    values[i][j] = max(a, b)\n",
        "\n",
        "                else:\n",
        "                    values[i][j] = values [i-1][j]\n",
        "\n",
        "    return values[n][W], cont, values\n",
        "\n",
        "# Ejemplo\n",
        "\n",
        "val = [60, 100, 120]\n",
        "wt = [10, 20, 30]\n",
        "W = 50\n",
        "n = len(val)\n",
        "\n",
        "valor, comp , valores = metodo_dinamico(W, val, wt, n, verbose = False)\n",
        "\n",
        "print(f\"El valor maximo es {valor} con {comp} subproblemas\")"
      ],
      "metadata": {
        "colab": {
          "base_uri": "https://localhost:8080/"
        },
        "id": "VVjpmCCkUzrs",
        "outputId": "4bf25747-64a5-40a2-ea0f-5579cb916093"
      },
      "execution_count": 35,
      "outputs": [
        {
          "output_type": "stream",
          "name": "stdout",
          "text": [
            "El valor maximo es 220 con 204 subproblemas\n"
          ]
        }
      ]
    },
    {
      "cell_type": "markdown",
      "source": [
        "#3. Tiempo de Ejecucion \n",
        "\n",
        "#### ***Tiempo de ejecución para algoritmo greedy***\n",
        "\n",
        "Para determinar el tiempo de ejecución del acercamiento greedy hay que observar las operaciones que realiza el algoritmo:\n",
        "\n",
        "> Declaracion de un arreglo $= O(1)$\n",
        ">\n",
        "> Cálculo de valor por unidad de peso $= O(n)$\n",
        ">\n",
        "> Orden de los valores $= O(n\\cdot log{n})$\n",
        ">\n",
        "> Declaración variables para almacenar información relevante $= 3\\cdot O(1)$\n",
        ">\n",
        "> Iterar por el arreglo de indices de tamaño $n$ para agregar los valores : $=O(n)$\n",
        ">\n",
        "> Por cada iteración, se realizan 3 operaciones de costo constante $=3\\cdot O(1)$\n",
        "\n",
        "Terminamos con la siguiente expresión: $(2 + n)\\cdot O(1) + O(n\\cdot \\log{n}) + O(n) = O(n\\cdot \\log{n})$\n",
        "\n",
        "Por lo tanto, el tiempo de ejecución de algortimo será de ***$O(n\\cdot \\log{n}$***), principalmente dado al ordenamiento que hay que realizar.\n",
        "\n",
        "#### **Tiempo de ejecución para algoritmo bottom-up**\n",
        "\n",
        "Para determinar el tiempo de ejecución hay que observar el funcionamiento del algoritmo.\n",
        "\n",
        "> Se declara y rellena de 0 una matriz de tamaño $n\\cdot w$, siendo $n$ la cantidad de claves disponibles y $w$ la capacidad máxima para el problema. $= O(n\\cdot w)$\n",
        ">\n",
        "> Se observa la existencia de dos ciclos $n$ y $w$  anidados, cada uno corrspondiendo a la cantidad de items disponibles y la capacidad máxima para el problema, respectivamente. $= O(n\\cdot w)$\n",
        ">\n",
        ">Dentro de estos ciclos se realizan operaciones de coste contante *(Acceso a matrices, sumas y comparaciones de dos elementos)* $= O(1)$\n",
        "\n",
        "Por lo tanto, gracias a la matriz de valores, el tiempo de ejecución es de ***$O(n\\cdot w)$***\n",
        "\n",
        "<br>\n",
        "\n",
        "---"
      ],
      "metadata": {
        "id": "PBNKVRX_QezP"
      }
    },
    {
      "cell_type": "markdown",
      "source": [
        "#4. Correctitud \n",
        "\n"
      ],
      "metadata": {
        "id": "sNGh8-cAQfMo"
      }
    },
    {
      "cell_type": "markdown",
      "source": [
        "##*teorema: El algoritmo genera un conjunto de objetos parte del conjunto original que representa el valor total maximo alcanzado para el problema*\n",
        "\n",
        "##**Propiedad invariante**:\n",
        "Al comienzo de cada iteracion, el elemento $M[n,W]$ siempre almacenara la maxima ganancia posible del problema solucionado en aquel momento.\n",
        "\n",
        "###**Caso Base**:\n",
        "Previo a la primera iteracion,nuestra matriz M es inicializada en 0, por lo tanto,la posicion $M[i,j]$,tendra trivialmente como maxima solucion de ganancia 0.\n",
        "\n",
        "###**Caso Mantencion**:\n",
        "Al calcular un valor $M[i, j]$, se tiene por inducción que todo subproblema menor ha sido resuelto de forma correcta. Por lo tanto, los valores $M[i-1, j]$ y $M[i-1, j-w_{i}]$ son correctos.\n",
        "\n",
        "Para calcular el valor óptimo para el par de índices $(i, j)$ se considera la siguiente expresión : $max(M[i-1, j],  M[i-1, j-w_{i}] + p_{i})$, siendo el primer término aquel que no considera el elemento a agregar y el segundo, el que si.\n",
        "\n",
        "Dado este el valor de $M[i, j]$ es correcto."
      ],
      "metadata": {
        "id": "YtKBBsU-qhdF"
      }
    },
    {
      "cell_type": "markdown",
      "source": [
        "#5. Experimentacion"
      ],
      "metadata": {
        "id": "aTI70ZO7Qf44"
      }
    },
    {
      "cell_type": "code",
      "source": [
        "import matplotlib.pyplot as plt\n",
        "import seaborn as sns\n",
        "import datetime\n",
        "from timeit import repeat\n",
        "\n",
        "%matplotlib inline\n",
        "sns.set(context='notebook', style='darkgrid', palette='deep')\n",
        "sns.set(rc={'figure.figsize':(11.7,8.27)})"
      ],
      "metadata": {
        "id": "xVhOShrHepXl"
      },
      "execution_count": 30,
      "outputs": []
    },
    {
      "cell_type": "code",
      "source": [
        "%matplotlib inline\n",
        "sns.set(context='notebook', style='darkgrid', palette='deep')\n",
        "sns.set(rc={'figure.figsize':(11.7,8.27)})\n",
        "\n",
        "# Tiempo\n",
        "\n",
        "x=[]; x2=[]\n",
        "y=[]; y2=[]\n",
        "\n",
        "for n in range(5, 50):\n",
        "\n",
        "  W, val, wt = knapsack_instance_generator(n)\n",
        "  W, val, wt\n",
        "\n",
        "  t = repeat(setup=\"from __main__ import metodo_dinamico\", stmt=f\"metodo_dinamico({W}, {val}, {wt}, {n})\", repeat=1, number=10)\n",
        "  t2 = repeat(setup=\"from __main__ import metodo_greedy\", stmt=f\"metodo_greedy({W}, {val}, {wt}, {n})\", repeat=1, number=10)\n",
        "\n",
        "  x.append(n)\n",
        "  x2.append(n)\n",
        "  y.append(t)\n",
        "  y2.append(t2)\n",
        "  \n",
        "plt.plot(x,y)\n",
        "plt.plot(x2,y2)\n",
        "plt.legend([\"Dynamic\", \"Greedy\"])\n",
        "plt.title(\"Tiempo de ejecucion\")\n",
        "\n",
        "plt.xlabel('n')\n",
        "plt.ylabel('time in ms')\n",
        "plt.show()"
      ],
      "metadata": {
        "colab": {
          "base_uri": "https://localhost:8080/",
          "height": 533
        },
        "id": "t4NPVSZFes5k",
        "outputId": "5b5c3f2e-fd0e-436d-eab2-437d670bf52d"
      },
      "execution_count": 31,
      "outputs": [
        {
          "output_type": "display_data",
          "data": {
            "text/plain": [
              "<Figure size 842.4x595.44 with 1 Axes>"
            ],
            "image/png": "[encoded data removed]"
          },
          "metadata": {}
        }
      ]
    },
    {
      "cell_type": "markdown",
      "source": [
        "En la grafica se puede observar que en la resolucion del problema con programacion dinamica el tiempo depende de la capacidad maxima $W$,a medida que este aumenta habran mas subproblemas que resolver, por lo que vuelve el metodo greedy mas eficiente en la practica."
      ],
      "metadata": {
        "id": "9pdTNgU_m7pe"
      }
    },
    {
      "cell_type": "code",
      "source": [
        "x = []; x2 = []\n",
        "y = []; y2 = []\n",
        "\n",
        "for n in range(5, 50):\n",
        "\n",
        "  W, val, wt = knapsack_instance_generator(n)\n",
        "  W, val, wt\n",
        "\n",
        "  value, items, iterations = metodo_greedy(W, val, wt, n)\n",
        "  value, subproblems,a = metodo_dinamico(W,val,wt,n)\n",
        "\n",
        "  x.append(n)\n",
        "  x2.append(n)\n",
        "  y.append(subproblems)\n",
        "  y2.append(iterations)\n",
        "\n",
        "\n",
        "plt.plot(x,y)\n",
        "plt.plot(x2,y2)\n",
        "\n",
        "plt.legend([\"Dynamic\", \"Greedy\"])\n",
        "plt.title(\"Subproblemas vs. Iteraciones\")\n",
        "\n",
        "plt.xlabel('n')\n",
        "plt.ylabel('Cantidad')\n",
        "plt.show()"
      ],
      "metadata": {
        "colab": {
          "base_uri": "https://localhost:8080/",
          "height": 533
        },
        "id": "xvYcKZnjetSF",
        "outputId": "e22bf8f0-1819-4840-97ad-aa0fa3d12e1d"
      },
      "execution_count": 32,
      "outputs": [
        {
          "output_type": "display_data",
          "data": {
            "text/plain": [
              "<Figure size 842.4x595.44 with 1 Axes>"
            ],
            "image/png": "[encoded data removed]"
          },
          "metadata": {}
        }
      ]
    },
    {
      "cell_type": "markdown",
      "source": [
        "La cantidad de subproblemas dependera de $W$ por lo que observamos en la figura que el algoritmo de programacion dinamica resuelve una gran cantidad de estos."
      ],
      "metadata": {
        "id": "u_Gh6NP8m8VV"
      }
    }
  ]
}