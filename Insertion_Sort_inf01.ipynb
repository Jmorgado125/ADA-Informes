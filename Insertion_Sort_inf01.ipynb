{
  "nbformat": 4,
  "nbformat_minor": 0,
  "metadata": {
    "colab": {
      "name": "Insertion Sort-inf01",
      "provenance": [],
      "toc_visible": true,
      "include_colab_link": true
    },
    "kernelspec": {
      "name": "python3",
      "display_name": "Python 3"
    },
    "language_info": {
      "name": "python"
    }
  },
  "cells": [
    {
      "cell_type": "markdown",
      "metadata": {
        "id": "view-in-github",
        "colab_type": "text"
      },
      "source": [
        "<a href=\"https://colab.research.google.com/github/Jmorgado125/ADA-Informes/blob/main/Insertion_Sort_inf01.ipynb\" target=\"_parent\"><img src=\"https://colab.research.google.com/assets/colab-badge.svg\" alt=\"Open In Colab\"/></a>"
      ]
    },
    {
      "cell_type": "markdown",
      "source": [
        "# INSERTION SORT"
      ],
      "metadata": {
        "id": "7ocsffrv8VWn"
      }
    },
    {
      "cell_type": "markdown",
      "source": [
        "# 1. Descripción Problema\n",
        "## **Problema de ordenamiento** \"**Insertion sort**\"\n",
        "\n",
        "\n",
        "\n",
        "*   ### **Entrada:**Secuencia de numeros $a_n$ sin ningun requisito de entrada $[a_1',a_2',...,a_n']$.\n",
        "*   ### **Salida:**Intercambio ordenado de los valores dentro de la secuencia , de manera que $[a_1 < a_2 < a_3 ... <a_n]$ de menor a mayor, o $[a_1 > a_2 > a_3 ... >a_n]$.\n",
        "\n",
        "\n",
        "\n",
        "\n",
        "![image](https://imgur.com/9SjgGWx.png)\n",
        "\n",
        "\n",
        "\n",
        "\n",
        "### Los problemas de ordenamiento lleva existiendo desde el comienzo de las ciencias computacionales, en efecto nacen alogritmos como el **insertion sort**, este algoritmo permite la organizacion de valores en un arreglo a medida de la insersion de estos , comparando con el sub arreglo de la izquierda.\n",
        "\n",
        "\n"
      ],
      "metadata": {
        "id": "klDd4RB7YXTD"
      }
    },
    {
      "cell_type": "markdown",
      "source": [
        "#2. Insertion Sort\n",
        "\n",
        "El siguiente codigo corresponde al arlgoritmo de ordenamiento."
      ],
      "metadata": {
        "id": "k8cCNBXrRip1"
      }
    },
    {
      "cell_type": "code",
      "source": [
        "\n",
        "def insertion_Sort(arr):\n",
        "    # Primero se recorre el arreglo desde la pos 1 hasta n (largo).\n",
        "    for i in range(1, len(arr)):\n",
        "        valor = arr[i]      #Se le asigna una variable al valor a ordenar, para mayor entendimiento.\n",
        "        k = i-1\n",
        "        while k >= 0 and valor < arr[k] : #En este ciclo es comparado el valor con el subarreglo para encontrar su pos\n",
        "              arr[k + 1] = arr[k]\n",
        "              k -= 1\n",
        "        arr[k + 1] = valor #Se le asigna pos al valor.\n",
        "  \n",
        "\n",
        "arr = [5, 3, 9, 6]\n",
        "print(\"ENTRADA:\")\n",
        "print(arr)\n",
        "insertion_Sort(arr)\n",
        "print (\"SALIDA:\" )\n",
        "print(arr)"
      ],
      "metadata": {
        "colab": {
          "base_uri": "https://localhost:8080/"
        },
        "id": "2A7f2_wIYF0R",
        "outputId": "219c8680-d7f1-4e5b-f289-88379ac19fa1"
      },
      "execution_count": 11,
      "outputs": [
        {
          "output_type": "stream",
          "name": "stdout",
          "text": [
            "ENTRADA:\n",
            "[5, 3, 9, 6]\n",
            "SALIDA:\n",
            "[3, 5, 6, 9]\n"
          ]
        }
      ]
    },
    {
      "cell_type": "markdown",
      "source": [
        "## 2.2. Descripción del algoritmo\n",
        "\n",
        "El algoritmo recibe de entrada un arreglo (o lista) $a_n$ con la secuencia de $n$ elementos no necesariamente ordenada. Luego, los números se ordenan dentro del mismo arreglo (sin la necesidad de una estructura auxiliar).\n",
        "\n",
        "1. Cuando comenzamos, la primera iteracion de un elemento $a[0]$, es conciderado como  ordenado ya que no existe un subarreglo con el cual compararse y posicionarse.\n",
        "\n",
        "2. Luego, para cada elemento $a[i]$, recorremos el arreglo de la posición 0 a la i-1 para encontrar la posición correcta. Luego, colocamos el elemento en esa posición (ojo que si trabajamos con un arreglo, deberemos correr los elementos de la izquierda una posición hacia la derecha).\n",
        "\n",
        "3. Repetimos el procedimiento para cada una de las posiciones del arreglo hasta llegar a la última (n-1)."
      ],
      "metadata": {
        "id": "hB27GY1QbkgY"
      }
    },
    {
      "cell_type": "markdown",
      "source": [
        "##2.3. Ejemplo\n",
        "\n",
        "Consideremos, por ejemplo, el arreglo:\n",
        "\n",
        "$a=[5,3,9,6]$\n",
        "\n",
        "En la primera iteracion se mantiene el primer valor \"ordenado\":\n",
        "\n",
        "\n",
        "\n",
        "> $a=[5,*,*,*]$\n",
        "\n",
        "\n",
        "\n",
        "En la siguiente iteracion es revelado y comparado el siguiente valor (3), y es comparado y posicionado segun su valor.\n",
        "\n",
        "\n",
        "> $a=[3,5,*,*]$\n",
        "\n",
        "\n",
        "En la siguiente iteracion el valor se encuentra en la posicion de orden correcta y se mantiene.\n",
        "\n",
        ">$a=[3,5,9,*]$\n",
        "\n",
        "En la ultima iteracion el valor (6) es comparado e intercambiado con su antecesor (9) para su correcto ordenamiento. \n",
        "\n",
        ">$a=[3,5,6,9]$\n",
        "\n",
        "Como resultado final el algoritmo entrega un arreglo correctamente ordenado.\n",
        "\n",
        "\n",
        "\n",
        "̱\n",
        "\n",
        "\n",
        "*Este Algoritmo es comunmente asociado a ordenar una baraja de cartas en de una mano.*\n",
        "\n",
        "![image](https://imgur.com/n7ce54I.png)\n",
        "\n",
        "\n",
        "\n"
      ],
      "metadata": {
        "id": "3hL_IlmHfeLR"
      }
    },
    {
      "cell_type": "markdown",
      "source": [
        "##2.4. Ejecucion Paso a Paso\n"
      ],
      "metadata": {
        "id": "EdIRmTD9ffAB"
      }
    },
    {
      "cell_type": "markdown",
      "source": [
        "#3. Tiempo de Ejecucion \n",
        "*El algoritmo **insertion sort** en el peor de los casos (el orden sea el contrario al que queremos conseguir)  tiene un **tiempo de ejecución de** $O(n^2)$*\n",
        "\n",
        "## Prueba del teorema\n",
        "\n",
        "En esta situación, para cada elemento $i$, el algoritmo debería recorrer el arreglo desde la posición $i$ hasta la posición $0$, ya que la posición correcta de cada elemento sería, de hecho, la posición $0$."
      ],
      "metadata": {
        "id": "UvfoIYc8f2cy"
      }
    },
    {
      "cell_type": "markdown",
      "source": [
        "#4. Correctitud del Algoritmo"
      ],
      "metadata": {
        "id": "RoOGmlrHgCZz"
      }
    },
    {
      "cell_type": "markdown",
      "source": [
        "#5. Experimentos"
      ],
      "metadata": {
        "id": "b7MMq12dgFZH"
      }
    },
    {
      "cell_type": "markdown",
      "source": [
        "##5.1."
      ],
      "metadata": {
        "id": "N8IN78bqgW87"
      }
    },
    {
      "cell_type": "markdown",
      "source": [
        "##5.2."
      ],
      "metadata": {
        "id": "MwssUBaHngM1"
      }
    }
  ]
}