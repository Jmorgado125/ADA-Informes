{
  "nbformat": 4,
  "nbformat_minor": 0,
  "metadata": {
    "colab": {
      "name": "Insertion Sort-inf01",
      "provenance": [],
      "toc_visible": true,
      "authorship_tag": "ABX9TyOu8589hNUe4g2cJS+GaWCH",
      "include_colab_link": true
    },
    "kernelspec": {
      "name": "python3",
      "display_name": "Python 3"
    },
    "language_info": {
      "name": "python"
    }
  },
  "cells": [
    {
      "cell_type": "markdown",
      "metadata": {
        "id": "view-in-github",
        "colab_type": "text"
      },
      "source": [
        "<a href=\"https://colab.research.google.com/github/Jmorgado125/ADA-Informes/blob/main/Insertion_Sort_inf01.ipynb\" target=\"_parent\"><img src=\"https://colab.research.google.com/assets/colab-badge.svg\" alt=\"Open In Colab\"/></a>"
      ]
    },
    {
      "cell_type": "code",
      "execution_count": null,
      "metadata": {
        "id": "HZw5fSO4XFbM"
      },
      "outputs": [],
      "source": [
        ""
      ]
    },
    {
      "cell_type": "code",
      "source": [
        ""
      ],
      "metadata": {
        "id": "_cEYWJ82YZxS"
      },
      "execution_count": null,
      "outputs": []
    },
    {
      "cell_type": "markdown",
      "source": [
        "# 1. Descripción Problema\n",
        "## **Problema de ordenamiento**\n",
        "\n",
        "\n",
        "\n",
        "*   ### **Entrada:**Secuencia de numeros $a_n$ sin ningun requisito de entrada $[a_1',a_2',...,a_n']$.\n",
        "*   ### **Salida:**Intercambio ordenado de los valores dentro de la secuencia , de manera que $[a_1 < a_2 < a_3 ... <a_n]$ de menor a mayor, o $[a_1 > a_2 > a_3 ... >a_n]$.\n",
        "\n",
        "\n",
        "\n",
        "\n",
        "\n",
        "![image](https://imgur.com/ghqQSfZ)\n",
        "\n",
        "### Los problemas de ordenamiento lleva existiendo desde el comienzo de las ciencias computacionales, en efecto nacen alogritmos como el **insertion sort**, este algoritmo permite la organizacion de valores en un arreglo a medida de la insersion de estos , comparando con el sub arreglo\n",
        "\n",
        "\n"
      ],
      "metadata": {
        "id": "klDd4RB7YXTD"
      }
    }
  ]
}