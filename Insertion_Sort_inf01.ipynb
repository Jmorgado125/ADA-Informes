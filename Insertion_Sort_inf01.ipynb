{
  "nbformat": 4,
  "nbformat_minor": 0,
  "metadata": {
    "colab": {
      "name": "Insertion Sort-inf01",
      "provenance": [],
      "toc_visible": true,
      "include_colab_link": true
    },
    "kernelspec": {
      "name": "python3",
      "display_name": "Python 3"
    },
    "language_info": {
      "name": "python"
    }
  },
  "cells": [
    {
      "cell_type": "markdown",
      "metadata": {
        "id": "view-in-github",
        "colab_type": "text"
      },
      "source": [
        "<a href=\"https://colab.research.google.com/github/Jmorgado125/ADA-Informes/blob/main/Insertion_Sort_inf01.ipynb\" target=\"_parent\"><img src=\"https://colab.research.google.com/assets/colab-badge.svg\" alt=\"Open In Colab\"/></a>"
      ]
    },
    {
      "cell_type": "markdown",
      "source": [
        "# INSERTION SORT"
      ],
      "metadata": {
        "id": "7ocsffrv8VWn"
      }
    },
    {
      "cell_type": "markdown",
      "source": [
        "# 1. Descripción Problema\n",
        "## **Problema de ordenamiento** \"**Insertion sort**\"\n",
        "\n",
        "\n",
        "\n",
        "*   ### **Entrada:**Secuencia de numeros $a_n$ sin ningun requisito de entrada $[a_1',a_2',...,a_n']$.\n",
        "*   ### **Salida:**Intercambio ordenado de los valores dentro de la secuencia , de manera que $[a_1 < a_2 < a_3 ... <a_n]$ de menor a mayor, o $[a_1 > a_2 > a_3 ... >a_n]$.\n",
        "\n",
        "\n",
        "\n",
        "\n",
        "![image](https://imgur.com/9SjgGWx.png)\n",
        "\n",
        "\n",
        "\n",
        "\n",
        "### Los problemas de ordenamiento lleva existiendo desde el comienzo de las ciencias computacionales, en efecto nacen alogritmos como el **insertion sort**, este algoritmo permite la organizacion de valores en un arreglo a medida de la insersion de estos , comparando con el sub arreglo de la izquierda.\n",
        "\n",
        "\n"
      ],
      "metadata": {
        "id": "klDd4RB7YXTD"
      }
    },
    {
      "cell_type": "markdown",
      "source": [
        "#2. Insertion Sort\n",
        "\n",
        "El siguiente codigo corresponde al arlgoritmo de ordenamiento."
      ],
      "metadata": {
        "id": "k8cCNBXrRip1"
      }
    },
    {
      "cell_type": "code",
      "source": [
        "\n",
        "def insertion_Sort(arr):\n",
        "    T=0\n",
        "    # Primero se recorre el arreglo desde la pos 1 hasta n (largo).\n",
        "    for i in range(1, len(arr)):\n",
        "        \n",
        "        valor = arr[i]      #Se le asigna una variable al valor a ordenar, para mayor entendimiento.\n",
        "        k = i-1\n",
        "        while k >= 0 and valor < arr[k] : #En este ciclo es comparado el valor con el subarreglo para encontrar su pos\n",
        "              T += 1\n",
        "              arr[k + 1] = arr[k]\n",
        "              k -= 1\n",
        "        arr[k + 1] = valor #Se le asigna pos al valor.\n",
        "    \n",
        "    return arr,T\n",
        "  \n",
        "\n",
        "arr = [2, 3, 4, 1]\n",
        "print(\"ENTRADA:\",arr)\n",
        "arr,cont=insertion_Sort(arr)\n",
        "print (\"SALIDA:\",arr )\n",
        "print(\"# Comparaciones:\",cont)"
      ],
      "metadata": {
        "colab": {
          "base_uri": "https://localhost:8080/"
        },
        "id": "2A7f2_wIYF0R",
        "outputId": "2283abad-db9c-4ac9-aef7-b545ed989b8e"
      },
      "execution_count": 4,
      "outputs": [
        {
          "output_type": "stream",
          "name": "stdout",
          "text": [
            "ENTRADA: [2, 3, 4, 1]\n",
            "SALIDA: [1, 2, 3, 4]\n",
            "# Comparaciones: 3\n"
          ]
        }
      ]
    },
    {
      "cell_type": "markdown",
      "source": [
        "## 2.2. Descripción del algoritmo\n",
        "\n",
        "El algoritmo recibe de entrada un arreglo (o lista) $a_n$ con la secuencia de $n$ elementos no necesariamente ordenada. Luego, los números se ordenan dentro del mismo arreglo (sin la necesidad de una estructura auxiliar).\n",
        "\n",
        "1. Cuando comenzamos, la primera iteracion de un elemento $a[0]$, es conciderado como  ordenado ya que no existe un subarreglo con el cual compararse y posicionarse.\n",
        "\n",
        "2. Luego, para cada elemento $a[i]$, recorremos el arreglo de la posición 0 a la i-1 para encontrar la posición correcta. Luego, colocamos el elemento en esa posición (ojo que si trabajamos con un arreglo, deberemos correr los elementos de la izquierda una posición hacia la derecha).\n",
        "\n",
        "3. Repetimos el procedimiento para cada una de las posiciones del arreglo hasta llegar a la última (n-1)."
      ],
      "metadata": {
        "id": "hB27GY1QbkgY"
      }
    },
    {
      "cell_type": "markdown",
      "source": [
        "##2.3. Ejemplo\n",
        "\n",
        "Consideremos, por ejemplo, el arreglo:\n",
        "\n",
        "$a=[5,3,9,6]$\n",
        "\n",
        "En la primera iteracion se mantiene el primer valor \"ordenado\":\n",
        "\n",
        "\n",
        "\n",
        "> $a=[5,*,*,*]$\n",
        "\n",
        "\n",
        "\n",
        "En la siguiente iteracion es revelado y comparado el siguiente valor (3), y es comparado y posicionado segun su valor.\n",
        "\n",
        "\n",
        "> $a=[3,5,*,*]$\n",
        "\n",
        "\n",
        "En la siguiente iteracion el valor se encuentra en la posicion de orden correcta y se mantiene.\n",
        "\n",
        ">$a=[3,5,9,*]$\n",
        "\n",
        "En la ultima iteracion el valor (6) es comparado e intercambiado con su antecesor (9) para su correcto ordenamiento. \n",
        "\n",
        ">$a=[3,5,6,9]$\n",
        "\n",
        "Como resultado final el algoritmo entrega un arreglo correctamente ordenado.\n",
        "\n",
        "\n",
        "\n",
        "̱\n",
        "\n",
        "\n",
        "*Este Algoritmo es comunmente asociado a ordenar una baraja de cartas en de una mano.*\n",
        "\n",
        "![image](https://imgur.com/n7ce54I.png)\n",
        "\n",
        "\n",
        "\n"
      ],
      "metadata": {
        "id": "3hL_IlmHfeLR"
      }
    },
    {
      "cell_type": "markdown",
      "source": [
        "#3. Tiempo de Ejecucion \n",
        "*El algoritmo **insertion sort** en el peor de los casos (el orden sea el contrario al que queremos conseguir)  tiene un **tiempo de ejecución de** $O(n^2)$*\n",
        "\n",
        "## Prueba del teorema\n",
        "\n",
        "En esta situación, para cada elemento $i$, el algoritmo debería recorrer el arreglo desde la posición $i$ hasta la posición $0$, ya que la posición correcta de cada elemento sería, de hecho, la posición $0$.\n"
      ],
      "metadata": {
        "id": "UvfoIYc8f2cy"
      }
    },
    {
      "cell_type": "code",
      "source": [
        "a =[9,8,7,6,5,4,3,2,1];\n",
        "print(\"Entrada no ordenada:\",a)\n",
        "a,counter=insertion_Sort(a)\n",
        "print(\"Salida ordenada:\",a)\n",
        "print(\"Total de comparaciones realizadas:\",counter)\n",
        "media=(counter)/len(a)\n",
        "print(\"Media de comparciones por elemento:\",media)"
      ],
      "metadata": {
        "id": "X0TIWXil2A3t",
        "outputId": "5f44f645-76c4-468a-9023-90fe35a749d7",
        "colab": {
          "base_uri": "https://localhost:8080/"
        }
      },
      "execution_count": 35,
      "outputs": [
        {
          "output_type": "stream",
          "name": "stdout",
          "text": [
            "Entrada no ordenada: [9, 8, 7, 6, 5, 4, 3, 2, 1]\n",
            "Salida ordenada: [1, 2, 3, 4, 5, 6, 7, 8, 9]\n",
            "Total de comparaciones realizadas: 36\n",
            "Media de comparciones por elemento: 4.0\n"
          ]
        }
      ]
    },
    {
      "cell_type": "markdown",
      "source": [
        "Observe que la complejidad del algoritmo esta asociado al **número de comparaciones** que se realizaron dentro del método.\n",
        "\n",
        "En el caso general, se deberían realizar $\\sum\\limits_{i=0}^{n-1} i=\\frac{n(n-1)}{2}$ comparaciones, gracias a esto sabemos que la complejidad del algoritmo corresponde a $O(n^2)$."
      ],
      "metadata": {
        "id": "lxpW9MN023WK"
      }
    },
    {
      "cell_type": "markdown",
      "source": [
        "#4. Correctitud del Algoritmo\n",
        "\n",
        "*El algoritmo **InsertionSort** genera un arreglo: $[a_1',a_2',...,a_n']$, con los mismos elementos del arreglo de entrada ordenados de menor a mayor, es decir,* $a_1'\\leq a_2' \\leq... \\leq a_n'$.\n",
        "\n",
        "En el comienzo de cada iteración del bucle más grande, el subarreglo a[0..i-1] corresponde a valores anteriormente ordenados.\n",
        "\n",
        "### **Lema 1** **(propiedad de bucle invariante del InsertionSort)**\n",
        "\n",
        "*Al realizar la i-esima iteracion se asegura que los valores ya revisados estan ordenados, es decir el sub-arreglo cotiene valores del propio arreglo ya en orden de valores.*\n",
        "\n",
        "\n",
        "Para Que se cumpla  la teoria, esta propiedad debe cumplirse en todo momento, partiendo del inicio del algoritmo hasta su final.\n",
        "\n",
        "\n",
        "\n",
        ">**Inicialización**:Al realizar la primera iteracion notamos que i comienza con el valor 1, por lo tanto, $a[0..i-1]$ corresponde al primer elemento del arreglo original: $ a[0]$.\n",
        "*Ejemplo arreglo $a[8,4,6,3,1,9,5]$*.\n",
        "\n",
        ">![image](https://imgur.com/OtzkOnf.png)\n",
        "\n",
        "\n",
        ">**Mantención**: Para probar la mantención, debemos observar lo que ocurre durante la i-ésima iteración. Asumimos que **antes de comenzar la iteración**, el arreglo **a[0..i-1]** se encuentra ordenado y **contiene los elementos del arreglo original**.  \n",
        ">Durante la iteración, “movemos” el nuevo elemento desde la **posición i**, hasta su posición correcta. Por lo tanto, **después de la iteración**, el arreglo **a[0..i]** también **contendrá los elementos del arreglo original** (ya que agregamos el i-ésimo elemento) y se mantendrá **ordenado**.\n",
        "\n",
        ">![image](https://imgur.com/byqNhSs.png)\n",
        "\n",
        "\n",
        "**Como ambas afirmaciones son verdaderas**, la **propiedad invariante de bucle** queda demostrada.\n",
        "\n",
        "Finalmente, como el **lema 1 es verdadero**, podemos decir que al finalizar la última iteración del algoritmo, se sigue cumpliendo con la **propiedad invariante de bucle**, es decir el resultado del algoritmo contiene los mismos elementos iniciales $a_n$ ordenados secuencialmente.\n",
        "\n"
      ],
      "metadata": {
        "id": "RoOGmlrHgCZz"
      }
    },
    {
      "cell_type": "markdown",
      "source": [
        "#5. Experimentos"
      ],
      "metadata": {
        "id": "b7MMq12dgFZH"
      }
    },
    {
      "cell_type": "markdown",
      "source": [
        "##5.1. Numero de Comparaciones \n",
        "\n",
        "A continuación se muestra gráficamente una comparación entre:\n",
        "\n",
        "* cantidad de comparaciones del peor caso calculadas matemáticamente,\n",
        "* cantidad de comparaciones del mejor caso calculadas matemáticamente (n-1 comparaciones si el arreglo está ordenado)\n",
        "* cantidad de comparaciones realizadas experimentalmente para entradas aleatorias"
      ],
      "metadata": {
        "id": "N8IN78bqgW87"
      }
    },
    {
      "cell_type": "code",
      "source": [
        "import random\n",
        "import matplotlib.pyplot as plt\n",
        "\n",
        "x=[n for n in range(5,20)] \n",
        "y1=[n*(n-1)/2 for n in range(5,20)] # worst case\n",
        "y2=[n-1 for n in range(5,20)] # best case\n",
        "y=[]; \n",
        "\n",
        "for n in range(5,20):\n",
        "  a = random.sample(range(1, 100), n)\n",
        "  a,counter = insertion_Sort(a)\n",
        "  y.append(counter)\n",
        "\n",
        "plt.plot(x,y)\n",
        "plt.plot(x,y1)\n",
        "plt.plot(x,y2)\n",
        "plt.legend([\"insertion Sort\", \"theoretical worst case\", \"theoretical best case\"])\n",
        "\n",
        "plt.xlabel('n')\n",
        "plt.ylabel('number of operations')\n",
        "plt.show()"
      ],
      "metadata": {
        "colab": {
          "base_uri": "https://localhost:8080/",
          "height": 279
        },
        "id": "Vq5mRhaEUlge",
        "outputId": "bc0c5ac4-33d4-4f20-9eb0-4b161b6b141b"
      },
      "execution_count": 10,
      "outputs": [
        {
          "output_type": "display_data",
          "data": {
            "text/plain": [
              "<Figure size 432x288 with 1 Axes>"
            ],
            "image/png": "[encoded data removed]"
          },
          "metadata": {
            "needs_background": "light"
          }
        }
      ]
    },
    {
      "cell_type": "markdown",
      "source": [
        "Analizando el resultado del grafico, podemos observar la distancia existente entre el peor de los casos y el mejor en termino de \"comparaciones\", dando a entender que la eficiencia del programa esta directamente ligado a el ingreso de datos de entrada, ya sea en el orden o la cantidad."
      ],
      "metadata": {
        "id": "TtfFHqYIecJ8"
      }
    }
  ]
}