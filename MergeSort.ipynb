{
  "nbformat": 4,
  "nbformat_minor": 0,
  "metadata": {
    "colab": {
      "name": "MergeSort.ipynb",
      "provenance": [],
      "authorship_tag": "ABX9TyNhghPJnxTKb7UwFU0t7XCO",
      "include_colab_link": true
    },
    "kernelspec": {
      "name": "python3",
      "display_name": "Python 3"
    },
    "language_info": {
      "name": "python"
    }
  },
  "cells": [
    {
      "cell_type": "markdown",
      "metadata": {
        "id": "view-in-github",
        "colab_type": "text"
      },
      "source": [
        "<a href=\"https://colab.research.google.com/github/Jmorgado125/ADA-Informes/blob/main/MergeSort.ipynb\" target=\"_parent\"><img src=\"https://colab.research.google.com/assets/colab-badge.svg\" alt=\"Open In Colab\"/></a>"
      ]
    },
    {
      "cell_type": "markdown",
      "source": [
        "#**MergeSort**\n",
        "![image](https://imgur.com/9SjgGWx.png)\n",
        "\n",
        "##1.Descripcion del Problema\n",
        "\n",
        "###1.1. Problema de ordenamiento de valores en una secuencia $A_n$ sin un orden definido , problema con resolucion en tiempo polinomial con algoritmos como el **MergeSort** que se guia por la filosofia de *\"Divide y venceras\"*.\n",
        "\n",
        "Entrada:Valores de una secuencia de numeros no ordenados en arreglo.\n",
        "\n",
        "Salida:Un arreglo con la secuencia de valores ordenados.\n",
        "\n",
        "\n"
      ],
      "metadata": {
        "id": "474Xnjs5YFd2"
      }
    },
    {
      "cell_type": "markdown",
      "source": [
        "##2. Descripcion del Algoritmo\n",
        "\n",
        "###El siguiente codigo a la Implementacion del **Merge Sort.**"
      ],
      "metadata": {
        "id": "UIVZMvaIcMp4"
      }
    },
    {
      "cell_type": "code",
      "source": [
        "def Merge_Sort(arr):\n",
        "    if len(arr) > 1:\n",
        "        mid = len(arr)//2\n",
        "        #Inicialmente se definen las dos primeras mitades del arreglo \n",
        "        L = arr[:mid]\n",
        "        R = arr[mid:]\n",
        "        #Se Realiza la Recursividad del Algoritmo\n",
        "        Merge_Sort(L)\n",
        "        Merge_Sort(R)\n",
        " \n",
        "        i = j = k = 0 #Se definen variables para la fusion de los subarreglos (funcion Merge o de Mezcla)\n",
        "        while i < len(L) and j < len(R):\n",
        "            if L[i] < R[j]:\n",
        "                arr[k] = L[i]\n",
        "                i += 1\n",
        "            else:\n",
        "                arr[k] = R[j]\n",
        "                j += 1\n",
        "            k += 1\n",
        " \n",
        "        while i < len(L):\n",
        "            arr[k] = L[i]\n",
        "            i += 1\n",
        "            k += 1\n",
        " \n",
        "        while j < len(R):\n",
        "            arr[k] = R[j]\n",
        "            j += 1\n",
        "            k += 1\n",
        "\n",
        "if __name__ == '__main__':\n",
        "    print(\"FUNCION MERGE SORT\")\n",
        "    print(\"\")\n",
        "    print(\"--------------------------------------------\")\n",
        "    arr = [12, 11, 13, 5, 6, 7]\n",
        "    print(\"Entrada:\",arr)\n",
        "    print(\"\")\n",
        "    Merge_Sort(arr)\n",
        "    print(\"Salida:\",arr)\n",
        "    Merge_Sort(arr)\n",
        "    print(\"Media de Comparaciones=\")\n",
        "    print(\"--------------------------------------------\")\n",
        "    arr2 = [1,2,3,4,5,6,7,8,3,12, 11, 13, 5, 6, 7]\n",
        "    print(\"Entrada:\",arr2)\n",
        "    print(\"\")\n",
        "    Merge_Sort(arr2)\n",
        "    print(\"Salida:\",arr2)\n",
        "    Merge_Sort(arr2)\n",
        "    print(\"Media de Comparaciones=\")\n",
        "    print(\"--------------------------------------------\")\n",
        "    arr3 = [1,4,6,2,3,44,34,23,45,78,54,33,25,74]\n",
        "    print(\"Entrada:\",arr3)\n",
        "    print(\"\")\n",
        "    Merge_Sort(arr3)\n",
        "    print(\"Salida:\",arr3)\n",
        "    Merge_Sort(arr3)\n",
        "    print(\"Media de Comparaciones=\")\n",
        "\n",
        "\n"
      ],
      "metadata": {
        "colab": {
          "base_uri": "https://localhost:8080/"
        },
        "id": "PXGJq8p7chWl",
        "outputId": "936edb67-38fa-4ceb-f8f8-33ad6d889157"
      },
      "execution_count": 10,
      "outputs": [
        {
          "output_type": "stream",
          "name": "stdout",
          "text": [
            "FUNCION MERGE SORT\n",
            "\n",
            "--------------------------------------------\n",
            "Entrada: [12, 11, 13, 5, 6, 7]\n",
            "\n",
            "Salida: [5, 6, 7, 11, 12, 13]\n",
            "Media de Comparaciones=\n",
            "--------------------------------------------\n",
            "Entrada: [1, 2, 3, 4, 5, 6, 7, 8, 3, 12, 11, 13, 5, 6, 7]\n",
            "\n",
            "Salida: [1, 2, 3, 3, 4, 5, 5, 6, 6, 7, 7, 8, 11, 12, 13]\n",
            "Media de Comparaciones=\n",
            "--------------------------------------------\n",
            "Entrada: [1, 4, 6, 2, 3, 44, 34, 23, 45, 78, 54, 33, 25, 74]\n",
            "\n",
            "Salida: [1, 2, 3, 4, 6, 23, 25, 33, 34, 44, 45, 54, 74, 78]\n",
            "Media de Comparaciones=\n"
          ]
        }
      ]
    },
    {
      "cell_type": "markdown",
      "source": [
        "###**Merge Sort** en un algoritmo de ordenamiento se rije por la filosofia de *Divide y Venceras*, en el cual resuelve un arreglo de entrada sin un orden predeteminado, el arreglo (o lista) se divide inicialmente en dos mitades iguales y luego se combinan generando un nuevo arreglo ordenado secuencialmente $[a_1<,a_2<...a_n]$, este proceso se produce de manera recursiva segun el tamaño del arreglo y deternerse hasta que el arreglo sea indivisible $[a_n]$, es decir, cuando este vacio o existe solo un elemento.\n",
        "###Finalmente cuando esten todos los subarreglos indivisibles se aplica la funcion Merge encargada de fusionar y ordenar los subarreglos."
      ],
      "metadata": {
        "id": "8pCcymQNeDqD"
      }
    },
    {
      "cell_type": "markdown",
      "source": [
        "##2.2 Ejemplificacion Paso a paso.\n",
        "\n",
        "##![image](https://imgur.com/5cIqtSp.png)\n",
        "\n",
        "##Explicacion de lo que seucede paso a paso. \n"
      ],
      "metadata": {
        "id": "v0YfLDLjgT3W"
      }
    }
  ]
}