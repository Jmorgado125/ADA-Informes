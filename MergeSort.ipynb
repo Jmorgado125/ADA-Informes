{
  "nbformat": 4,
  "nbformat_minor": 0,
  "metadata": {
    "colab": {
      "name": "MergeSort.ipynb",
      "provenance": [],
      "include_colab_link": true
    },
    "kernelspec": {
      "name": "python3",
      "display_name": "Python 3"
    },
    "language_info": {
      "name": "python"
    }
  },
  "cells": [
    {
      "cell_type": "markdown",
      "metadata": {
        "id": "view-in-github",
        "colab_type": "text"
      },
      "source": [
        "<a href=\"https://colab.research.google.com/github/Jmorgado125/ADA-Informes/blob/main/MergeSort.ipynb\" target=\"_parent\"><img src=\"https://colab.research.google.com/assets/colab-badge.svg\" alt=\"Open In Colab\"/></a>"
      ]
    },
    {
      "cell_type": "markdown",
      "source": [
        "#**MergeSort**\n",
        "![image](https://imgur.com/9SjgGWx.png)\n",
        "\n",
        "##**1.Descripcion del Problema**\n",
        "\n",
        "###1.1. Problema de ordenamiento de valores en una secuencia $A_n$ sin un orden definido , problema con resolucion en tiempo polinomial con algoritmos como el **MergeSort** que se guia por la filosofia de *Divide y venceras*.\n",
        "\n",
        "Entrada:Valores de una secuencia de numeros no ordenados en arreglo.\n",
        "\n",
        "Salida:Un arreglo con la secuencia de valores ordenados $[a_1< a_2 < a_3 ...a_n]$.\n",
        "\n",
        "--------------------------------------------------------------------------------\n",
        "\n"
      ],
      "metadata": {
        "id": "474Xnjs5YFd2"
      }
    },
    {
      "cell_type": "markdown",
      "source": [
        "##**2. Descripcion del Algoritmo**\n",
        "\n",
        "###El siguiente codigo a la Implementacion del **Merge Sort.**"
      ],
      "metadata": {
        "id": "UIVZMvaIcMp4"
      }
    },
    {
      "cell_type": "code",
      "source": [
        "def Merge_Sort(arr):\n",
        "    if len(arr) > 1:\n",
        "        mid = len(arr)//2\n",
        "        #Inicialmente se definen las dos primeras mitades del arreglo \n",
        "        L = arr[:mid]\n",
        "        R = arr[mid:]\n",
        "        #Se Realiza la Recursividad del Algoritmo\n",
        "        Merge_Sort(L)\n",
        "        Merge_Sort(R)\n",
        "        FuncionMerge(arr,L,R)\n",
        "\n",
        "    return arr,cont\n",
        "\n",
        "\n",
        "\n",
        "\n",
        "def FuncionMerge(arr,L,R):\n",
        "        i = j = k = 0 #Se definen variables para la fusion de los subarreglos (funcion Merge o de Mezcla)\n",
        "        cont = 0\n",
        "        while i < len(L) and j < len(R):\n",
        "            if L[i] < R[j]:\n",
        "                arr[k] = L[i]\n",
        "                i += 1\n",
        "            else:\n",
        "                arr[k] = R[j]\n",
        "                j += 1\n",
        "            k += 1\n",
        " \n",
        "        while i < len(L):\n",
        "            arr[k] = L[i]\n",
        "            i += 1\n",
        "            k += 1\n",
        "            cont+=1\n",
        " \n",
        "        while j < len(R):\n",
        "            arr[k] = R[j]\n",
        "            j += 1\n",
        "            k += 1\n",
        "            cont+=1\n",
        "            \n",
        "        return arr,cont\n",
        "\n",
        "if __name__ == '__main__':\n",
        "    print(\"FUNCION MERGE SORT\")\n",
        "    print(\"\")\n",
        "    print(\"--------------------------------------------\")\n",
        "    arr = [1,4,6,2,3,44,34,23,45,78,54,33,25,74]\n",
        "    print(\"Entrada:\",arr)\n",
        "    A,cont=Merge_Sort(arr)\n",
        "    print(\"Salida:\",arr)\n",
        "    print(\"Numero de Comparaciones=\",cont)\n",
        "    print(\"--------------------------------------------\")\n",
        "    arr2 = [1,2,3,4,5,6,7,8,3,12, 11, 13, 5, 6, 7]\n",
        "    print(\"Entrada:\",arr2)\n",
        "    A,cont=Merge_Sort(arr2)\n",
        "    print(\"Salida:\",A)\n",
        "    print(\"Numero de Comparaciones=\",cont)\n",
        "    print(\"--------------------------------------------\")\n",
        "\n"
      ],
      "metadata": {
        "colab": {
          "base_uri": "https://localhost:8080/"
        },
        "id": "PXGJq8p7chWl",
        "outputId": "289a9dc0-5cda-45dd-f062-45ec0f384ba9"
      },
      "execution_count": 26,
      "outputs": [
        {
          "output_type": "stream",
          "name": "stdout",
          "text": [
            "FUNCION MERGE SORT\n",
            "\n",
            "--------------------------------------------\n",
            "Entrada: [1, 4, 6, 2, 3, 44, 34, 23, 45, 78, 54, 33, 25, 74]\n",
            "Salida: [1, 2, 3, 4, 6, 23, 25, 33, 34, 44, 45, 54, 74, 78]\n",
            "Numero de Comparaciones= 0\n",
            "--------------------------------------------\n",
            "Entrada: [1, 2, 3, 4, 5, 6, 7, 8, 3, 12, 11, 13, 5, 6, 7]\n",
            "Salida: [1, 2, 3, 3, 4, 5, 5, 6, 6, 7, 7, 8, 11, 12, 13]\n",
            "Numero de Comparaciones= 0\n",
            "--------------------------------------------\n"
          ]
        }
      ]
    },
    {
      "cell_type": "markdown",
      "source": [
        "###**Merge Sort** en un algoritmo de ordenamiento se rije por la filosofia de *Divide y Venceras*, en el cual resuelve un arreglo de entrada sin un orden predeteminado, el arreglo (o lista) se divide inicialmente en dos mitades iguales y luego se combinan generando un nuevo arreglo ordenado secuencialmente $[a_1<,a_2<...a_n]$, este proceso se produce de manera recursiva segun el tamaño del arreglo y deternerse hasta que el arreglo sea indivisible $[a_n]$, es decir, cuando este vacio o existe solo un elemento.\n",
        "###Finalmente cuando esten todos los subarreglos indivisibles se aplica la funcion Merge encargada de fusionar y ordenar los subarreglos.\n",
        "\n",
        "--------------------------------------------------------------------------------"
      ],
      "metadata": {
        "id": "8pCcymQNeDqD"
      }
    },
    {
      "cell_type": "markdown",
      "source": [
        "##**2.2 Ejemplificacion Paso a paso**\n",
        "\n",
        "##![image](https://imgur.com/J4oIjy0.png)\n",
        "\n",
        "##Explicacion del ejemplo de lo que seucede paso a paso.\n",
        "\n",
        "\n",
        "\n",
        "> 1. Primeramente el algoritmo recibe un arreglo de un tamaño de 3, el cual inicialmente lo  divide en 2 mitades, resultando dos subarreglos (con un tamaño menor a 3). \n",
        ">\n",
        ">2. En la segunda secuencia observamos que hay un arrelgo que sigue siendo divisible ,por lo que el algoritmo recursivamente lo vuelve a dividir en subarreglos.\n",
        ">\n",
        ">3. En el tercer paso vemos que el resultado de todas las divisiones dejo a 3 arreglos indivisibles e independientes por lo que se da inicio a la utilizacion de la funcion **Merge** encargada de fusionar en orden los subarreglos en un arreglo.\n",
        ">\n",
        ">4. El el cuarto paso del ejemplo observamos que ocurre la primera fusion de arreglo que se encuentra ordenado $[8,20]$ y este se mezclara en orden con el otro arreglo.\n",
        ">\n",
        ">5. Finalmente observamos que el arreglo final esta completamente ordenado con los mismo elementos de entrada\n",
        "\n",
        "--------------------------------------------------------------------------------\n"
      ],
      "metadata": {
        "id": "v0YfLDLjgT3W"
      }
    },
    {
      "cell_type": "markdown",
      "source": [
        "##**3. Tiempo de ejecucion**\n",
        "\n",
        "\n",
        "#### **Teorema (Tiempo de ejecución)**.\n",
        "\n",
        "\n",
        "![image](https://imgur.com/znzAdJz.png)\n",
        "\n",
        "La complejidad temporal de **Merge Sort** es θ(nLogn) en los 3 casos *(peor, promedio y mejor)* ya que merge sort siempre divide la entrada en dos mitades y toma un tiempo lineal para fusionar dos mitades.\n",
        "\n",
        "Merge Sort es un algoritmo recursivo y la complejidad del tiempo se puede expresar como la siguiente relación de recurrencia.\n",
        "\n",
        "\n",
        "\n",
        "> **T(n) = 2T(n/2) + θ(n)**\n",
        ">\n",
        ">*La recurrencia anterior se puede resolver utilizando el método del árbol de recurrencia o el método maestro.*\n",
        "\n",
        "\n",
        "\n",
        "--------------------------------------------------------------------------------"
      ],
      "metadata": {
        "id": "awj_VoR3indN"
      }
    },
    {
      "cell_type": "markdown",
      "source": [
        "##**4.Correctitud** \n",
        "\n",
        "--------------------------------------------------------------------------------"
      ],
      "metadata": {
        "id": "LQe8WPVlPwTw"
      }
    },
    {
      "cell_type": "markdown",
      "source": [
        "##**5.Experimentacion**\n",
        "\n",
        "\n",
        "\n",
        "--------------------------------------------------------------------------------"
      ],
      "metadata": {
        "id": "yS4ROKIYPwgb"
      }
    }
  ]
}