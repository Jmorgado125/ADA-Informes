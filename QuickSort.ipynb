{
  "nbformat": 4,
  "nbformat_minor": 0,
  "metadata": {
    "colab": {
      "provenance": [],
      "collapsed_sections": [],
      "include_colab_link": true
    },
    "kernelspec": {
      "name": "python3",
      "display_name": "Python 3"
    },
    "language_info": {
      "name": "python"
    }
  },
  "cells": [
    {
      "cell_type": "markdown",
      "metadata": {
        "id": "view-in-github",
        "colab_type": "text"
      },
      "source": [
        "<a href=\"https://colab.research.google.com/github/Jmorgado125/ADA-Informes/blob/main/QuickSort.ipynb\" target=\"_parent\"><img src=\"https://colab.research.google.com/assets/colab-badge.svg\" alt=\"Open In Colab\"/></a>"
      ]
    },
    {
      "cell_type": "markdown",
      "source": [
        "# QUICK SORT"
      ],
      "metadata": {
        "id": "xdqoWpdM0LCV"
      }
    },
    {
      "cell_type": "markdown",
      "source": [
        "#1. Descripcion del problema\n",
        "\n",
        "##Problema de Ordenamiento de valores dentro de un arreglo\n",
        "\n",
        "*    **Entrada:**Secuencia de numeros $a_n$ sin ningun requisito de orden en la entrada $[a_1',a_2',...,a_n']$.\n",
        "*    **Salida:**Intercambio ordenado de los valores dentro de la secuencia , de manera que $[a_1 < a_2 < a_3 ... <a_n]$ de menor a mayor, o $[a_1 > a_2 > a_3 ... >a_n]$.\n",
        "\n",
        "![image](https://imgur.com/9SjgGWx.png)\n",
        "\n",
        "El algoritmo a estudiar **Quick Sort** permite la organizacion de valores y da solucion al problema.El **Quicksort** es un algoritmo de ordenamiento que tiene un tiempo de ejecución en el **peor caso** de $O(n^2)$. A pesar de ello, es un algoritmo bastante utilizado gracias a su desempeño esperado en el **caso promedio** de $Θ(n log n)$.  Además, los **factores ocultos** tras la notación son bastante pequeños.\n",
        "\n",
        "\n",
        "#2.Descripcion del algoritmo\n",
        "\n",
        "Quicksort aplica el paradigma **divide-y-vencerás**.\n",
        "\n",
        "Para ordenar un arreglo A[p..r], se realizan los siguientes procesos:\n",
        "\n",
        "- Se **divide** el arreglo en 2 sub-arreglos: A[p..q-1] y A[q+1..r] de tal forma que todos los elementos de A[p..q-1] son menores o iguales a q. A su vez los elmentos de A[q+1..r] son mayores o iguales a q.\n",
        "- Se llama a **quicksort** para ordenar los subarreglos A[p..q-1] y A[q+1..r]\n",
        "- Nada más que hacer, el arreglo **ya se encuentra ordenado**: A[p..q-1]; A[q]; A[q+1..r].\n",
        "\n",
        "Algoritmo(Pseudocodigo).\n",
        "\n",
        "![image](https://imgur.com/1Z0gFpL.png)\n",
        "\n",
        "Como podrán imaginar, la parte importante es realizada por la función **Partition**.\n",
        "\n",
        "##2.1 Implementacion funcion **Partition**."
      ],
      "metadata": {
        "id": "bmuTaKDy0ZXV"
      }
    },
    {
      "cell_type": "markdown",
      "source": [
        "\n",
        ">1.Debemos seleccionar cuatro indices, donde 1 de ellos es nuestro\n",
        "**pivote** (x).\n",
        ">\n",
        ">2.Revisar si A[j] es **mayor o menor que x**. \n",
        ">\n",
        ">3.**Si es mayor**, está todo bien.\n",
        ">\n",
        ">4.**Si es menor o igual**, intercambiamos A[j] con A[i+1] y avanzamos i.\n",
        ">\n",
        ">5.En cualquier avanzamos j=j+1."
      ],
      "metadata": {
        "id": "AZviRvEtEgd-"
      }
    },
    {
      "cell_type": "markdown",
      "source": [
        "### ⨀ Seleccionando como pivote el último elemento del arreglo.\n"
      ],
      "metadata": {
        "id": "aTGbgG-Q_oiK"
      }
    },
    {
      "cell_type": "code",
      "execution_count": 56,
      "metadata": {
        "id": "zfnM7p4Yy6Rd"
      },
      "outputs": [],
      "source": [
        "def partitionHigh(array, low, high,cont):\n",
        "  \n",
        "  pivot = array[high]   #Eleccion de pivote, como el ultimo elemento\n",
        "  i = low - 1\n",
        "  ct=cont   \n",
        "  for j in range(low, high):\n",
        "    ct=ct+1\n",
        "    if array[j] <= pivot:\n",
        "      ct=ct+1\n",
        "      i = i + 1\n",
        "      (array[i], array[j]) = (array[j], array[i])\n",
        "  \n",
        "  (array[i + 1], array[high]) = (array[high], array[i + 1])\n",
        "  \n",
        "  return i + 1, ct                                                                         "
      ]
    },
    {
      "cell_type": "markdown",
      "source": [
        "### ⨀ Seleccionando como pivote el primer elemento del arreglo"
      ],
      "metadata": {
        "id": "ym8SAZfw6Lnj"
      }
    },
    {
      "cell_type": "code",
      "source": [
        "def partitionLow(arr, l, h,cont):\n",
        "  low, high = l, h\n",
        "  if l != h and l < h:\n",
        "    ct=cont\n",
        "    pivot = arr[l]\n",
        "    low = low+1\n",
        "    while low <= high:\n",
        "      ct=ct+1\n",
        "      if arr[high] < pivot and arr[low] > pivot:\n",
        "        ct=ct+1\n",
        "        arr[high], arr[low] = arr[low], arr[high]\n",
        "      if not arr[low] > pivot:\n",
        "        ct=ct+1\n",
        "        low += 1\n",
        "      if not arr[high] < pivot:\n",
        "        ct=ct+1\n",
        "        high -= 1\n",
        "  arr[l], arr[high] = arr[high], arr[l]\n",
        "  return high,ct"
      ],
      "metadata": {
        "id": "pX7_6G9bEnM8"
      },
      "execution_count": 99,
      "outputs": []
    },
    {
      "cell_type": "markdown",
      "source": [
        "### ⨀ Seleccionando como pivote la mediana de tres elementos al azar del arreglo."
      ],
      "metadata": {
        "id": "pXw1T3f5EncW"
      }
    },
    {
      "cell_type": "code",
      "source": [
        "#definiremos una funcion que nos retorne un pivote que sea la mediana de otros 3\n",
        "\n"
      ],
      "metadata": {
        "id": "2gargIOqEzSG"
      },
      "execution_count": null,
      "outputs": []
    },
    {
      "cell_type": "markdown",
      "source": [
        "##2.2 Implementacion Algoritmo **QuickSort**"
      ],
      "metadata": {
        "id": "L4e1RwnxEzyG"
      }
    },
    {
      "cell_type": "code",
      "source": [
        "def quick_sort(array, low, high):\n",
        "  cont=0\n",
        "  if low < high:\n",
        "    pi,cont = partitionHigh(array, low, high,cont)\n",
        "    quick_sort(array, low, pi - 1)\n",
        "    quick_sort(array, pi + 1, high)\n",
        "    return cont\n",
        "  \n",
        "    \n",
        "  \n",
        "array = [ 9,-3,5,2,6,8,-6,1,3]\n",
        "print(\"Arreglo inicial :\",array)\n",
        "cont=quick_sort(array, 0, len(array) - 1)\n",
        "print(\"Arreglo Ordenado :\",array)\n",
        "print(\"Comparaciones :\",cont)\n",
        "  \n",
        "\n",
        "      "
      ],
      "metadata": {
        "colab": {
          "base_uri": "https://localhost:8080/"
        },
        "id": "R_ppgiAHGZkM",
        "outputId": "1dd64bad-be8e-49b3-9104-e2fe17ef51c2"
      },
      "execution_count": 82,
      "outputs": [
        {
          "output_type": "stream",
          "name": "stdout",
          "text": [
            "Arreglo inicial : [9, -3, 5, 2, 6, 8, -6, 1, 3]\n",
            "Arreglo Ordenado : [-6, -3, 1, 2, 3, 5, 6, 8, 9]\n",
            "Comparaciones : 12\n"
          ]
        }
      ]
    },
    {
      "cell_type": "markdown",
      "source": [
        "#3. Correctitud"
      ],
      "metadata": {
        "id": "JtmoWXr_F7Dn"
      }
    },
    {
      "cell_type": "markdown",
      "source": [
        "##3.1 Correctitud funcion Partition\n",
        "\n",
        "\n",
        "Teorema : *El algoritmo Partitionun recibe un arreglo A[p..r], lo reorganiza y retorna un índice [q] de tal forma que los elementos del arreglo A[p..q-1] son menores o iguales a A[q] y los elementos del arreglo A[q+1..r] son mayores a A[q].*\n",
        "\n",
        "Para probar usaremos la propiedad de bucle invariante.\n",
        "\n",
        "Lema: \n",
        "Al comienzo de cada iteración, se cumple que para cualquier índice k, si este esta entre p≤k≤i, entonces A[k]< A[R] (pivote), y si esta i<k<j entonces A[k]> A[R] (pivote).\n",
        "\n",
        "![image](https://imgur.com/UXNmpol.png)\n",
        "\n"
      ],
      "metadata": {
        "id": "bOTwukkcHmXm"
      }
    },
    {
      "cell_type": "markdown",
      "source": [
        "##3.2 Correctitud Algoritmo QuickSort"
      ],
      "metadata": {
        "id": "woZzUZt-Z-x_"
      }
    },
    {
      "cell_type": "markdown",
      "source": [
        "Teorema: *se supone la correctitud del algoritmo básico, y se prueba por\n",
        "inducción sobre el tamaño de la instancia que la solución\n",
        "obtenida es correcta suponiendo la correctitud de las instancias\n",
        "más chicas.*\n",
        "\n",
        "Esto quiere decir que, suponiendo la correctitud de la particion en el Arreglo $A[n]$, notamos que la primera mitad resultante de la particion \"($A[n/2]$≤(pivote))\", contiene elementos menores, que la segunda mitad \"((pivote)<$A[n/2])\", El algoritmo al ser recursivo, constantemente se va corroborando la correctitud para las subdivisones de un Arreglo.\n",
        "\n",
        "![image](https://imgur.com/1Z0gFpL.png)\n",
        "\n",
        "*En la imagen podemos ver que el algoritmo recursivo, llama a la primera mitad que resulta del partition, y luego a la segunda mitad.*"
      ],
      "metadata": {
        "id": "DV-esAYBWtWS"
      }
    },
    {
      "cell_type": "markdown",
      "source": [
        "# 4. Tiempo de ejecución\n",
        "\n",
        "### **Teorema (Tiempo de ejecución).**\n",
        "\n",
        "*El algoritmo **QuickSort** tiene un **tiempo de ejecución de** $O(n log n)$ en su mejor caso (igual el caso promedio) y $O(n)$ en el peor caso.*\n",
        "\n",
        "## Prueba del teorema\n",
        "\n",
        "\n",
        "⨀ El mejor de los casos ocurre cuando el proceso de partición siempre elige el elemento central como pivote. este proceso se puede observar en la siguiente funcion de recurrencia.\n",
        "\n",
        ">$T(n)=T(n/2)+O(n)$\n",
        "\n",
        "En este caso la solucion, va dividiendo el problema constantemente en 2, casi como un MergeSort, pero a diferencia de este el QuickSort es más rápido en la práctica, porque su ciclo interno se puede implementar de manera eficiente en la mayoría de las arquitecturas y en la mayoría de los datos del mundo real.\n",
        "\n",
        "\n",
        "⨀ El peor de los casos ocurre cuando el proceso de partición siempre elige el elemento más grande o más pequeño como pivote. y segun este metodo de eleccion el peor caso ocurriría cuando la matriz ya esté ordenada en orden creciente o decreciente. La siguiente funcion de recurrencia corresponde a lo que sucede en el peor caso.\n",
        "\n",
        ">$T(n)=T(n-1)+O(n)$\n",
        "\n",
        "\n",
        "\n",
        "\n",
        "\n"
      ],
      "metadata": {
        "id": "mFVxEszfWloL"
      }
    },
    {
      "cell_type": "code",
      "source": [
        "##Prueba En el Peor Caso elijiendo el ultimo elemento\n",
        "\n",
        "arr=[1,2,3,4,5,6,7,8]\n",
        "print(\"=======================================\")\n",
        "print(\"Arreglo inicial ordenado de manera creciente :\",arr)\n",
        "cont=quick_sort(arr, 0 , len(arr)-1,cont=0)\n",
        "print(\"Arreglo de salida :\",arr)\n",
        "print(\"Num de Comparaciones :\",cont)\n",
        "arr2=[2,4,1,3,5,8,7,6]\n",
        "print(\"=======================================\")\n",
        "print(\"Arreglo sin orden :\",arr2)\n",
        "cont=quick_sort(arr2, 0 , len(arr)-1,cont=0)\n",
        "print(\"Arreglo de salida :\",arr2)\n",
        "print(\"Num de Comparaciones :\",cont)\n"
      ],
      "metadata": {
        "id": "0ShJV1YvY1IX",
        "colab": {
          "base_uri": "https://localhost:8080/"
        },
        "outputId": "d4956bf1-b509-4d53-c7a4-e012668f0d01"
      },
      "execution_count": 67,
      "outputs": [
        {
          "output_type": "stream",
          "name": "stdout",
          "text": [
            "=======================================\n",
            "Arreglo inicial ordenado de manera creciente : [1, 2, 3, 4, 5, 6, 7, 8]\n",
            "Arreglo de salida : [1, 2, 3, 4, 5, 6, 7, 8]\n",
            "Num de Comparaciones : 14\n",
            "=======================================\n",
            "Arreglo sin orden : [2, 4, 1, 3, 5, 8, 7, 6]\n",
            "Arreglo de salida : [1, 2, 3, 4, 5, 6, 7, 8]\n",
            "Num de Comparaciones : 12\n"
          ]
        }
      ]
    },
    {
      "cell_type": "markdown",
      "source": [
        "#5. Experimentacion"
      ],
      "metadata": {
        "id": "ZGxlZquqYJLb"
      }
    },
    {
      "cell_type": "markdown",
      "source": [
        "#5.1 Comparar el número de comparaciones realizadas experimentalmente con el mejor y peor caso teóricos.\n",
        "\n"
      ],
      "metadata": {
        "id": "_npbpiw7Y1s0"
      }
    },
    {
      "cell_type": "code",
      "source": [
        "import matplotlib.pyplot as plt\n",
        "import random\n",
        "\n",
        "x=[n for n in range(5,20)] \n",
        "y1=[n*(n-1)/2 for n in range(5,20)] # worst case\n",
        "y2=[n-1 for n in range(5,20)] # best case\n",
        "y=[]; \n",
        "\n",
        "for n in range(5,20):\n",
        "  a = random.sample(range(1, 100), n)\n",
        "  counter = quick_sort(a,0,len(a)-1)\n",
        "  y.append(counter)\n",
        "\n",
        "plt.plot(x,y)\n",
        "plt.plot(x,y1)\n",
        "plt.plot(x,y2)\n",
        "plt.legend([\"Quick Sort\", \"theoretical worst case\", \"theoretical best case\"])\n",
        "\n",
        "plt.xlabel('n')\n",
        "plt.ylabel('number of operations')\n",
        "plt.show()"
      ],
      "metadata": {
        "id": "6hGBiLSQn1P2",
        "colab": {
          "base_uri": "https://localhost:8080/",
          "height": 279
        },
        "outputId": "fd4cd29c-a260-419c-e3d7-2a7f02297385"
      },
      "execution_count": 84,
      "outputs": [
        {
          "output_type": "display_data",
          "data": {
            "text/plain": [
              "<Figure size 432x288 with 1 Axes>"
            ],
            "image/png": "[encoded data removed]"
          },
          "metadata": {
            "needs_background": "light"
          }
        }
      ]
    },
    {
      "cell_type": "markdown",
      "source": [
        "En esta experimentacion podemos observar como, el caso promedio de utilizacion del quicksort es bien parecido al mejor de los caso, ademas vemos como el peor caso, la utilizacion del quicksort no es optima."
      ],
      "metadata": {
        "id": "NsHQUG7jhuoG"
      }
    },
    {
      "cell_type": "markdown",
      "source": [
        "#5.2 Comparar el algoritmo QuickSort, con MergeSort."
      ],
      "metadata": {
        "id": "FgwpiXoLY2LW"
      }
    },
    {
      "cell_type": "markdown",
      "source": [
        "Implementacion Funcion Merge para la comparacion."
      ],
      "metadata": {
        "id": "x4dN_HnHjLTN"
      }
    },
    {
      "cell_type": "code",
      "source": [
        "def Merge(A,p,q,r):\n",
        "  arr_B = []\n",
        "  c = 0                \n",
        "  cpy_q = q            \n",
        "  cpy_p = p            \n",
        "  q+= 1                \n",
        "  while p != cpy_q+1 and q != r+1:\n",
        "    c += 1\n",
        "    if A[p] <= A[q] : arr_B.append(A[p]) ; p+= 1   \n",
        "    elif A[q] < A[p] : arr_B.append(A[q]) ; q+= 1  \n",
        "  if p == cpy_q+1:                                \n",
        "    arr_B += A[q:r+1]\n",
        "  elif  q == r+1:\n",
        "    arr_B += A[p:cpy_q+1]\n",
        "  A[cpy_p:r+1] = arr_B                             \n",
        "  return arr_B , c\n"
      ],
      "metadata": {
        "id": "Hy6kHeXjjCcN"
      },
      "execution_count": 93,
      "outputs": []
    },
    {
      "cell_type": "code",
      "source": [
        "def MergeSort(A, p, r, c = 0, i = 1, steps = 0, verbose = False):\n",
        "   queue = []                  \n",
        "   queue.append((A[p:r+1], i, steps)) \n",
        "   if p==r: return c, queue      \n",
        "   q = int((p+r)/2)              \n",
        "   c_izq, q_izq = MergeSort(A,p,q,i=i+1, steps = queue[-1][2]+1 ,verbose = verbose)   \n",
        "   if verbose == True:\n",
        "     for j in q_izq:\n",
        "      queue.append(j)         \n",
        "   c_der, q_der = MergeSort(A,q+1,r,i=i+1,steps = queue[-1][2]+1 ,verbose = verbose)   \n",
        "   if verbose == True:\n",
        "     for j in q_der:\n",
        "        queue.append(j)\n",
        "   b,c = Merge(A,p,q,r)            \n",
        "   if verbose == True:\n",
        "     queue.append((b,f\"merge\",queue[-1][2]+1))\n",
        "   c += c_izq+c_de\n",
        "   if i == 1 and verbose == True:\n",
        "     mrgs = 1\n",
        "     prev = -1\n",
        "     for i in queue:\n",
        "       if i[2] == 0 : \n",
        "         print(f\"Arreglo inicial: {i[0]}\\n\") \n",
        "         prev = i[1]\n",
        "         continue\n",
        "       print(f\"Paso {i[2]}\")\n",
        "       if i[1] == \"merge\": \n",
        "         print(f\"Se ha realizado el Merge nº{mrgs}!\")\n",
        "         print(f\"Arreglos ordenados y unidos:\") \n",
        "         mrgs+=1\n",
        "       else:\n",
        "         print(\"Se ha dividido el arreglo!\")\n",
        "       print(i[0], \"\\n\")\n",
        "       print(\"-------------------------------------\")\n",
        "     print()\n",
        "     print(f\"Total comparaciones: {c}\")\n",
        "     print(\"Arreglo ordenado!\")\n",
        "   \n",
        "   return c, queue"
      ],
      "metadata": {
        "id": "ZNrJogqOoqOV"
      },
      "execution_count": 95,
      "outputs": []
    },
    {
      "cell_type": "code",
      "source": [
        "import matplotlib.pyplot as plt\n",
        "import seaborn as sns\n",
        "import datetime\n",
        "from timeit import repeat\n",
        "\n",
        "%matplotlib inline\n",
        "\n",
        "sns.set(context='notebook', style='darkgrid', palette='dark')\n",
        "\n",
        "x=[]; x2 =[]\n",
        "y=[]; y2=[]\n",
        "\n",
        "for n in range(5,400):\n",
        "\n",
        "  a = random.sample(range(1, 1000), n)\n",
        "  t = repeat(setup=\"from __main__ import MergeSort\", stmt=f\"MergeSort({a},{0},{len(a)-1})\", repeat=1, number=10)\n",
        "\n",
        "  x.append(n)\n",
        "  y.append(t)\n",
        "\n",
        "for n in range(5,400):\n",
        "\n",
        "  a = random.sample(range(1, 1000), n)\n",
        "  t = repeat(setup=\"from __main__ import quick_sort\", stmt=f\"quick_sort({a},{0},{len(a)-1})\", repeat=1, number=10)\n",
        "\n",
        "  x2.append(n)\n",
        "  y2.append(t)\n",
        "\n",
        "plt.plot(x,y)\n",
        "plt.plot(x2,y2)\n",
        "plt.legend([\"MergeSort\", \"QuickSort\"])\n",
        "\n",
        "plt.xlabel('n')\n",
        "plt.ylabel('time in ms')\n",
        "plt.show()"
      ],
      "metadata": {
        "colab": {
          "base_uri": "https://localhost:8080/",
          "height": 285
        },
        "id": "yiG2kZIFjWal",
        "outputId": "0176cde1-ac74-4880-d4e8-30974d96f2b1"
      },
      "execution_count": 92,
      "outputs": [
        {
          "output_type": "display_data",
          "data": {
            "text/plain": [
              "<Figure size 432x288 with 1 Axes>"
            ],
            "image/png": "[encoded data removed]"
          },
          "metadata": {}
        }
      ]
    },
    {
      "cell_type": "markdown",
      "source": [
        "Podemos ver en los resultados, de que a pesar de tener la misma complejidad $O(n logn$) , en la practica el QuickSort es mas eficiente que el MergeSort."
      ],
      "metadata": {
        "id": "jBCmq9XQkiTu"
      }
    },
    {
      "cell_type": "markdown",
      "source": [
        "#5.3 Comparar el rendimiento del algoritmo al modificar la selección del pivote "
      ],
      "metadata": {
        "id": "I5emZCYkY2eN"
      }
    },
    {
      "cell_type": "markdown",
      "source": [],
      "metadata": {
        "id": "6-XoJEd7mFQl"
      }
    },
    {
      "cell_type": "code",
      "source": [
        "def quick_sortLow(array, low, high):\n",
        "  cont=0\n",
        "  if low < high:\n",
        "    pi,cont = partitionLow(array, low, high,cont)\n",
        "    quick_sortLow(array, low, pi - 1)\n",
        "    quick_sortLow(array, pi + 1, high)\n",
        "    return cont"
      ],
      "metadata": {
        "id": "Z9oUYwermOmP"
      },
      "execution_count": 102,
      "outputs": []
    },
    {
      "cell_type": "code",
      "source": [
        "import matplotlib.pyplot as plt\n",
        "import seaborn as sns\n",
        "import datetime\n",
        "from timeit import repeat\n",
        "\n",
        "%matplotlib inline\n",
        "\n",
        "sns.set(context='notebook', style='darkgrid', palette='dark')\n",
        "\n",
        "x=[]; x2 =[]\n",
        "y=[]; y2=[]\n",
        "\n",
        "for n in range(5,400):\n",
        "\n",
        "  a = random.sample(range(1, 1000), n)\n",
        "  t = repeat(setup=\"from __main__ import quick_sortLow\", stmt=f\"quick_sortLow({a},{0},{len(a)-1})\", repeat=1, number=10)\n",
        "\n",
        "  x.append(n)\n",
        "  y.append(t)\n",
        "\n",
        "for n in range(5,400):\n",
        "\n",
        "  a = random.sample(range(1, 1000), n)\n",
        "  t = repeat(setup=\"from __main__ import quick_sort\", stmt=f\"quick_sort({a},{0},{len(a)-1})\", repeat=1, number=10)\n",
        "\n",
        "  x2.append(n)\n",
        "  y2.append(t)\n",
        "\n",
        "plt.plot(x,y)\n",
        "plt.plot(x2,y2)\n",
        "plt.legend([\"QuickSort Low Element\", \"QuickSort High Element\"])\n",
        "\n",
        "plt.xlabel('n')\n",
        "plt.ylabel('time in ms')\n",
        "plt.show()"
      ],
      "metadata": {
        "id": "KLhlj7TOoqmG",
        "colab": {
          "base_uri": "https://localhost:8080/",
          "height": 287
        },
        "outputId": "abfe1da1-9b0f-441d-e453-dfd1db7a9626"
      },
      "execution_count": 104,
      "outputs": [
        {
          "output_type": "display_data",
          "data": {
            "text/plain": [
              "<Figure size 432x288 with 1 Axes>"
            ],
            "image/png": "[encoded data removed]"
          },
          "metadata": {}
        }
      ]
    },
    {
      "cell_type": "markdown",
      "source": [
        "En este grafico observamos que elijiendo el ultimo o primer elemento de un arreglo, el algoritmo no es tan distinto."
      ],
      "metadata": {
        "id": "3lyg9NCDoWEs"
      }
    }
  ]
}