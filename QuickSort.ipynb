{
  "nbformat": 4,
  "nbformat_minor": 0,
  "metadata": {
    "colab": {
      "provenance": [],
      "collapsed_sections": [],
      "include_colab_link": true
    },
    "kernelspec": {
      "name": "python3",
      "display_name": "Python 3"
    },
    "language_info": {
      "name": "python"
    }
  },
  "cells": [
    {
      "cell_type": "markdown",
      "metadata": {
        "id": "view-in-github",
        "colab_type": "text"
      },
      "source": [
        "<a href=\"https://colab.research.google.com/github/Jmorgado125/ADA-Informes/blob/main/QuickSort.ipynb\" target=\"_parent\"><img src=\"https://colab.research.google.com/assets/colab-badge.svg\" alt=\"Open In Colab\"/></a>"
      ]
    },
    {
      "cell_type": "markdown",
      "source": [
        "# QUICK SORT"
      ],
      "metadata": {
        "id": "xdqoWpdM0LCV"
      }
    },
    {
      "cell_type": "markdown",
      "source": [
        "#1. Descripcion del problema\n",
        "\n",
        "##Problema de Ordenamiento de valores dentro de un arreglo\n",
        "\n",
        "*    **Entrada:**Secuencia de numeros $a_n$ sin ningun requisito de orden en la entrada $[a_1',a_2',...,a_n']$.\n",
        "*    **Salida:**Intercambio ordenado de los valores dentro de la secuencia , de manera que $[a_1 < a_2 < a_3 ... <a_n]$ de menor a mayor, o $[a_1 > a_2 > a_3 ... >a_n]$.\n",
        "\n",
        "![image](https://imgur.com/9SjgGWx.png)\n",
        "\n",
        "El algoritmo a estudiar **Quick Sort** permite la organizacion de valores y da solucion al problema.El **Quicksort** es un algoritmo de ordenamiento que tiene un tiempo de ejecución en el **peor caso** de $O(n^2)$. A pesar de ello, es un algoritmo bastante utilizado gracias a su desempeño esperado en el **caso promedio** de $Θ(n log n)$.  Además, los **factores ocultos** tras la notación son bastante pequeños.\n",
        "\n",
        "\n",
        "#2.Descripcion del algoritmo\n",
        "\n",
        "Quicksort aplica el paradigma **divide-y-vencerás**.\n",
        "\n",
        "Para ordenar un arreglo A[p..r], se realizan los siguientes procesos:\n",
        "\n",
        "- Se **divide** el arreglo en 2 sub-arreglos: A[p..q-1] y A[q+1..r] de tal forma que todos los elementos de A[p..q-1] son menores o iguales a q. A su vez los elmentos de A[q+1..r] son mayores o iguales a q.\n",
        "- Se llama a **quicksort** para ordenar los subarreglos A[p..q-1] y A[q+1..r]\n",
        "- Nada más que hacer, el arreglo **ya se encuentra ordenado**: A[p..q-1]; A[q]; A[q+1..r].\n",
        "\n",
        "Algoritmo(Pseudocodigo).\n",
        "\n",
        "![image](https://imgur.com/1Z0gFpL.png)\n",
        "\n",
        "Como podrán imaginar, la parte importante es realizada por la función **Partition**.\n",
        "\n",
        "##2.1 Implementacion funcion **Partition**."
      ],
      "metadata": {
        "id": "bmuTaKDy0ZXV"
      }
    },
    {
      "cell_type": "markdown",
      "source": [
        "\n",
        ">1.Debemos seleccionar cuatro indices, donde 1 de ellos es nuestro\n",
        "**pivote** (x).\n",
        ">\n",
        ">2.Revisar si A[j] es **mayor o menor que x**. \n",
        ">\n",
        ">3.**Si es mayor**, está todo bien.\n",
        ">\n",
        ">4.**Si es menor o igual**, intercambiamos A[j] con A[i+1] y avanzamos i.\n",
        ">\n",
        ">5.En cualquier avanzamos j=j+1."
      ],
      "metadata": {
        "id": "AZviRvEtEgd-"
      }
    },
    {
      "cell_type": "markdown",
      "source": [
        "### ⨀ Seleccionando como pivote el último elemento del arreglo.\n"
      ],
      "metadata": {
        "id": "aTGbgG-Q_oiK"
      }
    },
    {
      "cell_type": "code",
      "execution_count": null,
      "metadata": {
        "id": "zfnM7p4Yy6Rd"
      },
      "outputs": [],
      "source": [
        "def partitionHigh(array, low, high):\n",
        "  \n",
        "  pivot = array[high]   #Eleccion de pivote, como el ultimo elemento\n",
        "  i = low - 1\n",
        "  cont=0   \n",
        "  for j in range(low, high):\n",
        "    cont=+1\n",
        "    if array[j] <= pivot:\n",
        "      i = i + 1\n",
        "      (array[i], array[j]) = (array[j], array[i])\n",
        "  \n",
        "  (array[i + 1], array[high]) = (array[high], array[i + 1])\n",
        "  \n",
        "  return i + 1, cont                                                                         "
      ]
    },
    {
      "cell_type": "markdown",
      "source": [
        "### ⨀ Seleccionando como pivote el primer elemento del arreglo"
      ],
      "metadata": {
        "id": "ym8SAZfw6Lnj"
      }
    },
    {
      "cell_type": "code",
      "source": [
        "def partitionLow(arr, l, h):\n",
        "  low, high = l, h\n",
        "  if l != h and l < h:\n",
        "    pivot = arr[l]\n",
        "    low = low+1\n",
        "    while low <= high:\n",
        "      if arr[high] < pivot and arr[low] > pivot:\n",
        "        arr[high], arr[low] = arr[low], arr[high]\n",
        "      if not arr[low] > pivot:\n",
        "        low += 1\n",
        "      if not arr[high] < pivot:\n",
        "        high -= 1\n",
        "  arr[l], arr[high] = arr[high], arr[l]\n",
        "  return high"
      ],
      "metadata": {
        "id": "pX7_6G9bEnM8"
      },
      "execution_count": null,
      "outputs": []
    },
    {
      "cell_type": "markdown",
      "source": [
        "### ⨀ Seleccionando como pivote la mediana de tres elementos al azar del arreglo."
      ],
      "metadata": {
        "id": "pXw1T3f5EncW"
      }
    },
    {
      "cell_type": "code",
      "source": [],
      "metadata": {
        "id": "2gargIOqEzSG"
      },
      "execution_count": null,
      "outputs": []
    },
    {
      "cell_type": "markdown",
      "source": [
        "##2.2 Implementacion Algoritmo **QuickSort**"
      ],
      "metadata": {
        "id": "L4e1RwnxEzyG"
      }
    },
    {
      "cell_type": "code",
      "source": [
        "def quick_sort(array, low, high):\n",
        "  if low < high:\n",
        "\n",
        "    pi,cont = partitionHigh(array, low, high)\n",
        "    quick_sort(array, low, pi - 1)\n",
        "    quick_sort(array, pi + 1, high)\n",
        "    return cont\n",
        "  \n",
        "    \n",
        "  \n",
        "array = [ 10, 7, 8, 9, 1, 5]\n",
        "print(\"Arreglo inicial :\",array)\n",
        "cont=quick_sort(array, 0, len(array) - 1)\n",
        "print(\"Arreglo Ordenado :\",array,cont)\n",
        "  \n",
        "\n",
        "      "
      ],
      "metadata": {
        "colab": {
          "base_uri": "https://localhost:8080/"
        },
        "id": "R_ppgiAHGZkM",
        "outputId": "8117a51b-6d5b-41ac-9bfa-a27ec980a1eb"
      },
      "execution_count": null,
      "outputs": [
        {
          "output_type": "stream",
          "name": "stdout",
          "text": [
            "Arreglo inicial : [10, 7, 8, 9, 1, 5]\n",
            "Arreglo Ordenado : [1, 5, 7, 8, 9, 10] 1\n"
          ]
        }
      ]
    },
    {
      "cell_type": "markdown",
      "source": [
        "#3. Correctitud"
      ],
      "metadata": {
        "id": "JtmoWXr_F7Dn"
      }
    },
    {
      "cell_type": "markdown",
      "source": [
        "##3.1 Correctitud funcion Partition\n",
        "\n",
        "\n",
        "Teorema : *El algoritmo Partitionun recibe un arreglo A[p..r], lo reorganiza y retorna un índice [q] de tal forma que los elementos del arreglo A[p..q-1] son menores o iguales a A[q] y los elementos del arreglo A[q+1..r] son mayores a A[q].*\n",
        "\n",
        "Para probar usaremos la propiedad de bucle invariante.\n",
        "\n",
        "Lema: \n",
        "Al comienzo de cada iteración, se cumple que para cualquier índice k, si este esta entre p≤k≤i, entonces A[k]< A[R] (pivote), y si esta i<k<j entonces A[k]> A[R] (pivote).\n",
        "\n",
        "![image](https://imgur.com/UXNmpol.png)\n",
        "\n"
      ],
      "metadata": {
        "id": "bOTwukkcHmXm"
      }
    },
    {
      "cell_type": "markdown",
      "source": [
        "##3.2 Correctitud Algoritmo QuickSort"
      ],
      "metadata": {
        "id": "woZzUZt-Z-x_"
      }
    },
    {
      "cell_type": "markdown",
      "source": [
        "Teorema: *se supone la correctitud del algoritmo básico, y se prueba por\n",
        "inducción sobre el tamaño de la instancia que la solución\n",
        "obtenida es correcta suponiendo la correctitud de las instancias\n",
        "más chicas.*\n",
        "\n",
        "Esto quiere decir que, suponiendo la correctitud de la particion en el Arreglo $A[n]$, notamos que la primera mitad resultante de la particion \"($A[n/2]$≤(pivote))\", contiene elementos menores, que la segunda mitad \"((pivote)<$A[n/2])\", El algoritmo al ser recursivo, constantemente se va corroborando la correctitud para las subdivisones de un Arreglo.\n",
        "\n",
        "![image](https://imgur.com/1Z0gFpL.png)\n",
        "\n",
        "*En la imagen podemos ver que el algoritmo recursivo, llama a la primera mitad que resulta del partition, y luego a la segunda mitad.*"
      ],
      "metadata": {
        "id": "DV-esAYBWtWS"
      }
    },
    {
      "cell_type": "markdown",
      "source": [
        "# 4. Tiempo de ejecución\n",
        "\n",
        "### **Teorema (Tiempo de ejecución).**\n",
        "\n",
        "*El algoritmo **QuickSort** tiene un **tiempo de ejecución de** $O(n log n)$ en su mejor caso (igual el caso promedio) y $O(n)$ en el peor caso.*\n",
        "\n",
        "## Prueba del teorema\n",
        "\n",
        "\n",
        "⨀ El mejor de los casos ocurre cuando el proceso de partición siempre elige el elemento central como pivote. este proceso se puede observar en la siguiente funcion de recurrencia.\n",
        "\n",
        ">$T(n)=T(n/2)+O(n)$\n",
        "\n",
        "En este caso la solucion, va dividiendo el problema constantemente en 2, casi como un MergeSort, pero a diferencia de este el QuickSort es más rápido en la práctica, porque su ciclo interno se puede implementar de manera eficiente en la mayoría de las arquitecturas y en la mayoría de los datos del mundo real.\n",
        "\n",
        "\n",
        "⨀ El peor de los casos ocurre cuando el proceso de partición siempre elige el elemento más grande o más pequeño como pivote. y segun este metodo de eleccion el peor caso ocurriría cuando la matriz ya esté ordenada en orden creciente o decreciente. La siguiente funcion de recurrencia corresponde a lo que sucede en el peor caso.\n",
        "\n",
        ">$T(n)=T(n-1)+O(n)$\n",
        "\n",
        "\n",
        "\n",
        "\n",
        "\n"
      ],
      "metadata": {
        "id": "mFVxEszfWloL"
      }
    },
    {
      "cell_type": "code",
      "source": [],
      "metadata": {
        "id": "0ShJV1YvY1IX"
      },
      "execution_count": null,
      "outputs": []
    },
    {
      "cell_type": "markdown",
      "source": [
        "#5. Experimentacion"
      ],
      "metadata": {
        "id": "ZGxlZquqYJLb"
      }
    },
    {
      "cell_type": "markdown",
      "source": [
        "comparar el número de comparaciones realizadas experimentalmente con el mejor y peor caso teóricos.\n",
        "\n"
      ],
      "metadata": {
        "id": "_npbpiw7Y1s0"
      }
    },
    {
      "cell_type": "code",
      "source": [],
      "metadata": {
        "id": "6hGBiLSQn1P2"
      },
      "execution_count": null,
      "outputs": []
    },
    {
      "cell_type": "markdown",
      "source": [
        "comparar el algoritmo QuickSort, con MergeSort."
      ],
      "metadata": {
        "id": "FgwpiXoLY2LW"
      }
    },
    {
      "cell_type": "code",
      "source": [],
      "metadata": {
        "id": "ZNrJogqOoqOV"
      },
      "execution_count": null,
      "outputs": []
    },
    {
      "cell_type": "markdown",
      "source": [
        "comparar el rendimiento del algoritmo al modificar la selección del pivote "
      ],
      "metadata": {
        "id": "I5emZCYkY2eN"
      }
    },
    {
      "cell_type": "code",
      "source": [],
      "metadata": {
        "id": "KLhlj7TOoqmG"
      },
      "execution_count": null,
      "outputs": []
    }
  ]
}