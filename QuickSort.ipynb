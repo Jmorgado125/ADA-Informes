{
  "nbformat": 4,
  "nbformat_minor": 0,
  "metadata": {
    "colab": {
      "provenance": [],
      "authorship_tag": "ABX9TyMSFHOm0RzVRu4J/NfhTDRF",
      "include_colab_link": true
    },
    "kernelspec": {
      "name": "python3",
      "display_name": "Python 3"
    },
    "language_info": {
      "name": "python"
    }
  },
  "cells": [
    {
      "cell_type": "markdown",
      "metadata": {
        "id": "view-in-github",
        "colab_type": "text"
      },
      "source": [
        "<a href=\"https://colab.research.google.com/github/Jmorgado125/ADA-Informes/blob/main/QuickSort.ipynb\" target=\"_parent\"><img src=\"https://colab.research.google.com/assets/colab-badge.svg\" alt=\"Open In Colab\"/></a>"
      ]
    },
    {
      "cell_type": "markdown",
      "source": [
        "# QUICK SORT"
      ],
      "metadata": {
        "id": "xdqoWpdM0LCV"
      }
    },
    {
      "cell_type": "markdown",
      "source": [
        "#1. Descripcion del problema\n",
        "\n",
        "##Problema de Ordenamiento de valores dentro de un arreglo\n",
        "\n",
        "*    **Entrada:**Secuencia de numeros $a_n$ sin ningun requisito de orden en la entrada $[a_1',a_2',...,a_n']$.\n",
        "*    **Salida:**Intercambio ordenado de los valores dentro de la secuencia , de manera que $[a_1 < a_2 < a_3 ... <a_n]$ de menor a mayor, o $[a_1 > a_2 > a_3 ... >a_n]$.\n",
        "\n",
        "![image](https://imgur.com/9SjgGWx.png)\n",
        "\n",
        "El algoritmo a estudiar **Quick Sort** permite la organizacion de valores y da solucion al problema.El **Quicksort** es un algoritmo de ordenamiento que tiene un tiempo de ejecución en el **peor caso** de $O(n^2)$. A pesar de ello, es un algoritmo bastante utilizado gracias a su desempeño esperado en el **caso promedio** de $Θ(n log n)$.  Además, los **factores ocultos** tras la notación son bastante pequeños.\n",
        "\n",
        "\n",
        "#2.Descripcion del algoritmo\n",
        "\n",
        "Quicksort aplica el paradigma **divide-y-vencerás**.\n",
        "\n",
        "Para ordenar un arreglo A[p..r], se realizan los siguientes procesos:\n",
        "\n",
        "- Se **divide** el arreglo en 2 sub-arreglos: A[p..q-1] y A[q+1..r] de tal forma que todos los elementos de A[p..q-1] son menores o iguales a q. A su vez los elmentos de A[q+1..r] son mayores o iguales a q.\n",
        "- Se llama a **quicksort** para ordenar los subarreglos A[p..q-1] y A[q+1..r]\n",
        "- Nada más que hacer, el arreglo **ya se encuentra ordenado**: A[p..q-1]; A[q]; A[q+1..r].\n",
        "\n",
        "Algoritmo(Pseudocodigo).\n",
        "\n",
        "![image](https://imgur.com/1Z0gFpL.png)\n",
        "\n",
        "Como podrán imaginar, la parte importante es realizada por la función **Partition**.\n",
        "\n",
        "##2.1 Implementacion funcion **Partition**."
      ],
      "metadata": {
        "id": "bmuTaKDy0ZXV"
      }
    },
    {
      "cell_type": "markdown",
      "source": [
        "\n",
        ">1.Debemos seleccionar cuatro indices, donde 1 de ellos es nuestro\n",
        "**pivote** (x).\n",
        ">\n",
        ">2.Revisar si A[j] es **mayor o menor que x**. \n",
        ">\n",
        ">3.**Si es mayor**, está todo bien.\n",
        ">\n",
        ">4.**Si es menor o igual**, intercambiamos A[j] con A[i+1] y avanzamos i.\n",
        ">\n",
        ">5.En cualquier avanzamos j=j+1."
      ],
      "metadata": {
        "id": "AZviRvEtEgd-"
      }
    },
    {
      "cell_type": "markdown",
      "source": [
        "### ⨀ Seleccionando como pivote el último elemento del arreglo.\n"
      ],
      "metadata": {
        "id": "aTGbgG-Q_oiK"
      }
    },
    {
      "cell_type": "code",
      "execution_count": 3,
      "metadata": {
        "id": "zfnM7p4Yy6Rd"
      },
      "outputs": [],
      "source": [
        "def partitionHigh(array, low, high):\n",
        "  \n",
        "  pivot = array[high]   #Eleccion de pivote, como el ultimo elemento\n",
        "  i = low - 1           #declarar indice i \n",
        "  cont=0\n",
        "  for j in range(low, high):\n",
        "    if array[j] <= pivot:\n",
        "      i = i + 1\n",
        "      cont += 1\n",
        "      (array[i], array[j]) = (array[j], array[i])\n",
        "  \n",
        "  (array[i + 1], array[high]) = (array[high], array[i + 1])\n",
        "  \n",
        "  return i + 1,cont                                                                           "
      ]
    },
    {
      "cell_type": "markdown",
      "source": [
        "### ⨀ Seleccionando como pivote el primer elemento del arreglo"
      ],
      "metadata": {
        "id": "ym8SAZfw6Lnj"
      }
    },
    {
      "cell_type": "code",
      "source": [
        "def partitionLow(array, low, high):\n",
        "  \n",
        "  pivot = array[low]   #Eleccion de pivote, como el primer elemento\n",
        "  i = low - 1           #declarar indice i \n",
        "  cont=0\n",
        "  for j in range(low, high):\n",
        "    if array[j] <= pivot:\n",
        "      i = i + 1\n",
        "      cont += 1\n",
        "      (array[i], array[j]) = (array[j], array[i])\n",
        "  \n",
        "  (array[i + 1], array[high]) = (array[high], array[i + 1])\n",
        "  \n",
        "  return i + 1,cont    "
      ],
      "metadata": {
        "id": "pX7_6G9bEnM8"
      },
      "execution_count": null,
      "outputs": []
    },
    {
      "cell_type": "markdown",
      "source": [
        "### ⨀ Seleccionando como pivote la mediana de tres elementos al azar del arreglo."
      ],
      "metadata": {
        "id": "pXw1T3f5EncW"
      }
    },
    {
      "cell_type": "code",
      "source": [],
      "metadata": {
        "id": "2gargIOqEzSG"
      },
      "execution_count": null,
      "outputs": []
    },
    {
      "cell_type": "markdown",
      "source": [
        "##2.2 Implementacion Algoritmo **QuickSort**"
      ],
      "metadata": {
        "id": "L4e1RwnxEzyG"
      }
    },
    {
      "cell_type": "code",
      "source": [
        "def quick_sort(array, low, high):\n",
        "  if low < high:\n",
        "\n",
        "    pi = partitionHigh(array, low, high)\n",
        "    quick_sort(array, low, pi - 1)\n",
        "    quick_sort(array, pi + 1, high)\n",
        "  \n",
        "    \n",
        "    \n",
        "array = [ 10, 7, 8, 9, 1, 5]\n",
        "print(\"Arreglo inicial :\",array)\n",
        "quick_sort(array, 0, len(array) - 1)\n",
        "print(\"Arreglo Ordenado :\",array)\n",
        "  \n",
        "\n",
        "      "
      ],
      "metadata": {
        "colab": {
          "base_uri": "https://localhost:8080/"
        },
        "id": "R_ppgiAHGZkM",
        "outputId": "bdfc1f72-37a4-49a3-fa83-bccae5e0ace3"
      },
      "execution_count": 2,
      "outputs": [
        {
          "output_type": "stream",
          "name": "stdout",
          "text": [
            "Arreglo inicial : [10, 7, 8, 9, 1, 5]\n",
            "Arreglo Ordenado : [1, 5, 7, 8, 9, 10]\n"
          ]
        }
      ]
    },
    {
      "cell_type": "markdown",
      "source": [
        "#3. Correctitud"
      ],
      "metadata": {
        "id": "JtmoWXr_F7Dn"
      }
    },
    {
      "cell_type": "markdown",
      "source": [],
      "metadata": {
        "id": "bOTwukkcHmXm"
      }
    },
    {
      "cell_type": "markdown",
      "source": [
        "#4. Tiempo de Ejecucion\n",
        "\n"
      ],
      "metadata": {
        "id": "ifjPpqXsWlN7"
      }
    },
    {
      "cell_type": "markdown",
      "source": [],
      "metadata": {
        "id": "mFVxEszfWloL"
      }
    },
    {
      "cell_type": "markdown",
      "source": [
        "#5. Experimentacion"
      ],
      "metadata": {
        "id": "ZGxlZquqYJLb"
      }
    }
  ]
}