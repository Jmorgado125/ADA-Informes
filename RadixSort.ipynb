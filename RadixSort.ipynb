{
  "nbformat": 4,
  "nbformat_minor": 0,
  "metadata": {
    "colab": {
      "provenance": [],
      "authorship_tag": "ABX9TyPzQeIKIGWC4q8ZLhvHH4GB",
      "include_colab_link": true
    },
    "kernelspec": {
      "name": "python3",
      "display_name": "Python 3"
    },
    "language_info": {
      "name": "python"
    }
  },
  "cells": [
    {
      "cell_type": "markdown",
      "metadata": {
        "id": "view-in-github",
        "colab_type": "text"
      },
      "source": [
        "<a href=\"https://colab.research.google.com/github/Jmorgado125/ADA-Informes/blob/main/RadixSort.ipynb\" target=\"_parent\"><img src=\"https://colab.research.google.com/assets/colab-badge.svg\" alt=\"Open In Colab\"/></a>"
      ]
    },
    {
      "cell_type": "markdown",
      "source": [
        "# Radix Sort "
      ],
      "metadata": {
        "id": "kUlRq2HLDJC3"
      }
    },
    {
      "cell_type": "markdown",
      "source": [
        "##1. Descripcion del Problema \n",
        "\n",
        "Problema de Ordenamiento de elementos, ya sean valores numericos o Strings, en tiempo polinomial con la utilizacion del **Radix Sort**.\n",
        "\n",
        "*    **Entrada:**Secuencia de elementos $a_n$ sin ningun requisito de orden en la entrada $[a_1',a_2',...,a_n']$.\n",
        "*    **Salida:**Intercambio ordenado de los elementos dentro de la secuencia , de manera que $[a_1 < a_2 < a_3 ... <a_n]$ de menor a mayor, o $[a_1 > a_2 > a_3 ... >a_n]$ o tambien de orden alfabetico."
      ],
      "metadata": {
        "id": "eOIYSjQuDRKG"
      }
    },
    {
      "cell_type": "markdown",
      "source": [
        "![image](https://imgur.com/9SjgGWx.png)"
      ],
      "metadata": {
        "id": "zT7tkQnqrnQn"
      }
    },
    {
      "cell_type": "markdown",
      "source": [],
      "metadata": {
        "id": "JR230_bmGJDH"
      }
    },
    {
      "cell_type": "markdown",
      "source": [
        "El algoritmo a estudiar es el **Radix Sort**, el cual su funcion es hacer una ordenación dígito a dígito empezando por el dígito menos significativo hasta el más significativo ,su complejidad es de $O(n+k)$ en su caso promedio, y $O(n*k)$ en su peor cas . La ordenación radix utiliza el **Counting Sort** como una subrutina para ordenar."
      ],
      "metadata": {
        "id": "cXit-c8zIHHH"
      }
    },
    {
      "cell_type": "markdown",
      "source": [
        "#2.Descripcion del algoritmo"
      ],
      "metadata": {
        "id": "5xwJ0dO-GZQw"
      }
    },
    {
      "cell_type": "markdown",
      "source": [
        "El **Radix sort**, utiliza un algoritmo Estable como el **Counting Sort**, este es un algoritmo de ordenación en tiempo lineal que ordena en tiempo $O(n+k)$ cuando los elementos están en el rango de 1 a k, el problema de este algoritmo es que si los elementos van del rango de 1 a $n^2$ su complejidad es de $O(n^2)$ es por eso que se complementa con el Radix Sort ."
      ],
      "metadata": {
        "id": "JcGj-XKAOfpH"
      }
    },
    {
      "cell_type": "markdown",
      "source": [
        "El **counting sort** es estable, es decir ,los números con el mismo valor aparecen en la matriz de salida en el mismo orden que en la matriz de entrada."
      ],
      "metadata": {
        "id": "uWDdV-ADRcH3"
      }
    },
    {
      "cell_type": "markdown",
      "source": [
        "El algoritmo recibe un arreglo de entrada A y retorna un arreglo ordenado B. Además usa un arreglo auxiliar para contar elementos C.\n",
        "\n",
        "> ⨀ Para cada elemento $x$ del arreglo, usamos un contador $C[x]$ para contar los elementos menores o iguales a $x$.\n",
        ">\n",
        "> ⨀ Recorremos nuevamente el arreglo **desde el final**. Colocamos cada elemento en el arreglo de salida **directamente en la posición que le corresponde**. Por ejemplo si un elemento $x$ tiene 1**7 elementos menores o iguales** a él, lo colocamos en B[17].\n",
        ">\n",
        "> ⨀ Cada vez que coloquemos un elemento $x$, debemos reducir en 1 el contador $C[x]$."
      ],
      "metadata": {
        "id": "3UyGR7MnPAE2"
      }
    },
    {
      "cell_type": "markdown",
      "source": [
        "*Pseudocodigo*"
      ],
      "metadata": {
        "id": "lK6byitCPbmf"
      }
    },
    {
      "cell_type": "markdown",
      "source": [
        "\n",
        "![image](https://imgur.com/ZkIdZhA.png)"
      ],
      "metadata": {
        "id": "mXsIfW1_OvUw"
      }
    },
    {
      "cell_type": "markdown",
      "source": [
        "**Radix Sort** es un algoritmo de ordenación no comparativo. Evita la comparación creando y distribuyendo los elementos en cubos según su digito. Para los elementos con más de un dígito significativo, este proceso de agrupación se repite para cada dígito, conservando el orden del paso anterior, hasta que se hayan considerado todos los dígitos.\n",
        "\n",
        "\n",
        "\n",
        "\n",
        "\n"
      ],
      "metadata": {
        "id": "s-DXAHlFJqro"
      }
    },
    {
      "cell_type": "markdown",
      "source": [
        "![image](https://imgur.com/OfSO4VV.png)"
      ],
      "metadata": {
        "id": "IEiBenkurht3"
      }
    },
    {
      "cell_type": "markdown",
      "source": [
        "*Pseudocodigo*"
      ],
      "metadata": {
        "id": "Iy28Bq40lfqg"
      }
    },
    {
      "cell_type": "markdown",
      "source": [
        "![image](https://imgur.com/oMvjrGj.png)\n",
        "\n",
        "\n",
        "(*Couting sort es el metodo estable de ordenamiento*)"
      ],
      "metadata": {
        "id": "OvHdWztRPZSX"
      }
    },
    {
      "cell_type": "markdown",
      "source": [
        "##2.1 Implementacion Counting Sort"
      ],
      "metadata": {
        "id": "dKqqmZ7qmDvo"
      }
    },
    {
      "cell_type": "code",
      "source": [
        "def countingSort(arr, exp1,verbose=False):\n",
        " \n",
        "    n = len(arr)\n",
        " \n",
        "    # Arreglo final inicializado con 0\n",
        "    output = [0] * (n)\n",
        " \n",
        "    # Arreglo aux utilizado para el conteo inicializado en 0\n",
        "    count = [0] * (10)\n",
        " \n",
        "    # Contar ocurrencia de los numeros rellenando el arreglo de ocurrencia (aux)\n",
        "    for i in range(0, n):\n",
        "        index = arr[i] // exp1\n",
        "        count[index % 10] += 1\n",
        " \n",
        "    # posicion de los elementos en el arreglo de salida segun su ocuurencia - 1 \n",
        "    for i in range(1, 10):\n",
        "        count[i] += count[i - 1]\n",
        " \n",
        "    # situando los elementos en el arreglo de salida\n",
        "    i = n - 1\n",
        "    while i >= 0:\n",
        "        index = arr[i] // exp1\n",
        "        output[count[index % 10] - 1] = arr[i]\n",
        "        count[index % 10] -= 1\n",
        "        i -= 1\n",
        " \n",
        "    #Copiar los elementos del arreglo de salida en el arr principal ya ordenados\n",
        "    i = 0\n",
        "    for i in range(0, len(arr)):\n",
        "        arr[i] = output[i]"
      ],
      "metadata": {
        "id": "gCSeZ2XmmP7g"
      },
      "execution_count": null,
      "outputs": []
    },
    {
      "cell_type": "markdown",
      "source": [
        "##2.2 Implementacion Radix Sort"
      ],
      "metadata": {
        "id": "G7IwcHofmLqg"
      }
    },
    {
      "cell_type": "code",
      "source": [
        "def radixSort(arr):\n",
        " \n",
        "    # obtenemos el valor maximo del arreglo con la funcion max()\n",
        "    max1 = max(arr)\n",
        "    #Se aplica la funcion counting sort pasando por cada exp (10^i)\n",
        "    exp = 1\n",
        "    while max1 / exp >= 1:\n",
        "        countingSort(arr, exp)\n",
        "        exp *= 10\n",
        "\n",
        "array = [10,22,14,51,123,532,53,86,9,1,586]\n",
        "print(\"Arreglo inicial :\",array)\n",
        "radixSort(array)\n",
        "print(\"Arreglo Ordenado :\",array)"
      ],
      "metadata": {
        "id": "9vPFikKamQmQ",
        "outputId": "e9721172-aed9-471b-aa16-9cc426daee41",
        "colab": {
          "base_uri": "https://localhost:8080/"
        }
      },
      "execution_count": null,
      "outputs": [
        {
          "output_type": "stream",
          "name": "stdout",
          "text": [
            "Arreglo inicial : [10, 22, 14, 51, 123, 532, 53, 86, 9, 1, 586]\n",
            "Arreglo Ordenado : [1, 9, 10, 14, 22, 51, 53, 86, 123, 532, 586]\n"
          ]
        }
      ]
    },
    {
      "cell_type": "markdown",
      "source": [
        "#3. Correctitud\n",
        "\n",
        "\n",
        "\n",
        "\n",
        "\n"
      ],
      "metadata": {
        "id": "20gsfYavNlFI"
      }
    },
    {
      "cell_type": "markdown",
      "source": [
        "##3.1 Correctitud Counting Sort\n",
        "\n"
      ],
      "metadata": {
        "id": "IaUvWGmqN6o1"
      }
    },
    {
      "cell_type": "markdown",
      "source": [
        "##3.2 Correctitud Radix Sort"
      ],
      "metadata": {
        "id": "KEVGSZB4N9xX"
      }
    },
    {
      "cell_type": "markdown",
      "source": [
        "#4. Tiempo de Ejecucion"
      ],
      "metadata": {
        "id": "CFFqkldyOA1n"
      }
    },
    {
      "cell_type": "markdown",
      "source": [
        "# 5. Experimentacion"
      ],
      "metadata": {
        "id": "JFohimPpOE8I"
      }
    },
    {
      "cell_type": "markdown",
      "source": [
        "##5.1 Experimento Radix Sort vs Counting Sort"
      ],
      "metadata": {
        "id": "ctDNbFILOJ9v"
      }
    },
    {
      "cell_type": "code",
      "source": [
        "import matplotlib.pyplot as plt\n",
        "import seaborn as sns\n",
        "import datetime\n",
        "import random\n",
        "from timeit import repeat\n",
        "\n",
        "%matplotlib inline\n",
        "\n",
        "sns.set(context='notebook', style='darkgrid', palette='dark')\n",
        "\n",
        "x=[]; x2 =[]\n",
        "y=[]; y2=[]\n",
        "\n",
        "for n in range(5,1000):\n",
        "\n",
        "  a = random.sample(range(1, 1000), n)\n",
        "  t = repeat(setup=\"from __main__ import radixSort\", stmt=f\"radixSort({a})\", repeat=1, number=10)\n",
        "\n",
        "  x.append(n)\n",
        "  y.append(t)\n",
        "\n",
        "for n in range(5,1000):\n",
        "\n",
        "  a = random.sample(range(1, 1000), n)\n",
        "  t = repeat(setup=\"from __main__ import countingSort\", stmt=f\"countingSort({a},{max(a)})\", repeat=1, number=10)\n",
        "\n",
        "  x2.append(n)\n",
        "  y2.append(t)\n",
        "\n",
        "plt.plot(x,y)\n",
        "plt.plot(x2,y2)\n",
        "plt.legend([\"RadixSort\", \"CountingSort\"])\n",
        "\n",
        "plt.xlabel('n')\n",
        "plt.ylabel('time in ms')\n",
        "plt.show()"
      ],
      "metadata": {
        "id": "PQbrQUvZug0w",
        "outputId": "5b39bf62-1408-4e28-bb1f-015e7091df11",
        "colab": {
          "base_uri": "https://localhost:8080/",
          "height": 285
        }
      },
      "execution_count": null,
      "outputs": [
        {
          "output_type": "display_data",
          "data": {
            "text/plain": [
              "<Figure size 432x288 with 1 Axes>"
            ],
            "image/png": "[encoded data removed]"
          },
          "metadata": {}
        }
      ]
    },
    {
      "cell_type": "markdown",
      "source": [
        "Con el experimento notamos que el couting sort sin importar su entrada, funciona en tiempo lineal, haciendo mas eficiente que el Radix Sort."
      ],
      "metadata": {
        "id": "w5Fib4uwvcJf"
      }
    },
    {
      "cell_type": "markdown",
      "source": [
        "##5.2 Experimento Radix Sort vs Bucket Sort"
      ],
      "metadata": {
        "id": "q_pzpUX8OXPX"
      }
    },
    {
      "cell_type": "markdown",
      "source": [
        "(*implementacion bucketSort para la comparacion, notar que bucket sort utiliza el insertionsort para su ordenaiento estable*)"
      ],
      "metadata": {
        "id": "DbnmSvTItJGw"
      }
    },
    {
      "cell_type": "code",
      "source": [
        "def insertionSort(b):\n",
        "    for i in range(1, len(b)):\n",
        "        up = b[i]\n",
        "        j = i - 1\n",
        "        while j >= 0 and b[j] > up: \n",
        "            b[j + 1] = b[j]\n",
        "            j -= 1\n",
        "        b[j + 1] = up     \n",
        "    return b     \n",
        "              \n",
        "def bucketSort(x):\n",
        "    arr = []\n",
        "    slot_num = 10 \n",
        "    for i in range(slot_num):\n",
        "        arr.append([])\n",
        "    for j in x:\n",
        "        index_b = int(slot_num * j) \n",
        "        arr[index_b].append(j)\n",
        "    for i in range(slot_num):\n",
        "        arr[i] = insertionSort(arr[i])\n",
        "    k = 0\n",
        "    for i in range(slot_num):\n",
        "        for j in range(len(arr[i])):\n",
        "            x[k] = arr[i][j]\n",
        "            k += 1\n",
        "    return x"
      ],
      "metadata": {
        "id": "Na-ZuX7ds3WP"
      },
      "execution_count": 1,
      "outputs": []
    },
    {
      "cell_type": "code",
      "source": [
        "import matplotlib.pyplot as plt\n",
        "import seaborn as sns\n",
        "import datetime\n",
        "import random\n",
        "from timeit import repeat\n",
        "\n",
        "%matplotlib inline\n",
        "\n",
        "sns.set(context='notebook', style='darkgrid', palette='dark')\n",
        "\n",
        "x=[]; x2 =[]\n",
        "y=[]; y2=[]\n",
        "\n",
        "for n in range(5,400):\n",
        "\n",
        "  a = random.sample(range(0,1000), n)\n",
        "  t = repeat(setup=\"from __main__ import radixSort\", stmt=f\"radixSort({a})\", repeat=1, number=10)\n",
        "\n",
        "  x.append(n)\n",
        "  y.append(t)\n",
        "\n",
        "for n in range(5,400):\n",
        "\n",
        "  a = random.sample(range(0,1), n)\n",
        "  t = repeat(setup=\"from __main__ import bucketSort\", stmt=f\"bucketSort({a})\", repeat=1, number=10)\n",
        "\n",
        "  x2.append(n)\n",
        "  y2.append(t)\n",
        "\n",
        "plt.plot(x,y)\n",
        "plt.plot(x2,y2)\n",
        "plt.legend([\"RadixSort\", \"bucketSort\"])\n",
        "\n",
        "plt.xlabel('n')\n",
        "plt.ylabel('time in ms')\n",
        "plt.show()"
      ],
      "metadata": {
        "id": "QW5xPRSis1Ew",
        "outputId": "afc03131-3f94-44c5-b433-e18666f12da1",
        "colab": {
          "base_uri": "https://localhost:8080/",
          "height": 356
        }
      },
      "execution_count": null,
      "outputs": [
        {
          "output_type": "error",
          "ename": "ValueError",
          "evalue": "ignored",
          "traceback": [
            "\u001b[0;31m---------------------------------------------------------------------------\u001b[0m",
            "\u001b[0;31mValueError\u001b[0m                                Traceback (most recent call last)",
            "\u001b[0;32m<ipython-input-18-3cadd70550ee>\u001b[0m in \u001b[0;36m<module>\u001b[0;34m\u001b[0m\n\u001b[1;32m     22\u001b[0m \u001b[0;32mfor\u001b[0m \u001b[0mn\u001b[0m \u001b[0;32min\u001b[0m \u001b[0mrange\u001b[0m\u001b[0;34m(\u001b[0m\u001b[0;36m5\u001b[0m\u001b[0;34m,\u001b[0m\u001b[0;36m400\u001b[0m\u001b[0;34m)\u001b[0m\u001b[0;34m:\u001b[0m\u001b[0;34m\u001b[0m\u001b[0;34m\u001b[0m\u001b[0m\n\u001b[1;32m     23\u001b[0m \u001b[0;34m\u001b[0m\u001b[0m\n\u001b[0;32m---> 24\u001b[0;31m   \u001b[0ma\u001b[0m \u001b[0;34m=\u001b[0m \u001b[0mrandom\u001b[0m\u001b[0;34m.\u001b[0m\u001b[0msample\u001b[0m\u001b[0;34m(\u001b[0m\u001b[0mrange\u001b[0m\u001b[0;34m(\u001b[0m\u001b[0;36m0\u001b[0m\u001b[0;34m,\u001b[0m\u001b[0;36m1\u001b[0m\u001b[0;34m)\u001b[0m\u001b[0;34m,\u001b[0m \u001b[0mn\u001b[0m\u001b[0;34m)\u001b[0m\u001b[0;34m\u001b[0m\u001b[0;34m\u001b[0m\u001b[0m\n\u001b[0m\u001b[1;32m     25\u001b[0m   \u001b[0mt\u001b[0m \u001b[0;34m=\u001b[0m \u001b[0mrepeat\u001b[0m\u001b[0;34m(\u001b[0m\u001b[0msetup\u001b[0m\u001b[0;34m=\u001b[0m\u001b[0;34m\"from __main__ import bucketSort\"\u001b[0m\u001b[0;34m,\u001b[0m \u001b[0mstmt\u001b[0m\u001b[0;34m=\u001b[0m\u001b[0;34mf\"bucketSort({a})\"\u001b[0m\u001b[0;34m,\u001b[0m \u001b[0mrepeat\u001b[0m\u001b[0;34m=\u001b[0m\u001b[0;36m1\u001b[0m\u001b[0;34m,\u001b[0m \u001b[0mnumber\u001b[0m\u001b[0;34m=\u001b[0m\u001b[0;36m10\u001b[0m\u001b[0;34m)\u001b[0m\u001b[0;34m\u001b[0m\u001b[0;34m\u001b[0m\u001b[0m\n\u001b[1;32m     26\u001b[0m \u001b[0;34m\u001b[0m\u001b[0m\n",
            "\u001b[0;32m/usr/lib/python3.7/random.py\u001b[0m in \u001b[0;36msample\u001b[0;34m(self, population, k)\u001b[0m\n\u001b[1;32m    319\u001b[0m         \u001b[0mn\u001b[0m \u001b[0;34m=\u001b[0m \u001b[0mlen\u001b[0m\u001b[0;34m(\u001b[0m\u001b[0mpopulation\u001b[0m\u001b[0;34m)\u001b[0m\u001b[0;34m\u001b[0m\u001b[0;34m\u001b[0m\u001b[0m\n\u001b[1;32m    320\u001b[0m         \u001b[0;32mif\u001b[0m \u001b[0;32mnot\u001b[0m \u001b[0;36m0\u001b[0m \u001b[0;34m<=\u001b[0m \u001b[0mk\u001b[0m \u001b[0;34m<=\u001b[0m \u001b[0mn\u001b[0m\u001b[0;34m:\u001b[0m\u001b[0;34m\u001b[0m\u001b[0;34m\u001b[0m\u001b[0m\n\u001b[0;32m--> 321\u001b[0;31m             \u001b[0;32mraise\u001b[0m \u001b[0mValueError\u001b[0m\u001b[0;34m(\u001b[0m\u001b[0;34m\"Sample larger than population or is negative\"\u001b[0m\u001b[0;34m)\u001b[0m\u001b[0;34m\u001b[0m\u001b[0;34m\u001b[0m\u001b[0m\n\u001b[0m\u001b[1;32m    322\u001b[0m         \u001b[0mresult\u001b[0m \u001b[0;34m=\u001b[0m \u001b[0;34m[\u001b[0m\u001b[0;32mNone\u001b[0m\u001b[0;34m]\u001b[0m \u001b[0;34m*\u001b[0m \u001b[0mk\u001b[0m\u001b[0;34m\u001b[0m\u001b[0;34m\u001b[0m\u001b[0m\n\u001b[1;32m    323\u001b[0m         \u001b[0msetsize\u001b[0m \u001b[0;34m=\u001b[0m \u001b[0;36m21\u001b[0m        \u001b[0;31m# size of a small set minus size of an empty list\u001b[0m\u001b[0;34m\u001b[0m\u001b[0;34m\u001b[0m\u001b[0m\n",
            "\u001b[0;31mValueError\u001b[0m: Sample larger than population or is negative"
          ]
        }
      ]
    },
    {
      "cell_type": "markdown",
      "source": [
        "##5.3 Experimento Radix Sort vs QuickSort"
      ],
      "metadata": {
        "id": "wfRoe-t3mfBY"
      }
    },
    {
      "cell_type": "markdown",
      "source": [
        "(*Implementacion QuickSort para la comparacion con RadixSort*)"
      ],
      "metadata": {
        "id": "MAWouCWJtZu3"
      }
    },
    {
      "cell_type": "code",
      "source": [
        "def partitionHigh(array, low, high,cont):\n",
        "  \n",
        "  pivot = array[high]   #Eleccion de pivote, como el ultimo elemento\n",
        "  i = low - 1\n",
        "  ct=cont   \n",
        "  for j in range(low, high):\n",
        "    ct=ct+1\n",
        "    if array[j] <= pivot:\n",
        "      ct=ct+1\n",
        "      i = i + 1\n",
        "      (array[i], array[j]) = (array[j], array[i])\n",
        "  \n",
        "  (array[i + 1], array[high]) = (array[high], array[i + 1])\n",
        "  \n",
        "  return i + 1, ct   \n",
        "\n",
        "def quick_sort(array, low, high):\n",
        "  cont=0\n",
        "  if low < high:\n",
        "    pi,cont = partitionHigh(array, low, high,cont)\n",
        "    quick_sort(array, low, pi - 1)\n",
        "    quick_sort(array, pi + 1, high)\n",
        "    return cont "
      ],
      "metadata": {
        "id": "l-o79xYsrz9Q"
      },
      "execution_count": null,
      "outputs": []
    },
    {
      "cell_type": "code",
      "source": [
        "import matplotlib.pyplot as plt\n",
        "import seaborn as sns\n",
        "import datetime\n",
        "import random\n",
        "from timeit import repeat\n",
        "\n",
        "%matplotlib inline\n",
        "\n",
        "sns.set(context='notebook', style='darkgrid', palette='dark')\n",
        "\n",
        "x=[]; x2 =[]\n",
        "y=[]; y2=[]\n",
        "\n",
        "for n in range(5,400):\n",
        "\n",
        "  a = random.sample(range(1, 1000), n)\n",
        "  t = repeat(setup=\"from __main__ import radixSort\", stmt=f\"radixSort({a})\", repeat=1, number=10)\n",
        "\n",
        "  x.append(n)\n",
        "  y.append(t)\n",
        "\n",
        "for n in range(5,400):\n",
        "\n",
        "  a = random.sample(range(1, 1000), n)\n",
        "  t = repeat(setup=\"from __main__ import quick_sort\", stmt=f\"quick_sort({a},{0},{len(a)-1})\", repeat=1, number=10)\n",
        "\n",
        "  x2.append(n)\n",
        "  y2.append(t)\n",
        "\n",
        "plt.plot(x,y)\n",
        "plt.plot(x2,y2)\n",
        "plt.legend([\"RadixSort\", \"QuickSort\"])\n",
        "\n",
        "plt.xlabel('n')\n",
        "plt.ylabel('time in ms')\n",
        "plt.show()"
      ],
      "metadata": {
        "id": "984BtxmaryqI",
        "outputId": "71feed24-85d1-459b-8cfe-c99e6b710f07",
        "colab": {
          "base_uri": "https://localhost:8080/",
          "height": 285
        }
      },
      "execution_count": null,
      "outputs": [
        {
          "output_type": "display_data",
          "data": {
            "text/plain": [
              "<Figure size 432x288 with 1 Axes>"
            ],
            "image/png": "[encoded data removed]"
          },
          "metadata": {}
        }
      ]
    },
    {
      "cell_type": "markdown",
      "source": [
        "Podemos observar que con arreglos de n bajos es mas eficiente el QuickSort, pero luego con arreglos con n mayores, se vuelve mas eficiente la utilizacion del **RadixSort**."
      ],
      "metadata": {
        "id": "9wHBFSU1sawo"
      }
    }
  ]
}