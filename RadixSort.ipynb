{
  "nbformat": 4,
  "nbformat_minor": 0,
  "metadata": {
    "colab": {
      "provenance": [],
      "authorship_tag": "ABX9TyM+II8EtpXG3UG6CQZ8cZV3",
      "include_colab_link": true
    },
    "kernelspec": {
      "name": "python3",
      "display_name": "Python 3"
    },
    "language_info": {
      "name": "python"
    }
  },
  "cells": [
    {
      "cell_type": "markdown",
      "metadata": {
        "id": "view-in-github",
        "colab_type": "text"
      },
      "source": [
        "<a href=\"https://colab.research.google.com/github/Jmorgado125/ADA-Informes/blob/main/RadixSort.ipynb\" target=\"_parent\"><img src=\"https://colab.research.google.com/assets/colab-badge.svg\" alt=\"Open In Colab\"/></a>"
      ]
    },
    {
      "cell_type": "markdown",
      "source": [
        "# Radix Sort "
      ],
      "metadata": {
        "id": "kUlRq2HLDJC3"
      }
    },
    {
      "cell_type": "markdown",
      "source": [
        "##1. Descripcion del Problema \n",
        "\n",
        "Problema de Ordenamiento de elementos, ya sean valores numericos o Strings, en tiempo polinomial con la utilizacion del **Radix Sort**.\n",
        "\n",
        "*    **Entrada:**Secuencia de elementos $a_n$ sin ningun requisito de orden en la entrada $[a_1',a_2',...,a_n']$.\n",
        "*    **Salida:**Intercambio ordenado de los elementos dentro de la secuencia , de manera que $[a_1 < a_2 < a_3 ... <a_n]$ de menor a mayor, o $[a_1 > a_2 > a_3 ... >a_n]$ o tambien de orden alfabetico."
      ],
      "metadata": {
        "id": "eOIYSjQuDRKG"
      }
    },
    {
      "cell_type": "markdown",
      "source": [
        "![image](https://imgur.com/OfSO4VV.png)"
      ],
      "metadata": {
        "id": "JR230_bmGJDH"
      }
    },
    {
      "cell_type": "markdown",
      "source": [
        "El algoritmo a estudiar es el **Radix Sort**, el cual su funcion es hacer una ordenación dígito a dígito empezando por el dígito menos significativo hasta el más significativo ,su complejidad es de $O(n+k)$ en su caso promedio, y $O(n*k)$ en su peor cas . La ordenación radix utiliza el **Counting Sort** como una subrutina para ordenar."
      ],
      "metadata": {
        "id": "cXit-c8zIHHH"
      }
    },
    {
      "cell_type": "markdown",
      "source": [
        "#2.Descripcion del algoritmo"
      ],
      "metadata": {
        "id": "5xwJ0dO-GZQw"
      }
    },
    {
      "cell_type": "markdown",
      "source": [
        "El **Radix sort**, utiliza un algoritmo Estable como el **Counting Sort**, este es un algoritmo de ordenación en tiempo lineal que ordena en tiempo $O(n+k)$ cuando los elementos están en el rango de 1 a k, el problema de este algoritmo es que si los elementos van del rango de 1 a $n^2$ su complejidad es de $O(n^2)$ es por eso que se complementa con el Radix Sort ."
      ],
      "metadata": {
        "id": "JcGj-XKAOfpH"
      }
    },
    {
      "cell_type": "markdown",
      "source": [
        "El algoritmo recibe un arreglo de entrada A y retorna un arreglo ordenado B. Además usa un arreglo auxiliar para contar elementos C.\n",
        "\n",
        "> ⨀ Para cada elemento $x$ del arreglo, usamos un contador $C[x]$ para contar los elementos menores o iguales a $x$.\n",
        ">\n",
        "> ⨀ Recorremos nuevamente el arreglo **desde el final**. Colocamos cada elemento en el arreglo de salida **directamente en la posición que le corresponde**. Por ejemplo si un elemento $x$ tiene 1**7 elementos menores o iguales** a él, lo colocamos en B[17].\n",
        ">\n",
        "> ⨀ Cada vez que coloquemos un elemento $x$, debemos reducir en 1 el contador $C[x]$."
      ],
      "metadata": {
        "id": "3UyGR7MnPAE2"
      }
    },
    {
      "cell_type": "markdown",
      "source": [
        "*Pseudocodigo*"
      ],
      "metadata": {
        "id": "lK6byitCPbmf"
      }
    },
    {
      "cell_type": "markdown",
      "source": [
        "\n",
        "![image](https://imgur.com/ZkIdZhA.png)"
      ],
      "metadata": {
        "id": "mXsIfW1_OvUw"
      }
    },
    {
      "cell_type": "markdown",
      "source": [
        "**Radix Sort** es un algoritmo de ordenación no comparativo. Evita la comparación creando y distribuyendo los elementos en cubos según su digito. Para los elementos con más de un dígito significativo, este proceso de agrupación se repite para cada dígito, conservando el orden del paso anterior, hasta que se hayan considerado todos los dígitos.\n",
        "\n",
        "\n",
        "\n",
        "\n",
        "\n"
      ],
      "metadata": {
        "id": "s-DXAHlFJqro"
      }
    },
    {
      "cell_type": "markdown",
      "source": [],
      "metadata": {
        "id": "OvHdWztRPZSX"
      }
    },
    {
      "cell_type": "markdown",
      "source": [
        "#3. Correctitud\n",
        "\n",
        "\n",
        "\n",
        "\n",
        "\n"
      ],
      "metadata": {
        "id": "20gsfYavNlFI"
      }
    },
    {
      "cell_type": "markdown",
      "source": [
        "##3.1 Correctitud Counting Sort"
      ],
      "metadata": {
        "id": "IaUvWGmqN6o1"
      }
    },
    {
      "cell_type": "markdown",
      "source": [
        "##3.2 Correctitud Radix Sort"
      ],
      "metadata": {
        "id": "KEVGSZB4N9xX"
      }
    },
    {
      "cell_type": "markdown",
      "source": [
        "#4. Tiempo de Ejecucion"
      ],
      "metadata": {
        "id": "CFFqkldyOA1n"
      }
    },
    {
      "cell_type": "markdown",
      "source": [
        "# 5. Experimentacion"
      ],
      "metadata": {
        "id": "JFohimPpOE8I"
      }
    },
    {
      "cell_type": "markdown",
      "source": [
        "##5.1 Experimento Counting Sort vs Bucket Sort"
      ],
      "metadata": {
        "id": "ctDNbFILOJ9v"
      }
    },
    {
      "cell_type": "markdown",
      "source": [
        "##5.2 Experimento Radix Sort vs QuickSort"
      ],
      "metadata": {
        "id": "q_pzpUX8OXPX"
      }
    }
  ]
}