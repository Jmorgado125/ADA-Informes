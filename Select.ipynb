{
  "nbformat": 4,
  "nbformat_minor": 0,
  "metadata": {
    "colab": {
      "provenance": [],
      "include_colab_link": true
    },
    "kernelspec": {
      "name": "python3",
      "display_name": "Python 3"
    },
    "language_info": {
      "name": "python"
    }
  },
  "cells": [
    {
      "cell_type": "markdown",
      "metadata": {
        "id": "view-in-github",
        "colab_type": "text"
      },
      "source": [
        "<a href=\"https://colab.research.google.com/github/Jmorgado125/ADA-Informes/blob/main/Select.ipynb\" target=\"_parent\"><img src=\"https://colab.research.google.com/assets/colab-badge.svg\" alt=\"Open In Colab\"/></a>"
      ]
    },
    {
      "cell_type": "markdown",
      "source": [
        "#Select"
      ],
      "metadata": {
        "id": "RfkLJfdfKUMw"
      }
    },
    {
      "cell_type": "markdown",
      "source": [
        "##1. Descripcion del Problema\n",
        "---\n"
      ],
      "metadata": {
        "id": "XmrUFnTcKUg3"
      }
    },
    {
      "cell_type": "markdown",
      "source": [
        "### Problema de la selección, que busca la obtencion del $i-ecimo$ elemento menor (o mayor), segun su aplicacion.\n",
        "\n",
        "\n",
        "\n",
        "\n",
        "**Entrada**: Conjunto de $n$ números diferentes $A$  más un índice $i$.\n",
        "\n",
        "**Salida**: Elemento $x\\in A$, que es mayor a exactamente $i-1$ elementos de $A$.\n",
        "\n",
        "El elemento $x$ se conoce como **estadístico de orden $i$-ésimo** para el conjunto $A$.\n",
        "\n",
        "![image](https://imgur.com/xKrjMeg.png)"
      ],
      "metadata": {
        "id": "XLUhn9LCLUle"
      }
    },
    {
      "cell_type": "markdown",
      "source": [
        "##2. Descripcion Algoritmo \n",
        "---"
      ],
      "metadata": {
        "id": "2sf0MpBTLCRW"
      }
    },
    {
      "cell_type": "markdown",
      "source": [
        "Algoritmo Select es un algoritmo para encontrar el k-ésimo menor número en una lista o arreglo; a este número se le llama estadístico de orden k. Este incluye los casos de encontrar el mínimo, máximo, y la mediana. La implementacion de un algoritmo de seleccion se puede implementar el **Randomized-select** o  **Select**, la diferencia entre estos algoritmos es su meteodo en la obtencion del pivote.\n",
        "\n"
      ],
      "metadata": {
        "id": "yeJ4EDcYL0v1"
      }
    },
    {
      "cell_type": "markdown",
      "source": [
        "El algoritmo es similar a QuickSort, es decir ocupa la funcion *partition* para dividir el arreglo o lista en 2 mitades , sin embargo sólo nos quedamos con una de las particiones en cada selección: aquella que contenga el $i$-ésimo menor elemento."
      ],
      "metadata": {
        "id": "K3vkj7rtckXb"
      }
    },
    {
      "cell_type": "code",
      "source": [
        "#Implementacion Partition adaptado para entregar un pivote para el Algoritmo R-select\n",
        "from random import shuffle\n",
        "\n",
        "\n",
        "def partition(arr, lo, hi, pivot):\n",
        "    p = arr[pivot]\n",
        "    arr[hi - 1], arr[pivot] = arr[pivot], arr[hi - 1]\n",
        "    i = lo - 1\n",
        "    for j in range(lo, hi):\n",
        "        if arr[j] <= p:\n",
        "            i += 1\n",
        "            arr[i], arr[j] = arr[j], arr[i]\n",
        "    return i\n"
      ],
      "metadata": {
        "id": "1dlMf1BkclgZ"
      },
      "execution_count": 9,
      "outputs": []
    },
    {
      "cell_type": "markdown",
      "source": [
        "**Explicacion:**\n",
        "\n",
        "La funcion partition es incluida en el proceso del algoritmo de seleccion , ya que esta es utilizada para la busqueda del i-esimo elemento, esta realiza particiones del arreglo, alrededor de un pivote.\n",
        "\n",
        "En este informe trabajaremos con el algoritmo **Randomized-selected** y **Select**, la diferencia entre estos, es la eleccion del pivote para la funcion partition, en el Randomized-selected la eleccion es aleatoria y en el Select se realiza una eleccion del pivote meticulosa, con el objetivo de encontrar un pivote mas cercana a la mediana del arreglo para obtener un mejor tiempo de ejecucion."
      ],
      "metadata": {
        "id": "K8W56tVLaSQs"
      }
    },
    {
      "cell_type": "code",
      "source": [
        "#Implementacion insertion Sort para la seleccion del pivote en Algoritmo Select\n",
        "\n",
        "def insertion_Sort(arr):\n",
        "    T=0\n",
        "    # Primero se recorre el arreglo desde la pos 1 hasta n (largo).\n",
        "    for i in range(1, len(arr)):\n",
        "        \n",
        "        valor = arr[i]      #Se le asigna una variable al valor a ordenar, para mayor entendimiento.\n",
        "        k = i-1\n",
        "        while k >= 0 and valor < arr[k] : #En este ciclo es comparado el valor con el subarreglo para encontrar su pos\n",
        "              T += 1\n",
        "              arr[k + 1] = arr[k]\n",
        "              k -= 1\n",
        "        arr[k + 1] = valor #Se le asigna pos al valor.\n",
        "    \n",
        "    return arr"
      ],
      "metadata": {
        "id": "U1JC7UpLcly5"
      },
      "execution_count": 18,
      "outputs": []
    },
    {
      "cell_type": "markdown",
      "source": [
        "**Explicacion:**\n",
        "\n",
        "la funcion *insertion_sort* esta implementada para la eleccion del pivote en el algoritmo Select, este ordena los subarreglo de 5 elementos que se crean en el \n",
        "*pivot_selection* para encontrar la mediana de estos.\n",
        "\n"
      ],
      "metadata": {
        "id": "sJmlNSREbMvF"
      }
    },
    {
      "cell_type": "code",
      "source": [
        "#Funcion encargada de encontrar un pivote lo mas cercando a la poscion A[n/2] (mediana).\n",
        "def pivot_Selection(A, p, r, verbose = False):\n",
        "    if p == r : \n",
        "        if verbose == True:\n",
        "            print(f\"\\n    Mediana encontrada! {A[p]}!!\\n\")\n",
        "        return A[p]                     # Caso base de la recursion\n",
        "\n",
        "    m = []                                      # Arreglo de medianas\n",
        "\n",
        "    if verbose == True:\n",
        "        print(f\"\\n        A = [\", end=\"\")\n",
        "\n",
        "    for i in range(p,r+1, 5):\n",
        "        if i+4 <= r:\n",
        "            if verbose == True:\n",
        "                print(f\"{A[i:i+5]}\", end=\"\")\n",
        "            A[i:i+5] = insertion_Sort(A[i:i+5])  # Ordenar elementos\n",
        "            m.append(A[i+2])                    # Agregar mediana\n",
        "        else:\n",
        "            if verbose == True:\n",
        "                print(f\"{A[i:r+1]}\", end=\"\")\n",
        "            A[i:r+1] = insertion_Sort(A[i:r+1])\n",
        "            a = i + (r-i)//2\n",
        "            m.append(A[a])\n",
        "            \n",
        "    if verbose == True: \n",
        "        print(\"]\")\n",
        "        print(f\"        Lista de medianas: {m}\")\n",
        "    return pivot_Selection(m, 0, len(m)-1, verbose = verbose)"
      ],
      "metadata": {
        "id": "HZPjZ6guiPBq"
      },
      "execution_count": 11,
      "outputs": []
    },
    {
      "cell_type": "markdown",
      "source": [
        "**Explicacion:**\n",
        "\n",
        "El algoritmo recibe como entrada un arreglo $A$ de $n$ elementos.\n",
        "Se divide el arreglo $A$ en $[n/5]$ sub-conjuntos de $5$ elementos, a excepción del último que puede llegar a tener menos.\n",
        "Se ordenan estos sub-conjuntos con *InsertionSort* con tal de extraer la mediana de cada uno, almacenando estos valores en un arreglo auxiliar $m$.\n",
        "y por ultimo obtiene el pivote calculando la mediana del arreglo auxiliar de medianas $m$."
      ],
      "metadata": {
        "id": "7zrppUdPbs6z"
      }
    },
    {
      "cell_type": "code",
      "source": [
        "#Algoritmo Select\n",
        "\n",
        "def select(arr, spos):\n",
        "    lo=1\n",
        "    hi=len(arr)\n",
        "    assert lo <= spos < hi\n",
        "    pivot_Selection(arr)\n",
        "    while True:\n",
        "        pos = partition(arr, lo, hi, lo)\n",
        "        if pos == spos:\n",
        "            return arr[pos]\n",
        "        elif pos < spos:\n",
        "            lo = pos + 1\n",
        "        else:\n",
        "            hi = pos\n"
      ],
      "metadata": {
        "id": "HYflwTprcmB6"
      },
      "execution_count": 12,
      "outputs": []
    },
    {
      "cell_type": "code",
      "source": [
        "#Algoritmo Randomized Select\n",
        "\n",
        "\n",
        "\n",
        "\n",
        "def Randomized_select(arr, spos):\n",
        "    lo=1\n",
        "    hi=len(arr)\n",
        "    assert lo <= spos < hi\n",
        "    shuffle(arr)  # shuffle entrega el pivote aletorio.\n",
        "    while True:\n",
        "        pos = partition(arr, lo, hi, lo)\n",
        "        if pos == spos:\n",
        "            return arr[pos]\n",
        "        elif pos < spos:\n",
        "            lo = pos + 1\n",
        "        else:\n",
        "            hi = pos\n",
        "\n",
        "a=[1,2,41,123,32,12,3,45,8,4,7,0]\n",
        "\n",
        "print(\"Arreglo Original =\",a)\n",
        "print(\"k = 3\")\n",
        "print(\"Elemento estadistico de orden k =\",Randomized_select(a,3))\n",
        "insertion_Sort(a)\n",
        "print()\n",
        "print(\"Comprobacion de que el elemento corresponde al 3 menor elemento del arreglo\")\n",
        "print(\"Arreglo ordenado =\",a)"
      ],
      "metadata": {
        "id": "CisGCtRgd76e",
        "outputId": "efa6f79f-a60c-4886-f5f2-767d327a5ab2",
        "colab": {
          "base_uri": "https://localhost:8080/"
        }
      },
      "execution_count": 22,
      "outputs": [
        {
          "output_type": "stream",
          "name": "stdout",
          "text": [
            "Arreglo Original = [1, 2, 41, 123, 32, 12, 3, 45, 8, 4, 7, 0]\n",
            "k = 3\n",
            "Elemento estadistico de orden k = 2\n",
            "\n",
            "Comprobacion de que el elemento corresponde al 3 menor elemento del arreglo\n",
            "Arreglo ordenado = [0, 1, 2, 3, 4, 7, 8, 12, 32, 41, 45, 123]\n"
          ]
        }
      ]
    },
    {
      "cell_type": "markdown",
      "source": [
        "---\n",
        "**EJEMPLO:**\n",
        "\n",
        "Consideramos el arreglo  $a = [5,4,7,8,1,0,3,9]$\n",
        "\n",
        "$K = 2$\n",
        "\n",
        "Como primer paso, se busca un pivote a través de `pivotSelect`.\n",
        "\n",
        "1. Agrupar elementos en grupos de 5 y el resto.\n",
        "\n",
        "    $b = [[5,4,7,8,1], [0,3,9]]$\n",
        "\n",
        "2. Ordenar con `Insertion_Sort`\n",
        "\n",
        "    $b = [[1,4,5,7,8], [0,3,9]]$\n",
        "\n",
        "3. Recolectar las medianas de los grupos\n",
        "\n",
        "    $m = [5,3]$\n",
        "\n",
        "Luego, se llama recursivamente `pivot_Selection` sobre las medianas. Al tener este conjunto solamente 2 elementos usaremos el menor de ellos, $3$.\n",
        "\n",
        "Por lo tanto, nuestro pivote es $q = 3$. Se mueve el pivote al final del arreglo para proceder con la partición.\n",
        "\n",
        "$a = [5,4,7,8,1,0,9,3]$\n",
        "\n",
        "$a = [0,1,3,5,4,7,8,9]$\n",
        "\n",
        "Como el índice resultante del pivote es $q = 3$ y tiene $2$ elementos menores a él, debemos seguir buscando.\n",
        "\n",
        "Se aplica `Selection` en la mitad inferior del arreglo.\n",
        "\n",
        "\n",
        "$a_1 = [0,1]$\n",
        "\n",
        "Al obtener un nuevo pivote $q=1$ y su indice corresponde al buscado este corresponde al $i-ésimo$ elemento, puesto a que tiene $i-1$ elementos menores a él.\n",
        "\n",
        "Retornando el valor $1$.<br><br>\n",
        "\n",
        "---"
      ],
      "metadata": {
        "id": "lXND40F2cvHb"
      }
    },
    {
      "cell_type": "markdown",
      "source": [
        "##3. Correctitud\n",
        "---"
      ],
      "metadata": {
        "id": "WG9D9r8aLCvO"
      }
    },
    {
      "cell_type": "markdown",
      "source": [
        "La correctitud del algoritmo es ta dada por **induccion**,en un caso base y general.\n",
        "\n",
        "![image](https://imgur.com/bbqIZCv.png)\n",
        "\n",
        "\n",
        "*Hipótesis:*\n",
        "Select recibe un arreglo  $A$  de  n  elementos y un índice  i , retornando el valor del  i−é simo  menor elemento de  A . (o estadístico de orden  i )\n",
        "\n",
        "**Caso base**\n",
        "\n",
        "Para el caso base seleccionamos a un arreglo de un unico elemento $A[1]$, al poseer solo un elemento esa es la la posicion a retornar.\n",
        "\n",
        "**Paso inductivo**\n",
        "\n",
        "Se asume la correctitud de las particiones y que los elementos de A son unicos.\n",
        "\n",
        "Para  n  elementos, La funcion partition divide el arreglo en tres a partir del pivote obtenido por pivot_selection. Estos tres conjuntos contienen los elementos menores al pivote, el pivote, y los mayores, respectivamente.\n",
        "\n",
        "Se sabe que partition ubica el pivote en su posición correcta, por lo que si la posición del pivote coincide con el índice  i este es retornado como resultado.\n",
        "\n",
        "Si el valor asociado al estadístico de orden  i  resulta ser menor que el pivote, se buscará recursivamente el  i−é simo  elemento menor en  A1(primera divison del arreglo con elementos menores al pivote), en caso contrario si resulta que el valor estadistico es mayor su busqueda sera recursivamente en el arreglo A2 (sub arreglo con valores mayor al pivote).\n",
        "\n",
        "Ya que las llamadas recursivas a partition continuarán particionando y ubicando elementos de  A1  o  A2  según corresponda, cuando el tamaño de uno de estos sub arreglos a analizar sea  1  se habrá encontrado el valor estadistico.\n"
      ],
      "metadata": {
        "id": "_G7YvrYPL1ct"
      }
    },
    {
      "cell_type": "markdown",
      "source": [
        "##4. Analisis tiempo de Ejecucion\n",
        "---"
      ],
      "metadata": {
        "id": "HWiDkDzeLDYm"
      }
    },
    {
      "cell_type": "markdown",
      "source": [],
      "metadata": {
        "id": "deBLPiBEL2K9"
      }
    },
    {
      "cell_type": "markdown",
      "source": [
        "##5. Experimentacion\n",
        "---"
      ],
      "metadata": {
        "id": "xrJeAVPbLDqO"
      }
    },
    {
      "cell_type": "markdown",
      "source": [],
      "metadata": {
        "id": "dzP9uTlGL3Xt"
      }
    },
    {
      "cell_type": "code",
      "source": [],
      "metadata": {
        "id": "a6LPjMI_aLAc"
      },
      "execution_count": null,
      "outputs": []
    },
    {
      "cell_type": "markdown",
      "source": [],
      "metadata": {
        "id": "-V-Yer0XaLSr"
      }
    },
    {
      "cell_type": "code",
      "source": [],
      "metadata": {
        "id": "UwHEjxhdaLqD"
      },
      "execution_count": null,
      "outputs": []
    }
  ]
}