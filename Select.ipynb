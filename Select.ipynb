{
  "nbformat": 4,
  "nbformat_minor": 0,
  "metadata": {
    "colab": {
      "provenance": [],
      "authorship_tag": "ABX9TyN7ncn+CMMyiR1gELLOl06F",
      "include_colab_link": true
    },
    "kernelspec": {
      "name": "python3",
      "display_name": "Python 3"
    },
    "language_info": {
      "name": "python"
    }
  },
  "cells": [
    {
      "cell_type": "markdown",
      "metadata": {
        "id": "view-in-github",
        "colab_type": "text"
      },
      "source": [
        "<a href=\"https://colab.research.google.com/github/Jmorgado125/ADA-Informes/blob/main/Select.ipynb\" target=\"_parent\"><img src=\"https://colab.research.google.com/assets/colab-badge.svg\" alt=\"Open In Colab\"/></a>"
      ]
    },
    {
      "cell_type": "markdown",
      "source": [
        "#Select"
      ],
      "metadata": {
        "id": "RfkLJfdfKUMw"
      }
    },
    {
      "cell_type": "markdown",
      "source": [
        "##1. Descripcion del Problema\n",
        "---\n"
      ],
      "metadata": {
        "id": "XmrUFnTcKUg3"
      }
    },
    {
      "cell_type": "markdown",
      "source": [
        "### Problema de la selección, que busca la obtencion del $i-ecimo$ elemento menor (o mayor), segun su aplicacion.\n",
        "\n",
        "\n",
        "\n",
        "\n",
        "**Entrada**: Conjunto de $n$ números diferentes $A$  más un índice $i$.\n",
        "\n",
        "**Salida**: Elemento $x\\in A$, que es mayor a exactamente $i-1$ elementos de $A$.\n",
        "\n",
        "El elemento $x$ se conoce como **estadístico de orden $i$-ésimo** para el conjunto $A$.\n",
        "\n",
        "![image](https://imgur.com/xKrjMeg.png)"
      ],
      "metadata": {
        "id": "XLUhn9LCLUle"
      }
    },
    {
      "cell_type": "markdown",
      "source": [
        "##2. Descripcion Algoritmo \n",
        "---"
      ],
      "metadata": {
        "id": "2sf0MpBTLCRW"
      }
    },
    {
      "cell_type": "markdown",
      "source": [],
      "metadata": {
        "id": "yeJ4EDcYL0v1"
      }
    },
    {
      "cell_type": "markdown",
      "source": [
        "##3. Correctitud\n",
        "---"
      ],
      "metadata": {
        "id": "WG9D9r8aLCvO"
      }
    },
    {
      "cell_type": "markdown",
      "source": [],
      "metadata": {
        "id": "_G7YvrYPL1ct"
      }
    },
    {
      "cell_type": "markdown",
      "source": [
        "##4. Analisis tiempo de Ejecucion\n",
        "---"
      ],
      "metadata": {
        "id": "HWiDkDzeLDYm"
      }
    },
    {
      "cell_type": "markdown",
      "source": [],
      "metadata": {
        "id": "deBLPiBEL2K9"
      }
    },
    {
      "cell_type": "markdown",
      "source": [
        "##5. Experimentacion\n",
        "---"
      ],
      "metadata": {
        "id": "xrJeAVPbLDqO"
      }
    },
    {
      "cell_type": "markdown",
      "source": [],
      "metadata": {
        "id": "dzP9uTlGL3Xt"
      }
    }
  ]
}