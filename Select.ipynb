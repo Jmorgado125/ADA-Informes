{
  "nbformat": 4,
  "nbformat_minor": 0,
  "metadata": {
    "colab": {
      "provenance": [],
      "include_colab_link": true
    },
    "kernelspec": {
      "name": "python3",
      "display_name": "Python 3"
    },
    "language_info": {
      "name": "python"
    }
  },
  "cells": [
    {
      "cell_type": "markdown",
      "metadata": {
        "id": "view-in-github",
        "colab_type": "text"
      },
      "source": [
        "<a href=\"https://colab.research.google.com/github/Jmorgado125/ADA-Informes/blob/main/Select.ipynb\" target=\"_parent\"><img src=\"https://colab.research.google.com/assets/colab-badge.svg\" alt=\"Open In Colab\"/></a>"
      ]
    },
    {
      "cell_type": "markdown",
      "source": [
        "#Select"
      ],
      "metadata": {
        "id": "RfkLJfdfKUMw"
      }
    },
    {
      "cell_type": "markdown",
      "source": [
        "##1. Descripcion del Problema\n",
        "---\n"
      ],
      "metadata": {
        "id": "XmrUFnTcKUg3"
      }
    },
    {
      "cell_type": "markdown",
      "source": [
        "### Problema de la selección, que busca la obtencion del $i-ecimo$ elemento menor (o mayor), segun su aplicacion.\n",
        "\n",
        "\n",
        "\n",
        "\n",
        "**Entrada**: Conjunto de $n$ números diferentes $A$  más un índice $i$.\n",
        "\n",
        "**Salida**: Elemento $x\\in A$, que es mayor a exactamente $i-1$ elementos de $A$.\n",
        "\n",
        "El elemento $x$ se conoce como **estadístico de orden $i$-ésimo** para el conjunto $A$.\n",
        "\n",
        "![image](https://imgur.com/xKrjMeg.png)"
      ],
      "metadata": {
        "id": "XLUhn9LCLUle"
      }
    },
    {
      "cell_type": "markdown",
      "source": [
        "##2. Descripcion Algoritmo \n",
        "---"
      ],
      "metadata": {
        "id": "2sf0MpBTLCRW"
      }
    },
    {
      "cell_type": "markdown",
      "source": [
        "Algoritmo Select es un algoritmo para encontrar el k-ésimo menor número en una lista o arreglo; a este número se le llama estadístico de orden k. Este incluye los casos de encontrar el mínimo, máximo, y la mediana. La implementacion de un algoritmo de seleccion se puede implementar el **Randomized-select** o  **Select**, la diferencia entre estos algoritmos es su meteodo en la obtencion del pivote.\n",
        "\n"
      ],
      "metadata": {
        "id": "yeJ4EDcYL0v1"
      }
    },
    {
      "cell_type": "markdown",
      "source": [
        "El algoritmo es similar a QuickSort, es decir ocupa la funcion *partition* para dividir el arreglo o lista en 2 mitades , sin embargo sólo nos quedamos con una de las particiones en cada selección: aquella que contenga el $i$-ésimo menor elemento."
      ],
      "metadata": {
        "id": "K3vkj7rtckXb"
      }
    },
    {
      "cell_type": "code",
      "source": [
        "#Implementacion Partition adaptado para entregar un pivote para el Algoritmo R-select\n",
        "from random import shuffle\n",
        "\n",
        "\n",
        "def _partition(arr, lo, hi, pivot):\n",
        "    p = arr[pivot]\n",
        "    arr[hi - 1], arr[pivot] = arr[pivot], arr[hi - 1]\n",
        "    i = lo - 1\n",
        "    for j in range(lo, hi):\n",
        "        if arr[j] <= p:\n",
        "            i += 1\n",
        "            arr[i], arr[j] = arr[j], arr[i]\n",
        "    return i\n"
      ],
      "metadata": {
        "id": "1dlMf1BkclgZ"
      },
      "execution_count": 25,
      "outputs": []
    },
    {
      "cell_type": "code",
      "source": [
        "#Implementacion insertion Sort para la seleccion del pivote en Algoritmo Select\n",
        "\n",
        "def insertion_Sort(arr):\n",
        "    T=0\n",
        "    # Primero se recorre el arreglo desde la pos 1 hasta n (largo).\n",
        "    for i in range(1, len(arr)):\n",
        "        \n",
        "        valor = arr[i]      #Se le asigna una variable al valor a ordenar, para mayor entendimiento.\n",
        "        k = i-1\n",
        "        while k >= 0 and valor < arr[k] : #En este ciclo es comparado el valor con el subarreglo para encontrar su pos\n",
        "              T += 1\n",
        "              arr[k + 1] = arr[k]\n",
        "              k -= 1\n",
        "        arr[k + 1] = valor #Se le asigna pos al valor.\n",
        "    \n",
        "    return arr"
      ],
      "metadata": {
        "id": "U1JC7UpLcly5"
      },
      "execution_count": 33,
      "outputs": []
    },
    {
      "cell_type": "code",
      "source": [
        "#Funcion encargada de encontrar un pivote lo mas cercando a la poscion A[n/2] (mediana).\n",
        "def pivot_Selection(arr):\n",
        "  return arr[0]"
      ],
      "metadata": {
        "id": "HZPjZ6guiPBq"
      },
      "execution_count": 32,
      "outputs": []
    },
    {
      "cell_type": "code",
      "source": [
        "#Algoritmo Select\n",
        "\n",
        "def select(arr, spos):\n",
        "    lo=1\n",
        "    hi=len(arr)\n",
        "    assert lo <= spos < hi\n",
        "    pivot_Selection(arr)\n",
        "    while True:\n",
        "        pos = _partition(arr, lo, hi, lo)\n",
        "        if pos == spos:\n",
        "            return arr[pos]\n",
        "        elif pos < spos:\n",
        "            lo = pos + 1\n",
        "        else:\n",
        "            hi = pos\n"
      ],
      "metadata": {
        "id": "HYflwTprcmB6"
      },
      "execution_count": 27,
      "outputs": []
    },
    {
      "cell_type": "code",
      "source": [
        "#Algoritmo Randomized Select\n",
        "\n",
        "\n",
        "\n",
        "\n",
        "def Randomized_select(arr, spos):\n",
        "    lo=1\n",
        "    hi=len(arr)\n",
        "    assert lo <= spos < hi\n",
        "    shuffle(arr)  # shuffle entrega la aleatorización.\n",
        "    while True:\n",
        "        pos = _partition(arr, lo, hi, lo)\n",
        "        if pos == spos:\n",
        "            return arr[pos]\n",
        "        elif pos < spos:\n",
        "            lo = pos + 1\n",
        "        else:\n",
        "            hi = pos\n",
        "\n",
        "a=[1,2,41,123,32,12,3,45,8,4,7,0]\n",
        "\n",
        "print(\"Arreglo Original =\",a)\n",
        "print(\"k = 7\")\n",
        "print(\"Elemento estadistico de orden k =\",Randomized_select(a,7))"
      ],
      "metadata": {
        "id": "CisGCtRgd76e",
        "outputId": "d373b1ca-a0e9-4455-9125-7b0c7ee91fc1",
        "colab": {
          "base_uri": "https://localhost:8080/"
        }
      },
      "execution_count": 29,
      "outputs": [
        {
          "output_type": "stream",
          "name": "stdout",
          "text": [
            "Arreglo Original = [1, 2, 41, 123, 32, 12, 3, 45, 8, 4, 7, 0]\n",
            "k = 7\n",
            "Elemento estadistico de orden k = 12\n"
          ]
        }
      ]
    },
    {
      "cell_type": "markdown",
      "source": [
        "##3. Correctitud\n",
        "---"
      ],
      "metadata": {
        "id": "WG9D9r8aLCvO"
      }
    },
    {
      "cell_type": "markdown",
      "source": [],
      "metadata": {
        "id": "_G7YvrYPL1ct"
      }
    },
    {
      "cell_type": "markdown",
      "source": [
        "##4. Analisis tiempo de Ejecucion\n",
        "---"
      ],
      "metadata": {
        "id": "HWiDkDzeLDYm"
      }
    },
    {
      "cell_type": "markdown",
      "source": [],
      "metadata": {
        "id": "deBLPiBEL2K9"
      }
    },
    {
      "cell_type": "markdown",
      "source": [
        "##5. Experimentacion\n",
        "---"
      ],
      "metadata": {
        "id": "xrJeAVPbLDqO"
      }
    },
    {
      "cell_type": "markdown",
      "source": [],
      "metadata": {
        "id": "dzP9uTlGL3Xt"
      }
    }
  ]
}